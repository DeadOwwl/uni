{
 "cells": [
  {
   "cell_type": "markdown",
   "id": "bc52710b",
   "metadata": {},
   "source": [
    "# Laba 2. SDA (by Alina Kragel)"
   ]
  },
  {
   "cell_type": "code",
   "execution_count": 90,
   "id": "8446300a",
   "metadata": {},
   "outputs": [],
   "source": [
    "import pandas as pd\n",
    "import seaborn as sns\n",
    "import numpy as np\n",
    "import matplotlib.pyplot as plt\n",
    "import math\n",
    "import scipy.stats as scs\n",
    "import random\n",
    "from matplotlib.patches import Ellipse\n",
    "import matplotlib.transforms as transforms\n",
    "import statsmodels.api as sm\n",
    "import random\n",
    "\n",
    "%matplotlib inline"
   ]
  },
  {
   "cell_type": "markdown",
   "id": "275486b5",
   "metadata": {},
   "source": [
    "Data Frame:"
   ]
  },
  {
   "cell_type": "code",
   "execution_count": 3,
   "id": "2344f80c",
   "metadata": {},
   "outputs": [
    {
     "name": "stdout",
     "output_type": "stream",
     "text": [
      "(400, 4)\n",
      "<class 'pandas.core.frame.DataFrame'>\n",
      "RangeIndex: 400 entries, 0 to 399\n",
      "Data columns (total 4 columns):\n",
      " #   Column  Non-Null Count  Dtype  \n",
      "---  ------  --------------  -----  \n",
      " 0   x1      400 non-null    float64\n",
      " 1   x2      400 non-null    float64\n",
      " 2   x3      400 non-null    float64\n",
      " 3   x4      400 non-null    float64\n",
      "dtypes: float64(4)\n",
      "memory usage: 12.6 KB\n"
     ]
    },
    {
     "data": {
      "text/html": [
       "<div>\n",
       "<style scoped>\n",
       "    .dataframe tbody tr th:only-of-type {\n",
       "        vertical-align: middle;\n",
       "    }\n",
       "\n",
       "    .dataframe tbody tr th {\n",
       "        vertical-align: top;\n",
       "    }\n",
       "\n",
       "    .dataframe thead th {\n",
       "        text-align: right;\n",
       "    }\n",
       "</style>\n",
       "<table border=\"1\" class=\"dataframe\">\n",
       "  <thead>\n",
       "    <tr style=\"text-align: right;\">\n",
       "      <th></th>\n",
       "      <th>x1</th>\n",
       "      <th>x2</th>\n",
       "      <th>x3</th>\n",
       "      <th>x4</th>\n",
       "    </tr>\n",
       "  </thead>\n",
       "  <tbody>\n",
       "    <tr>\n",
       "      <th>0</th>\n",
       "      <td>2.129681</td>\n",
       "      <td>1.439458</td>\n",
       "      <td>1.781273</td>\n",
       "      <td>5.597965</td>\n",
       "    </tr>\n",
       "    <tr>\n",
       "      <th>1</th>\n",
       "      <td>0.572235</td>\n",
       "      <td>2.902113</td>\n",
       "      <td>3.068484</td>\n",
       "      <td>2.666525</td>\n",
       "    </tr>\n",
       "    <tr>\n",
       "      <th>2</th>\n",
       "      <td>1.303781</td>\n",
       "      <td>0.720650</td>\n",
       "      <td>1.659750</td>\n",
       "      <td>4.072094</td>\n",
       "    </tr>\n",
       "    <tr>\n",
       "      <th>3</th>\n",
       "      <td>-0.449557</td>\n",
       "      <td>0.010528</td>\n",
       "      <td>2.895687</td>\n",
       "      <td>2.645260</td>\n",
       "    </tr>\n",
       "    <tr>\n",
       "      <th>4</th>\n",
       "      <td>0.047289</td>\n",
       "      <td>2.251093</td>\n",
       "      <td>2.816285</td>\n",
       "      <td>3.236669</td>\n",
       "    </tr>\n",
       "    <tr>\n",
       "      <th>5</th>\n",
       "      <td>0.641085</td>\n",
       "      <td>1.920051</td>\n",
       "      <td>1.820439</td>\n",
       "      <td>1.802960</td>\n",
       "    </tr>\n",
       "    <tr>\n",
       "      <th>6</th>\n",
       "      <td>1.699260</td>\n",
       "      <td>-5.843470</td>\n",
       "      <td>0.716843</td>\n",
       "      <td>4.013191</td>\n",
       "    </tr>\n",
       "    <tr>\n",
       "      <th>7</th>\n",
       "      <td>2.298493</td>\n",
       "      <td>-1.537580</td>\n",
       "      <td>1.233963</td>\n",
       "      <td>6.345224</td>\n",
       "    </tr>\n",
       "    <tr>\n",
       "      <th>8</th>\n",
       "      <td>2.045103</td>\n",
       "      <td>2.292587</td>\n",
       "      <td>4.150068</td>\n",
       "      <td>5.524383</td>\n",
       "    </tr>\n",
       "    <tr>\n",
       "      <th>9</th>\n",
       "      <td>0.721078</td>\n",
       "      <td>-2.588911</td>\n",
       "      <td>1.863734</td>\n",
       "      <td>2.581714</td>\n",
       "    </tr>\n",
       "  </tbody>\n",
       "</table>\n",
       "</div>"
      ],
      "text/plain": [
       "         x1        x2        x3        x4\n",
       "0  2.129681  1.439458  1.781273  5.597965\n",
       "1  0.572235  2.902113  3.068484  2.666525\n",
       "2  1.303781  0.720650  1.659750  4.072094\n",
       "3 -0.449557  0.010528  2.895687  2.645260\n",
       "4  0.047289  2.251093  2.816285  3.236669\n",
       "5  0.641085  1.920051  1.820439  1.802960\n",
       "6  1.699260 -5.843470  0.716843  4.013191\n",
       "7  2.298493 -1.537580  1.233963  6.345224\n",
       "8  2.045103  2.292587  4.150068  5.524383\n",
       "9  0.721078 -2.588911  1.863734  2.581714"
      ]
     },
     "execution_count": 3,
     "metadata": {},
     "output_type": "execute_result"
    }
   ],
   "source": [
    "df = pd.read_csv(r\"C:\\Users\\aowl2\\OneDrive\\Рабочий стол\\var7.csv\", delimiter=';', decimal=',')\n",
    "print(df.shape)\n",
    "df.info()\n",
    "df.head(10)"
   ]
  },
  {
   "cell_type": "markdown",
   "id": "fb6f4689",
   "metadata": {},
   "source": [
    "Expected Values:"
   ]
  },
  {
   "cell_type": "code",
   "execution_count": 37,
   "id": "24aef1fb",
   "metadata": {},
   "outputs": [
    {
     "data": {
      "text/plain": [
       "[1.2881806669208484,\n",
       " -0.6310579754439509,\n",
       " 2.0637769628580056,\n",
       " 4.197912762267637]"
      ]
     },
     "execution_count": 37,
     "metadata": {},
     "output_type": "execute_result"
    }
   ],
   "source": [
    "expected_values_vector = [df[column].mean() for column in df.columns]\n",
    "expected_values_vector"
   ]
  },
  {
   "cell_type": "code",
   "execution_count": 5,
   "id": "753b7eb9",
   "metadata": {},
   "outputs": [
    {
     "data": {
      "text/html": [
       "<div>\n",
       "<style scoped>\n",
       "    .dataframe tbody tr th:only-of-type {\n",
       "        vertical-align: middle;\n",
       "    }\n",
       "\n",
       "    .dataframe tbody tr th {\n",
       "        vertical-align: top;\n",
       "    }\n",
       "\n",
       "    .dataframe thead th {\n",
       "        text-align: right;\n",
       "    }\n",
       "</style>\n",
       "<table border=\"1\" class=\"dataframe\">\n",
       "  <thead>\n",
       "    <tr style=\"text-align: right;\">\n",
       "      <th></th>\n",
       "      <th>x1</th>\n",
       "      <th>x2</th>\n",
       "      <th>x3</th>\n",
       "      <th>x4</th>\n",
       "    </tr>\n",
       "  </thead>\n",
       "  <tbody>\n",
       "    <tr>\n",
       "      <th>x1</th>\n",
       "      <td>2.592722</td>\n",
       "      <td>1.440446</td>\n",
       "      <td>0.003727</td>\n",
       "      <td>3.420350</td>\n",
       "    </tr>\n",
       "    <tr>\n",
       "      <th>x2</th>\n",
       "      <td>1.440446</td>\n",
       "      <td>9.975961</td>\n",
       "      <td>1.171184</td>\n",
       "      <td>1.999596</td>\n",
       "    </tr>\n",
       "    <tr>\n",
       "      <th>x3</th>\n",
       "      <td>0.003727</td>\n",
       "      <td>1.171184</td>\n",
       "      <td>0.966937</td>\n",
       "      <td>0.019250</td>\n",
       "    </tr>\n",
       "    <tr>\n",
       "      <th>x4</th>\n",
       "      <td>3.420350</td>\n",
       "      <td>1.999596</td>\n",
       "      <td>0.019250</td>\n",
       "      <td>4.899217</td>\n",
       "    </tr>\n",
       "  </tbody>\n",
       "</table>\n",
       "</div>"
      ],
      "text/plain": [
       "          x1        x2        x3        x4\n",
       "x1  2.592722  1.440446  0.003727  3.420350\n",
       "x2  1.440446  9.975961  1.171184  1.999596\n",
       "x3  0.003727  1.171184  0.966937  0.019250\n",
       "x4  3.420350  1.999596  0.019250  4.899217"
      ]
     },
     "execution_count": 5,
     "metadata": {},
     "output_type": "execute_result"
    }
   ],
   "source": [
    "df.cov()"
   ]
  },
  {
   "cell_type": "code",
   "execution_count": 6,
   "id": "a678fc0b",
   "metadata": {},
   "outputs": [
    {
     "data": {
      "text/html": [
       "<div>\n",
       "<style scoped>\n",
       "    .dataframe tbody tr th:only-of-type {\n",
       "        vertical-align: middle;\n",
       "    }\n",
       "\n",
       "    .dataframe tbody tr th {\n",
       "        vertical-align: top;\n",
       "    }\n",
       "\n",
       "    .dataframe thead th {\n",
       "        text-align: right;\n",
       "    }\n",
       "</style>\n",
       "<table border=\"1\" class=\"dataframe\">\n",
       "  <thead>\n",
       "    <tr style=\"text-align: right;\">\n",
       "      <th></th>\n",
       "      <th>x1</th>\n",
       "      <th>x2</th>\n",
       "      <th>x3</th>\n",
       "      <th>x4</th>\n",
       "    </tr>\n",
       "  </thead>\n",
       "  <tbody>\n",
       "    <tr>\n",
       "      <th>x1</th>\n",
       "      <td>1.000000</td>\n",
       "      <td>0.283232</td>\n",
       "      <td>0.002354</td>\n",
       "      <td>0.959686</td>\n",
       "    </tr>\n",
       "    <tr>\n",
       "      <th>x2</th>\n",
       "      <td>0.283232</td>\n",
       "      <td>1.000000</td>\n",
       "      <td>0.377093</td>\n",
       "      <td>0.286023</td>\n",
       "    </tr>\n",
       "    <tr>\n",
       "      <th>x3</th>\n",
       "      <td>0.002354</td>\n",
       "      <td>0.377093</td>\n",
       "      <td>1.000000</td>\n",
       "      <td>0.008845</td>\n",
       "    </tr>\n",
       "    <tr>\n",
       "      <th>x4</th>\n",
       "      <td>0.959686</td>\n",
       "      <td>0.286023</td>\n",
       "      <td>0.008845</td>\n",
       "      <td>1.000000</td>\n",
       "    </tr>\n",
       "  </tbody>\n",
       "</table>\n",
       "</div>"
      ],
      "text/plain": [
       "          x1        x2        x3        x4\n",
       "x1  1.000000  0.283232  0.002354  0.959686\n",
       "x2  0.283232  1.000000  0.377093  0.286023\n",
       "x3  0.002354  0.377093  1.000000  0.008845\n",
       "x4  0.959686  0.286023  0.008845  1.000000"
      ]
     },
     "execution_count": 6,
     "metadata": {},
     "output_type": "execute_result"
    }
   ],
   "source": [
    "df.corr()"
   ]
  },
  {
   "cell_type": "code",
   "execution_count": 7,
   "id": "ded29d1c",
   "metadata": {},
   "outputs": [
    {
     "data": {
      "image/png": "[encoded data removed]",
      "text/plain": [
       "<Figure size 1008x504 with 4 Axes>"
      ]
     },
     "metadata": {
      "needs_background": "light"
     },
     "output_type": "display_data"
    }
   ],
   "source": [
    "fig, axs = plt.subplots(1, 4, figsize=(14,7))\n",
    "plt.subplots_adjust(wspace=0.5)\n",
    "axs[0].hist(df['x1'], color = 'aquamarine')\n",
    "axs[0].set_title('x1')\n",
    "axs[1].hist(df['x2'], color='lime')\n",
    "axs[1].set_title('x2')\n",
    "axs[2].hist(df['x3'], color='green')\n",
    "axs[2].set_title('x3')\n",
    "axs[3].hist(df['x4'], color='darkolivegreen')\n",
    "axs[3].set_title('x4')\n",
    "plt.show() # по 2 лучше"
   ]
  },
  {
   "cell_type": "code",
   "execution_count": 87,
   "id": "ca27513e",
   "metadata": {},
   "outputs": [],
   "source": [
    "df_np = df.to_numpy()\n",
    "columns_list = [[line[i] for line in df_np] for i in range(len(df_np[0]))]"
   ]
  },
  {
   "cell_type": "code",
   "execution_count": 32,
   "id": "41db3de8",
   "metadata": {},
   "outputs": [],
   "source": [
    "def test(test:callable):\n",
    "    tests = [test(c) for c in columns_list]\n",
    "    return pd.DataFrame({ \"statistic\" : [element.statistic for element in tests],\n",
    "                         \"p-value\" : [element.pvalue for element in tests]},\n",
    "                        index=['x1','x2','x3','x4'])"
   ]
  },
  {
   "cell_type": "markdown",
   "id": "e2d28bb3",
   "metadata": {},
   "source": [
    "Тест Харке-Бера"
   ]
  },
  {
   "cell_type": "code",
   "execution_count": 41,
   "id": "f69af06b",
   "metadata": {},
   "outputs": [
    {
     "data": {
      "text/html": [
       "<div>\n",
       "<style scoped>\n",
       "    .dataframe tbody tr th:only-of-type {\n",
       "        vertical-align: middle;\n",
       "    }\n",
       "\n",
       "    .dataframe tbody tr th {\n",
       "        vertical-align: top;\n",
       "    }\n",
       "\n",
       "    .dataframe thead th {\n",
       "        text-align: right;\n",
       "    }\n",
       "</style>\n",
       "<table border=\"1\" class=\"dataframe\">\n",
       "  <thead>\n",
       "    <tr style=\"text-align: right;\">\n",
       "      <th></th>\n",
       "      <th>statistic</th>\n",
       "      <th>p-value</th>\n",
       "    </tr>\n",
       "  </thead>\n",
       "  <tbody>\n",
       "    <tr>\n",
       "      <th>x1</th>\n",
       "      <td>1.694388</td>\n",
       "      <td>0.428616</td>\n",
       "    </tr>\n",
       "    <tr>\n",
       "      <th>x2</th>\n",
       "      <td>3.704649</td>\n",
       "      <td>0.156872</td>\n",
       "    </tr>\n",
       "    <tr>\n",
       "      <th>x3</th>\n",
       "      <td>1.567058</td>\n",
       "      <td>0.456791</td>\n",
       "    </tr>\n",
       "    <tr>\n",
       "      <th>x4</th>\n",
       "      <td>0.142187</td>\n",
       "      <td>0.931375</td>\n",
       "    </tr>\n",
       "  </tbody>\n",
       "</table>\n",
       "</div>"
      ],
      "text/plain": [
       "    statistic   p-value\n",
       "x1   1.694388  0.428616\n",
       "x2   3.704649  0.156872\n",
       "x3   1.567058  0.456791\n",
       "x4   0.142187  0.931375"
      ]
     },
     "execution_count": 41,
     "metadata": {},
     "output_type": "execute_result"
    }
   ],
   "source": [
    "test(lambda x: scs.jarque_bera(x))"
   ]
  },
  {
   "cell_type": "markdown",
   "id": "95a00603",
   "metadata": {},
   "source": [
    "Тест Колмагорова-Смирнова"
   ]
  },
  {
   "cell_type": "code",
   "execution_count": 42,
   "id": "4aecc1dc",
   "metadata": {},
   "outputs": [
    {
     "data": {
      "text/html": [
       "<div>\n",
       "<style scoped>\n",
       "    .dataframe tbody tr th:only-of-type {\n",
       "        vertical-align: middle;\n",
       "    }\n",
       "\n",
       "    .dataframe tbody tr th {\n",
       "        vertical-align: top;\n",
       "    }\n",
       "\n",
       "    .dataframe thead th {\n",
       "        text-align: right;\n",
       "    }\n",
       "</style>\n",
       "<table border=\"1\" class=\"dataframe\">\n",
       "  <thead>\n",
       "    <tr style=\"text-align: right;\">\n",
       "      <th></th>\n",
       "      <th>statistic</th>\n",
       "      <th>p-value</th>\n",
       "    </tr>\n",
       "  </thead>\n",
       "  <tbody>\n",
       "    <tr>\n",
       "      <th>x1</th>\n",
       "      <td>0.030808</td>\n",
       "      <td>0.830643</td>\n",
       "    </tr>\n",
       "    <tr>\n",
       "      <th>x2</th>\n",
       "      <td>0.025028</td>\n",
       "      <td>0.958198</td>\n",
       "    </tr>\n",
       "    <tr>\n",
       "      <th>x3</th>\n",
       "      <td>0.026272</td>\n",
       "      <td>0.938440</td>\n",
       "    </tr>\n",
       "    <tr>\n",
       "      <th>x4</th>\n",
       "      <td>0.035339</td>\n",
       "      <td>0.686270</td>\n",
       "    </tr>\n",
       "  </tbody>\n",
       "</table>\n",
       "</div>"
      ],
      "text/plain": [
       "    statistic   p-value\n",
       "x1   0.030808  0.830643\n",
       "x2   0.025028  0.958198\n",
       "x3   0.026272  0.938440\n",
       "x4   0.035339  0.686270"
      ]
     },
     "execution_count": 42,
     "metadata": {},
     "output_type": "execute_result"
    }
   ],
   "source": [
    "test(lambda x: scs.kstest(x,'norm', args=(np.mean(x), np.std(x))))"
   ]
  },
  {
   "cell_type": "markdown",
   "id": "f2e24948",
   "metadata": {},
   "source": [
    "Тест Шапиро-Уилка:"
   ]
  },
  {
   "cell_type": "code",
   "execution_count": 45,
   "id": "3e7281c9",
   "metadata": {},
   "outputs": [
    {
     "data": {
      "text/html": [
       "<div>\n",
       "<style scoped>\n",
       "    .dataframe tbody tr th:only-of-type {\n",
       "        vertical-align: middle;\n",
       "    }\n",
       "\n",
       "    .dataframe tbody tr th {\n",
       "        vertical-align: top;\n",
       "    }\n",
       "\n",
       "    .dataframe thead th {\n",
       "        text-align: right;\n",
       "    }\n",
       "</style>\n",
       "<table border=\"1\" class=\"dataframe\">\n",
       "  <thead>\n",
       "    <tr style=\"text-align: right;\">\n",
       "      <th></th>\n",
       "      <th>statistic</th>\n",
       "      <th>p-value</th>\n",
       "    </tr>\n",
       "  </thead>\n",
       "  <tbody>\n",
       "    <tr>\n",
       "      <th>x1</th>\n",
       "      <td>0.996135</td>\n",
       "      <td>0.441365</td>\n",
       "    </tr>\n",
       "    <tr>\n",
       "      <th>x2</th>\n",
       "      <td>0.993552</td>\n",
       "      <td>0.086048</td>\n",
       "    </tr>\n",
       "    <tr>\n",
       "      <th>x3</th>\n",
       "      <td>0.996425</td>\n",
       "      <td>0.515168</td>\n",
       "    </tr>\n",
       "    <tr>\n",
       "      <th>x4</th>\n",
       "      <td>0.996276</td>\n",
       "      <td>0.476468</td>\n",
       "    </tr>\n",
       "  </tbody>\n",
       "</table>\n",
       "</div>"
      ],
      "text/plain": [
       "    statistic   p-value\n",
       "x1   0.996135  0.441365\n",
       "x2   0.993552  0.086048\n",
       "x3   0.996425  0.515168\n",
       "x4   0.996276  0.476468"
      ]
     },
     "execution_count": 45,
     "metadata": {},
     "output_type": "execute_result"
    }
   ],
   "source": [
    "test(lambda x :scs.shapiro(x))"
   ]
  },
  {
   "cell_type": "markdown",
   "id": "ca5c1030",
   "metadata": {},
   "source": [
    "Эллипсы концентрации"
   ]
  },
  {
   "cell_type": "code",
   "execution_count": 73,
   "id": "682ae5de",
   "metadata": {},
   "outputs": [],
   "source": [
    "def confidence_ellipse(x, y, ax, n_std=3.0, facecolor='none', **kwargs):\n",
    "\n",
    "    cov = np.cov(x, y)\n",
    "    pearson = cov[0, 1]/np.sqrt(cov[0, 0] * cov[1, 1])\n",
    "    ell_radius_x = np.sqrt(1 + pearson)\n",
    "    ell_radius_y = np.sqrt(1 - pearson)\n",
    "    ellipse = Ellipse((0, 0), width=ell_radius_x * 2, height=ell_radius_y * 2,\n",
    "                      facecolor=facecolor, **kwargs)\n",
    "    scale_x = np.sqrt(cov[0, 0]) * n_std\n",
    "    mean_x = np.mean(x)\n",
    "    scale_y = np.sqrt(cov[1, 1]) * n_std\n",
    "    mean_y = np.mean(y)\n",
    "    transf = transforms.Affine2D() \\\n",
    "        .rotate_deg(45) \\\n",
    "        .scale(scale_x, scale_y) \\\n",
    "        .translate(mean_x, mean_y)\n",
    "    ellipse.set_transform(transf + ax.transData)\n",
    "    return ax.add_patch(ellipse)"
   ]
  },
  {
   "cell_type": "code",
   "execution_count": 141,
   "id": "105eaab6",
   "metadata": {},
   "outputs": [],
   "source": [
    "def conc_ellipse(x,y,title=None):\n",
    "    fig, ax = plt.subplots(figsize=(9, 9))\n",
    "    ax.scatter(x, y)\n",
    "    confidence_ellipse(x, y, ax, n_std=1, edgecolor='aquamarine', linewidth=3)\n",
    "    confidence_ellipse(x, y, ax, n_std=2, edgecolor='lime',linewidth=3)\n",
    "    confidence_ellipse(x, y, ax, n_std=3, edgecolor='green',linewidth=3)\n",
    "    ax.plot(x, y,'o', color = 'black')\n",
    "    ax.set_title(title)\n",
    "    plt.show()"
   ]
  },
  {
   "cell_type": "code",
   "execution_count": 142,
   "id": "0256884a",
   "metadata": {},
   "outputs": [
    {
     "data": {
      "image/png": "[encoded data removed]",
      "text/plain": [
       "<Figure size 648x648 with 1 Axes>"
      ]
     },
     "metadata": {
      "needs_background": "light"
     },
     "output_type": "display_data"
    }
   ],
   "source": [
    "conc_ellipse(df.x1, df.x2, title='x1(x2)')"
   ]
  },
  {
   "cell_type": "code",
   "execution_count": 143,
   "id": "e5f31a2a",
   "metadata": {},
   "outputs": [
    {
     "data": {
      "image/png": "[encoded data removed]",
      "text/plain": [
       "<Figure size 648x648 with 1 Axes>"
      ]
     },
     "metadata": {
      "needs_background": "light"
     },
     "output_type": "display_data"
    }
   ],
   "source": [
    "conc_ellipse(df.x1, df.x3, title='x1(x3)')"
   ]
  },
  {
   "cell_type": "code",
   "execution_count": 144,
   "id": "d2518da0",
   "metadata": {},
   "outputs": [
    {
     "data": {
      "image/png": "[encoded data removed]",
      "text/plain": [
       "<Figure size 648x648 with 1 Axes>"
      ]
     },
     "metadata": {
      "needs_background": "light"
     },
     "output_type": "display_data"
    }
   ],
   "source": [
    "conc_ellipse(df.x1, df.x4, title='x1(x4)')"
   ]
  },
  {
   "cell_type": "markdown",
   "id": "a6cec1e2",
   "metadata": {},
   "source": [
    "Линейные преобразования нсв"
   ]
  },
  {
   "cell_type": "code",
   "execution_count": 107,
   "id": "21c91737",
   "metadata": {},
   "outputs": [],
   "source": [
    "k1, k2, k3, k4 = 4, 10, 3, 2"
   ]
  },
  {
   "cell_type": "code",
   "execution_count": 108,
   "id": "a5bacb05",
   "metadata": {},
   "outputs": [
    {
     "data": {
      "text/html": [
       "<div>\n",
       "<style scoped>\n",
       "    .dataframe tbody tr th:only-of-type {\n",
       "        vertical-align: middle;\n",
       "    }\n",
       "\n",
       "    .dataframe tbody tr th {\n",
       "        vertical-align: top;\n",
       "    }\n",
       "\n",
       "    .dataframe thead th {\n",
       "        text-align: right;\n",
       "    }\n",
       "</style>\n",
       "<table border=\"1\" class=\"dataframe\">\n",
       "  <thead>\n",
       "    <tr style=\"text-align: right;\">\n",
       "      <th></th>\n",
       "      <th>x1</th>\n",
       "      <th>x2</th>\n",
       "      <th>x3</th>\n",
       "      <th>x4</th>\n",
       "      <th>y1</th>\n",
       "      <th>y2</th>\n",
       "    </tr>\n",
       "  </thead>\n",
       "  <tbody>\n",
       "    <tr>\n",
       "      <th>0</th>\n",
       "      <td>2.129681</td>\n",
       "      <td>1.439458</td>\n",
       "      <td>1.781273</td>\n",
       "      <td>5.597965</td>\n",
       "      <td>13.862540</td>\n",
       "      <td>25.590509</td>\n",
       "    </tr>\n",
       "    <tr>\n",
       "      <th>1</th>\n",
       "      <td>0.572235</td>\n",
       "      <td>2.902113</td>\n",
       "      <td>3.068484</td>\n",
       "      <td>2.666525</td>\n",
       "      <td>11.494394</td>\n",
       "      <td>34.354181</td>\n",
       "    </tr>\n",
       "    <tr>\n",
       "      <th>2</th>\n",
       "      <td>1.303781</td>\n",
       "      <td>0.720650</td>\n",
       "      <td>1.659750</td>\n",
       "      <td>4.072094</td>\n",
       "      <td>10.194373</td>\n",
       "      <td>15.350691</td>\n",
       "    </tr>\n",
       "    <tr>\n",
       "      <th>3</th>\n",
       "      <td>-0.449557</td>\n",
       "      <td>0.010528</td>\n",
       "      <td>2.895687</td>\n",
       "      <td>2.645260</td>\n",
       "      <td>6.888835</td>\n",
       "      <td>5.395795</td>\n",
       "    </tr>\n",
       "    <tr>\n",
       "      <th>4</th>\n",
       "      <td>0.047289</td>\n",
       "      <td>2.251093</td>\n",
       "      <td>2.816285</td>\n",
       "      <td>3.236669</td>\n",
       "      <td>8.638012</td>\n",
       "      <td>28.984268</td>\n",
       "    </tr>\n",
       "  </tbody>\n",
       "</table>\n",
       "</div>"
      ],
      "text/plain": [
       "         x1        x2        x3        x4         y1         y2\n",
       "0  2.129681  1.439458  1.781273  5.597965  13.862540  25.590509\n",
       "1  0.572235  2.902113  3.068484  2.666525  11.494394  34.354181\n",
       "2  1.303781  0.720650  1.659750  4.072094  10.194373  15.350691\n",
       "3 -0.449557  0.010528  2.895687  2.645260   6.888835   5.395795\n",
       "4  0.047289  2.251093  2.816285  3.236669   8.638012  28.984268"
      ]
     },
     "execution_count": 108,
     "metadata": {},
     "output_type": "execute_result"
    }
   ],
   "source": [
    "df_for_part_4 = df.copy()\n",
    "df_for_part_4['y1'] = k1 * df_for_part_4.x1 + k3 * df_for_part_4.x3\n",
    "df_for_part_4['y2'] = k2 * df_for_part_4.x2 + k4 * df_for_part_4.x4\n",
    "df_for_part_4.head()"
   ]
  },
  {
   "cell_type": "code",
   "execution_count": 122,
   "id": "61290e92",
   "metadata": {},
   "outputs": [
    {
     "name": "stdout",
     "output_type": "stream",
     "text": [
      "MEAN\n",
      "\n",
      "Empirical: \n",
      "\n",
      "mean(y1) = 11.344053556257409\n",
      "mean(y2) = 2.085245770095766\n",
      "\n",
      "Teoretical: \n",
      "\n",
      "11.34405355625741\n",
      "mean(y1) = 11.34405355625741\n",
      "mean(y2) = 2.0852457700957654\n"
     ]
    }
   ],
   "source": [
    "print('MEAN\\n')\n",
    "print('Empirical: \\n')\n",
    "print('mean(y1) = ' + str(np.mean(df_for_part_4.y1)))\n",
    "print('mean(y2) = ' + str(np.mean(df_for_part_4.y2)))\n",
    "print('\\nTeoretical: \\n')\n",
    "print(z)\n",
    "print('mean(y1) = ' + str(k1 * df_for_part_4.x1.mean() + k3 * df_for_part_4.x3.mean()))\n",
    "print('mean(y2) = ' + str(k2 * df_for_part_4.x2.mean() + k4 * df_for_part_4.x4.mean()))"
   ]
  },
  {
   "cell_type": "code",
   "execution_count": 123,
   "id": "081fbd12",
   "metadata": {},
   "outputs": [
    {
     "name": "stdout",
     "output_type": "stream",
     "text": [
      "Empirical:\n"
     ]
    },
    {
     "data": {
      "text/html": [
       "<div>\n",
       "<style scoped>\n",
       "    .dataframe tbody tr th:only-of-type {\n",
       "        vertical-align: middle;\n",
       "    }\n",
       "\n",
       "    .dataframe tbody tr th {\n",
       "        vertical-align: top;\n",
       "    }\n",
       "\n",
       "    .dataframe thead th {\n",
       "        text-align: right;\n",
       "    }\n",
       "</style>\n",
       "<table border=\"1\" class=\"dataframe\">\n",
       "  <thead>\n",
       "    <tr style=\"text-align: right;\">\n",
       "      <th></th>\n",
       "      <th>0</th>\n",
       "      <th>1</th>\n",
       "    </tr>\n",
       "  </thead>\n",
       "  <tbody>\n",
       "    <tr>\n",
       "      <th>0</th>\n",
       "      <td>50.275445</td>\n",
       "      <td>120.231663</td>\n",
       "    </tr>\n",
       "    <tr>\n",
       "      <th>1</th>\n",
       "      <td>120.231663</td>\n",
       "      <td>1097.176837</td>\n",
       "    </tr>\n",
       "  </tbody>\n",
       "</table>\n",
       "</div>"
      ],
      "text/plain": [
       "            0            1\n",
       "0   50.275445   120.231663\n",
       "1  120.231663  1097.176837"
      ]
     },
     "execution_count": 123,
     "metadata": {},
     "output_type": "execute_result"
    }
   ],
   "source": [
    "print('Empirical:')\n",
    "pd.DataFrame(np.cov(df_for_part_4.y1, df_for_part_4.y2))"
   ]
  },
  {
   "cell_type": "code",
   "execution_count": 140,
   "id": "737b82fe",
   "metadata": {},
   "outputs": [
    {
     "name": "stdout",
     "output_type": "stream",
     "text": [
      "138.47546045670987 133.375674836032\n"
     ]
    }
   ],
   "source": [
    "# C = np.array([[k1, k2], [k3, k4]])\n",
    "\n",
    "# cov1 = np.cov(df['x1'], df['x3'])\n",
    "# cov2 = np.cov(df['x2'], df['x4'])\n",
    "# a = np.dot(np.dot(C[0], cov1), C[0])\n",
    "# b = np.dot(np.dot(C[1], cov2), C[1])\n",
    "\n",
    "# print(a, b)"
   ]
  },
  {
   "cell_type": "code",
   "execution_count": null,
   "id": "980b46b3",
   "metadata": {},
   "outputs": [],
   "source": []
  },
  {
   "cell_type": "code",
   "execution_count": null,
   "id": "ad345b51",
   "metadata": {},
   "outputs": [],
   "source": []
  },
  {
   "cell_type": "code",
   "execution_count": null,
   "id": "f8bde6d1",
   "metadata": {},
   "outputs": [],
   "source": []
  },
  {
   "cell_type": "code",
   "execution_count": null,
   "id": "b1b19fc0",
   "metadata": {},
   "outputs": [],
   "source": []
  },
  {
   "cell_type": "markdown",
   "id": "beea1836",
   "metadata": {},
   "source": [
    "Смесь распределений"
   ]
  },
  {
   "cell_type": "code",
   "execution_count": 100,
   "id": "e476a06b",
   "metadata": {},
   "outputs": [
    {
     "data": {
      "text/html": [
       "<div>\n",
       "<style scoped>\n",
       "    .dataframe tbody tr th:only-of-type {\n",
       "        vertical-align: middle;\n",
       "    }\n",
       "\n",
       "    .dataframe tbody tr th {\n",
       "        vertical-align: top;\n",
       "    }\n",
       "\n",
       "    .dataframe thead th {\n",
       "        text-align: right;\n",
       "    }\n",
       "</style>\n",
       "<table border=\"1\" class=\"dataframe\">\n",
       "  <thead>\n",
       "    <tr style=\"text-align: right;\">\n",
       "      <th></th>\n",
       "      <th>x1</th>\n",
       "      <th>x2</th>\n",
       "      <th>x3</th>\n",
       "      <th>x4</th>\n",
       "      <th>alpha</th>\n",
       "      <th>x5</th>\n",
       "    </tr>\n",
       "  </thead>\n",
       "  <tbody>\n",
       "    <tr>\n",
       "      <th>0</th>\n",
       "      <td>2.129681</td>\n",
       "      <td>1.439458</td>\n",
       "      <td>1.781273</td>\n",
       "      <td>5.597965</td>\n",
       "      <td>1</td>\n",
       "      <td>2.129681</td>\n",
       "    </tr>\n",
       "    <tr>\n",
       "      <th>1</th>\n",
       "      <td>0.572235</td>\n",
       "      <td>2.902113</td>\n",
       "      <td>3.068484</td>\n",
       "      <td>2.666525</td>\n",
       "      <td>0</td>\n",
       "      <td>2.902113</td>\n",
       "    </tr>\n",
       "    <tr>\n",
       "      <th>2</th>\n",
       "      <td>1.303781</td>\n",
       "      <td>0.720650</td>\n",
       "      <td>1.659750</td>\n",
       "      <td>4.072094</td>\n",
       "      <td>0</td>\n",
       "      <td>0.720650</td>\n",
       "    </tr>\n",
       "    <tr>\n",
       "      <th>3</th>\n",
       "      <td>-0.449557</td>\n",
       "      <td>0.010528</td>\n",
       "      <td>2.895687</td>\n",
       "      <td>2.645260</td>\n",
       "      <td>0</td>\n",
       "      <td>0.010528</td>\n",
       "    </tr>\n",
       "    <tr>\n",
       "      <th>4</th>\n",
       "      <td>0.047289</td>\n",
       "      <td>2.251093</td>\n",
       "      <td>2.816285</td>\n",
       "      <td>3.236669</td>\n",
       "      <td>0</td>\n",
       "      <td>2.251093</td>\n",
       "    </tr>\n",
       "  </tbody>\n",
       "</table>\n",
       "</div>"
      ],
      "text/plain": [
       "         x1        x2        x3        x4  alpha        x5\n",
       "0  2.129681  1.439458  1.781273  5.597965      1  2.129681\n",
       "1  0.572235  2.902113  3.068484  2.666525      0  2.902113\n",
       "2  1.303781  0.720650  1.659750  4.072094      0  0.720650\n",
       "3 -0.449557  0.010528  2.895687  2.645260      0  0.010528\n",
       "4  0.047289  2.251093  2.816285  3.236669      0  2.251093"
      ]
     },
     "execution_count": 100,
     "metadata": {},
     "output_type": "execute_result"
    }
   ],
   "source": [
    "df_for_part_5 = df.copy()\n",
    "p_ = 0.3\n",
    "df_for_part_5['alpha'] = scs.bernoulli.rvs(size=len(df_for_part_5.x1),p=p_)\n",
    "df_for_part_5['x5'] = df_for_part_5.alpha * df_for_part_5.x1 + (1 - df_for_part_5.alpha) * df_for_part_5.x2\n",
    "df_for_part_5.head()"
   ]
  },
  {
   "cell_type": "code",
   "execution_count": 101,
   "id": "036f6792",
   "metadata": {},
   "outputs": [
    {
     "name": "stdout",
     "output_type": "stream",
     "text": [
      "Expected value: -0.11853805689556848\n",
      "Variance: 8.451175022534994\n"
     ]
    }
   ],
   "source": [
    "print('Expected value: ' + str(df_for_part_5.x5.mean()) + '\\nVariance: ' + str(df_for_part_5.x5.var()))"
   ]
  },
  {
   "cell_type": "code",
   "execution_count": 102,
   "id": "9a454a1d",
   "metadata": {},
   "outputs": [
    {
     "data": {
      "image/png": "[encoded data removed]",
      "text/plain": [
       "<Figure size 504x576 with 1 Axes>"
      ]
     },
     "metadata": {
      "needs_background": "light"
     },
     "output_type": "display_data"
    }
   ],
   "source": [
    "plt.figure(figsize = (7,8))\n",
    "plt.hist(df_for_part_5.x5, color = 'aquamarine')\n",
    "plt.show()"
   ]
  },
  {
   "cell_type": "code",
   "execution_count": 106,
   "id": "9728fa79",
   "metadata": {},
   "outputs": [
    {
     "name": "stdout",
     "output_type": "stream",
     "text": [
      "Calculated mean: -0.055286382734511086\n",
      "Calculated var: 8.534519662336002\n"
     ]
    }
   ],
   "source": [
    "cal_mean = df_for_part_5.x1.mean() * p_ + df_for_part_5.x2.mean() * (1 - p_)\n",
    "print('Calculated mean: ' + str(cal_mean))\n",
    "cal_var = sum([pi * (xi.var() + xi.mean()**2 - cal_mean**2) \n",
    "                for pi,xi in zip([p_,(1-p_)],[df.x1,df.x2])])\n",
    "print('Calculated var: ' + str(cal_var))"
   ]
  },
  {
   "cell_type": "code",
   "execution_count": null,
   "id": "4a463946",
   "metadata": {},
   "outputs": [],
   "source": []
  }
 ],
 "metadata": {
  "kernelspec": {
   "display_name": "Python 3 (ipykernel)",
   "language": "python",
   "name": "python3"
  },
  "language_info": {
   "codemirror_mode": {
    "name": "ipython",
    "version": 3
   },
   "file_extension": ".py",
   "mimetype": "text/x-python",
   "name": "python",
   "nbconvert_exporter": "python",
   "pygments_lexer": "ipython3",
   "version": "3.8.5"
  }
 },
 "nbformat": 4,
 "nbformat_minor": 5
}
