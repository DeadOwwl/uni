{
 "cells": [
  {
   "cell_type": "markdown",
   "id": "01054e5d",
   "metadata": {},
   "source": [
    "# Lab 3. SDA (by Alina Kragel)"
   ]
  },
  {
   "cell_type": "code",
   "execution_count": 483,
   "id": "26120096",
   "metadata": {},
   "outputs": [],
   "source": [
    "from scipy import stats\n",
    "import numpy as np\n",
    "import pandas as pd\n",
    "import seaborn as sb\n",
    "from sklearn.linear_model import LinearRegression\n",
    "from scipy.linalg import qr\n",
    "import matplotlib.pyplot as plt\n",
    "import pylab\n",
    "import random\n",
    "import warnings\n",
    "from sklearn.preprocessing import PolynomialFeatures\n",
    "import statsmodels.api as sm"
   ]
  },
  {
   "cell_type": "code",
   "execution_count": 484,
   "id": "a7cfe48d",
   "metadata": {},
   "outputs": [],
   "source": [
    "warnings.filterwarnings('ignore')"
   ]
  },
  {
   "cell_type": "markdown",
   "id": "be230b99",
   "metadata": {},
   "source": [
    "## Task 1."
   ]
  },
  {
   "cell_type": "code",
   "execution_count": 485,
   "id": "e2a98895",
   "metadata": {},
   "outputs": [],
   "source": [
    "N = 101"
   ]
  },
  {
   "cell_type": "code",
   "execution_count": 486,
   "id": "66b40e05",
   "metadata": {},
   "outputs": [],
   "source": [
    "def means_for_generation():\n",
    "    means = stats.uniform(-1, 3.5).rvs(3)\n",
    "    return means"
   ]
  },
  {
   "cell_type": "code",
   "execution_count": 487,
   "id": "5bbbfba0",
   "metadata": {},
   "outputs": [
    {
     "name": "stdout",
     "output_type": "stream",
     "text": [
      "Means: [-0.69485956  1.08385626  1.40736498]\n"
     ]
    }
   ],
   "source": [
    "means = means_for_generation()\n",
    "print('Means: ' + str(means))"
   ]
  },
  {
   "cell_type": "code",
   "execution_count": 488,
   "id": "fdb4eafd",
   "metadata": {},
   "outputs": [],
   "source": [
    "def cov_for_generation():\n",
    "    cov = []\n",
    "    for _ in range(3):\n",
    "        cov.append(stats.uniform(0, 1).rvs(3))\n",
    "    cov = np.matrix(data = cov)\n",
    "    cov = (cov + cov.T) / 2\n",
    "    return cov"
   ]
  },
  {
   "cell_type": "code",
   "execution_count": 489,
   "id": "25924b27",
   "metadata": {},
   "outputs": [
    {
     "name": "stdout",
     "output_type": "stream",
     "text": [
      "Covariation matrix: \n",
      "[[0.03738445 0.58097501 0.15172687]\n",
      " [0.58097501 0.55619031 0.66445705]\n",
      " [0.15172687 0.66445705 0.47839065]]\n"
     ]
    }
   ],
   "source": [
    "cov = cov_for_generation()\n",
    "print('Covariation matrix: \\n' + str(cov))"
   ]
  },
  {
   "cell_type": "code",
   "execution_count": 490,
   "id": "b72b2eb6",
   "metadata": {},
   "outputs": [],
   "source": [
    "def df_generation(means, cov):\n",
    "    df = pd.DataFrame(np.random.multivariate_normal(means, cov, N))\n",
    "    df.rename(columns={0 : 'x1', 1 : 'x2', 2 : 'x3'}, inplace=True)\n",
    "    return df"
   ]
  },
  {
   "cell_type": "code",
   "execution_count": 491,
   "id": "a963caec",
   "metadata": {},
   "outputs": [
    {
     "name": "stdout",
     "output_type": "stream",
     "text": [
      "(101, 3)\n"
     ]
    },
    {
     "data": {
      "text/html": [
       "<div>\n",
       "<style scoped>\n",
       "    .dataframe tbody tr th:only-of-type {\n",
       "        vertical-align: middle;\n",
       "    }\n",
       "\n",
       "    .dataframe tbody tr th {\n",
       "        vertical-align: top;\n",
       "    }\n",
       "\n",
       "    .dataframe thead th {\n",
       "        text-align: right;\n",
       "    }\n",
       "</style>\n",
       "<table border=\"1\" class=\"dataframe\">\n",
       "  <thead>\n",
       "    <tr style=\"text-align: right;\">\n",
       "      <th></th>\n",
       "      <th>x1</th>\n",
       "      <th>x2</th>\n",
       "      <th>x3</th>\n",
       "    </tr>\n",
       "  </thead>\n",
       "  <tbody>\n",
       "    <tr>\n",
       "      <th>0</th>\n",
       "      <td>-0.415315</td>\n",
       "      <td>1.362619</td>\n",
       "      <td>1.884346</td>\n",
       "    </tr>\n",
       "    <tr>\n",
       "      <th>1</th>\n",
       "      <td>-1.579058</td>\n",
       "      <td>0.961648</td>\n",
       "      <td>0.634279</td>\n",
       "    </tr>\n",
       "    <tr>\n",
       "      <th>2</th>\n",
       "      <td>-0.942319</td>\n",
       "      <td>0.441274</td>\n",
       "      <td>2.104073</td>\n",
       "    </tr>\n",
       "    <tr>\n",
       "      <th>3</th>\n",
       "      <td>-0.741595</td>\n",
       "      <td>-0.151759</td>\n",
       "      <td>1.575504</td>\n",
       "    </tr>\n",
       "    <tr>\n",
       "      <th>4</th>\n",
       "      <td>-0.601860</td>\n",
       "      <td>2.022728</td>\n",
       "      <td>1.541142</td>\n",
       "    </tr>\n",
       "    <tr>\n",
       "      <th>...</th>\n",
       "      <td>...</td>\n",
       "      <td>...</td>\n",
       "      <td>...</td>\n",
       "    </tr>\n",
       "    <tr>\n",
       "      <th>96</th>\n",
       "      <td>-0.480448</td>\n",
       "      <td>1.737885</td>\n",
       "      <td>2.026967</td>\n",
       "    </tr>\n",
       "    <tr>\n",
       "      <th>97</th>\n",
       "      <td>-1.788226</td>\n",
       "      <td>-1.034408</td>\n",
       "      <td>0.139006</td>\n",
       "    </tr>\n",
       "    <tr>\n",
       "      <th>98</th>\n",
       "      <td>0.088260</td>\n",
       "      <td>0.757649</td>\n",
       "      <td>2.490727</td>\n",
       "    </tr>\n",
       "    <tr>\n",
       "      <th>99</th>\n",
       "      <td>-0.881561</td>\n",
       "      <td>0.627416</td>\n",
       "      <td>1.222664</td>\n",
       "    </tr>\n",
       "    <tr>\n",
       "      <th>100</th>\n",
       "      <td>-1.379975</td>\n",
       "      <td>0.942372</td>\n",
       "      <td>0.806616</td>\n",
       "    </tr>\n",
       "  </tbody>\n",
       "</table>\n",
       "<p>101 rows × 3 columns</p>\n",
       "</div>"
      ],
      "text/plain": [
       "           x1        x2        x3\n",
       "0   -0.415315  1.362619  1.884346\n",
       "1   -1.579058  0.961648  0.634279\n",
       "2   -0.942319  0.441274  2.104073\n",
       "3   -0.741595 -0.151759  1.575504\n",
       "4   -0.601860  2.022728  1.541142\n",
       "..        ...       ...       ...\n",
       "96  -0.480448  1.737885  2.026967\n",
       "97  -1.788226 -1.034408  0.139006\n",
       "98   0.088260  0.757649  2.490727\n",
       "99  -0.881561  0.627416  1.222664\n",
       "100 -1.379975  0.942372  0.806616\n",
       "\n",
       "[101 rows x 3 columns]"
      ]
     },
     "execution_count": 491,
     "metadata": {},
     "output_type": "execute_result"
    }
   ],
   "source": [
    "df = df_generation(means, cov)\n",
    "print(df.shape)\n",
    "df"
   ]
  },
  {
   "cell_type": "markdown",
   "id": "444fa109",
   "metadata": {},
   "source": [
    "## Task 2."
   ]
  },
  {
   "cell_type": "code",
   "execution_count": 492,
   "id": "bebe3098",
   "metadata": {},
   "outputs": [],
   "source": [
    "def select_row(df):\n",
    "    selected = df.sample(n=1)\n",
    "    return selected"
   ]
  },
  {
   "cell_type": "code",
   "execution_count": 493,
   "id": "0bd190ad",
   "metadata": {},
   "outputs": [
    {
     "data": {
      "text/html": [
       "<div>\n",
       "<style scoped>\n",
       "    .dataframe tbody tr th:only-of-type {\n",
       "        vertical-align: middle;\n",
       "    }\n",
       "\n",
       "    .dataframe tbody tr th {\n",
       "        vertical-align: top;\n",
       "    }\n",
       "\n",
       "    .dataframe thead th {\n",
       "        text-align: right;\n",
       "    }\n",
       "</style>\n",
       "<table border=\"1\" class=\"dataframe\">\n",
       "  <thead>\n",
       "    <tr style=\"text-align: right;\">\n",
       "      <th></th>\n",
       "      <th>x1</th>\n",
       "      <th>x2</th>\n",
       "      <th>x3</th>\n",
       "    </tr>\n",
       "  </thead>\n",
       "  <tbody>\n",
       "    <tr>\n",
       "      <th>39</th>\n",
       "      <td>-1.147091</td>\n",
       "      <td>0.900345</td>\n",
       "      <td>0.743442</td>\n",
       "    </tr>\n",
       "  </tbody>\n",
       "</table>\n",
       "</div>"
      ],
      "text/plain": [
       "          x1        x2        x3\n",
       "39 -1.147091  0.900345  0.743442"
      ]
     },
     "execution_count": 493,
     "metadata": {},
     "output_type": "execute_result"
    }
   ],
   "source": [
    "selected = select_row(df)\n",
    "selected"
   ]
  },
  {
   "cell_type": "code",
   "execution_count": 494,
   "id": "577026f0",
   "metadata": {},
   "outputs": [],
   "source": [
    "def drop_selected(df, selected):\n",
    "    df = df.drop(index=selected.index)\n",
    "    return df"
   ]
  },
  {
   "cell_type": "code",
   "execution_count": 495,
   "id": "1d141746",
   "metadata": {},
   "outputs": [
    {
     "name": "stdout",
     "output_type": "stream",
     "text": [
      "           x1        x2        x3\n",
      "0   -0.415315  1.362619  1.884346\n",
      "1   -1.579058  0.961648  0.634279\n",
      "2   -0.942319  0.441274  2.104073\n",
      "3   -0.741595 -0.151759  1.575504\n",
      "4   -0.601860  2.022728  1.541142\n",
      "5   -0.895586  1.482167  0.940830\n",
      "6   -1.518821  1.253200  0.045910\n",
      "7    0.045761  1.680837  2.402414\n",
      "8   -0.762656 -0.188279  1.186713\n",
      "9   -0.234454  0.878015  1.732175\n",
      "10  -1.294640  0.527195  0.877136\n",
      "11  -0.804332  1.705480  1.258162\n",
      "12   0.137179  0.232306  1.901643\n",
      "13  -1.217294 -0.014458  1.017788\n",
      "14  -0.386556  0.068500  0.912314\n",
      "15  -0.109864  0.959969  2.027603\n",
      "16  -0.300805  0.748810  1.560269\n",
      "17  -1.070492 -0.014908  0.976887\n",
      "18  -1.314857  0.874594  0.916217\n",
      "19  -1.316016 -0.680232 -0.004257\n",
      "20   0.547940  0.706234  2.652169\n",
      "21  -0.717913 -0.216899  1.166882\n",
      "22  -1.145093  2.550070  1.150980\n",
      "23  -0.641656  1.711392  1.327456\n",
      "24  -1.093351  1.191528  0.441541\n",
      "25  -0.935818  1.955101  0.740954\n",
      "26  -1.233310  1.609951  0.865940\n",
      "27  -0.078377  1.985829  1.235270\n",
      "28   0.436218  2.152088  2.137287\n",
      "29  -1.216763  0.738936  0.404409\n",
      "30   0.002400  3.667601  2.674669\n",
      "31  -0.733142  0.685787  1.735235\n",
      "32  -0.437426  1.735417  1.671866\n",
      "33  -0.218452  1.298946  1.989545\n",
      "34  -0.313635  0.792141  2.051871\n",
      "35  -0.815118  1.250246  0.775441\n",
      "36  -0.116022  1.875304  1.457522\n",
      "37  -0.979898  0.288662  0.477060\n",
      "38  -1.356813 -0.206267  0.431662\n",
      "40   0.088039  0.982364  1.398416\n",
      "41  -0.199387  1.028935  0.781379\n",
      "42   0.159754  2.635233  2.941045\n",
      "43  -0.644042  0.773241  1.125587\n",
      "44  -1.435039  2.863472  1.734059\n",
      "45  -0.589848 -0.509670  1.257954\n",
      "46  -0.236058  3.057613  2.275816\n",
      "47  -0.785675  2.223235  1.719426\n",
      "48  -1.124221  0.110813  0.473956\n",
      "49  -0.882327  3.401002  2.228849\n",
      "50  -0.936903  2.042556  1.256646\n",
      "51  -0.256595  0.248024  1.047905\n",
      "52  -1.377171  0.367831  0.331630\n",
      "53  -0.089160  1.120494  1.949216\n",
      "54  -1.407888  0.306972  0.410381\n",
      "55  -0.269944  2.586246  1.707892\n",
      "56   0.149396  0.584496  0.916309\n",
      "57  -1.048248  0.353437  1.366074\n",
      "58  -0.768601 -0.518095  1.012326\n",
      "59  -0.531516  0.874502  1.282793\n",
      "60  -0.030339  1.218248  1.978189\n",
      "61  -0.582752  1.655383  2.005975\n",
      "62  -1.294024  1.274682  0.699803\n",
      "63  -1.397336  0.260834  0.343078\n",
      "64  -0.117900  1.962503  2.324800\n",
      "65  -1.101005 -0.587596  0.668064\n",
      "66  -1.020956  1.745196  1.106098\n",
      "67  -0.203364  1.994443  2.227054\n",
      "68  -1.015302  3.167952  1.738216\n",
      "69  -0.607990  1.859160  2.098455\n",
      "70  -0.441517  1.860506  2.623875\n",
      "71   0.234728  2.462215  1.757509\n",
      "72   0.100840  1.368479  1.934245\n",
      "73   0.163089  2.728007  2.611386\n",
      "74  -0.914376  1.273303  1.553870\n",
      "75  -0.936555  1.539576  1.066798\n",
      "76  -0.042549  2.415693  2.129675\n",
      "77  -0.114176  1.765074  1.284409\n",
      "78  -0.368709  1.558323  1.728234\n",
      "79   0.454376  2.009386  2.778525\n",
      "80  -2.859445  1.221009 -0.198134\n",
      "81  -0.229748  0.750801  0.553618\n",
      "82  -0.948086  0.808943  0.813540\n",
      "83  -0.534938  0.198701  1.657594\n",
      "84  -1.671454  0.134023  0.490022\n",
      "85  -0.198863  2.427799  2.329065\n",
      "86  -1.072935  1.884639  1.599638\n",
      "87  -0.223778  2.110768  1.462201\n",
      "88   1.371073  1.693573  2.713822\n",
      "89  -1.735445  0.988234  1.050346\n",
      "90  -1.645920  3.076439  1.149539\n",
      "91  -0.757211  4.115660  2.541969\n",
      "92  -0.713942  2.036359  1.384350\n",
      "93  -1.059769  2.352264  1.851240\n",
      "94   0.017969  1.218624  1.812460\n",
      "95  -0.987386  0.351793  0.105433\n",
      "96  -0.480448  1.737885  2.026967\n",
      "97  -1.788226 -1.034408  0.139006\n",
      "98   0.088260  0.757649  2.490727\n",
      "99  -0.881561  0.627416  1.222664\n",
      "100 -1.379975  0.942372  0.806616\n"
     ]
    }
   ],
   "source": [
    "df = drop_selected(df, selected)\n",
    "print(df.to_string())"
   ]
  },
  {
   "cell_type": "markdown",
   "id": "ed922524",
   "metadata": {},
   "source": [
    "## Task 3."
   ]
  },
  {
   "cell_type": "code",
   "execution_count": 496,
   "id": "7969d03b",
   "metadata": {},
   "outputs": [],
   "source": [
    "def linear_regression_model(df, printing):\n",
    "    model = LinearRegression()\n",
    "\n",
    "    X = pd.concat([df.x2, df.x3], axis=1)\n",
    "    y = df.x1\n",
    "    model.fit(X, y)\n",
    "\n",
    "    a0 = model.intercept_\n",
    "    a2 = model.coef_[0]\n",
    "    a3 = model.coef_[1]\n",
    "    \n",
    "    df['x1*'] = a0 + df.x2 * a2 + df.x3 * a3\n",
    "    df['residuals'] = df.x1 - df['x1*']\n",
    "    \n",
    "    if printing is True:\n",
    "        print('a0: ' + str(a0))\n",
    "        print('a2: ' + str(a2))\n",
    "        print('a3: ' + str(a3))\n",
    "        print('mean of residuals: ' + str(df.residuals.mean()))\n",
    "        print('variance of residuals: ' + str((df.residuals.var())))\n",
    "    # df.drop(columns={'x1*', 'residuals'}, inplace=True)\n",
    "    return model"
   ]
  },
  {
   "cell_type": "code",
   "execution_count": 497,
   "id": "3ef01396",
   "metadata": {},
   "outputs": [
    {
     "name": "stdout",
     "output_type": "stream",
     "text": [
      "a0: -1.5190462553231772\n",
      "a2: -0.13420498840575307\n",
      "a3: 0.7344789561767257\n",
      "mean of residuals: 7.549516567451065e-17\n",
      "variance of residuals: 0.1752342965256365\n"
     ]
    }
   ],
   "source": [
    "model = linear_regression_model(df, True)"
   ]
  },
  {
   "cell_type": "markdown",
   "id": "465d83ad",
   "metadata": {},
   "source": [
    "## Task 4."
   ]
  },
  {
   "cell_type": "code",
   "execution_count": 498,
   "id": "c9acec62",
   "metadata": {},
   "outputs": [],
   "source": [
    "def error_square(model, selected):\n",
    "    x_selected = model.intercept_ + model.coef_[0] * selected.x2 + model.coef_[1]  * selected.x3\n",
    "    error = (selected.x1.values - x_selected.values)**2\n",
    "    return error"
   ]
  },
  {
   "cell_type": "code",
   "execution_count": 499,
   "id": "cd13822a",
   "metadata": {},
   "outputs": [
    {
     "name": "stdout",
     "output_type": "stream",
     "text": [
      "Error square: [0.00283629]\n"
     ]
    }
   ],
   "source": [
    "err = error_square(model, selected)\n",
    "print('Error square: ' + str(err))"
   ]
  },
  {
   "cell_type": "markdown",
   "id": "cbcd079f",
   "metadata": {},
   "source": [
    "## Task 5."
   ]
  },
  {
   "cell_type": "code",
   "execution_count": 500,
   "id": "6a006177",
   "metadata": {},
   "outputs": [],
   "source": [
    "M = 100"
   ]
  },
  {
   "cell_type": "code",
   "execution_count": 501,
   "id": "29e27a6c",
   "metadata": {},
   "outputs": [
    {
     "name": "stdout",
     "output_type": "stream",
     "text": [
      "Mean error: 0.27045987544307565\n"
     ]
    }
   ],
   "source": [
    "errors = []\n",
    "\n",
    "for _ in range(M):\n",
    "    df = df_generation(means, cov)\n",
    "    selected = select_row(df)\n",
    "    df = drop_selected(df, selected)\n",
    "    model = linear_regression_model(df, False)\n",
    "    err = error_square(model, selected)\n",
    "    errors.append(err)\n",
    "mean_error = np.mean(errors)\n",
    "print('Mean error: ' + str(mean_error))"
   ]
  },
  {
   "cell_type": "markdown",
   "id": "a64c63cb",
   "metadata": {},
   "source": [
    "## Task 6."
   ]
  },
  {
   "cell_type": "code",
   "execution_count": null,
   "id": "ee62f30a",
   "metadata": {},
   "outputs": [],
   "source": []
  },
  {
   "cell_type": "markdown",
   "id": "a6b04e73",
   "metadata": {},
   "source": [
    "## Task 7."
   ]
  },
  {
   "cell_type": "code",
   "execution_count": 502,
   "id": "4f91f4ba",
   "metadata": {},
   "outputs": [],
   "source": [
    "def new_linear_regression_model(df, printing):\n",
    "    model = LinearRegression(fit_intercept = False)\n",
    "\n",
    "    X = pd.concat([df.x2, df.x3], axis=1)\n",
    "    y = df.x1\n",
    "    model.fit(X, y)\n",
    "\n",
    "    a2 = model.coef_[0]\n",
    "    a3 = model.coef_[1]\n",
    "    \n",
    "    df['x1*'] = df.x2 * a2 + df.x3 * a3\n",
    "    df['residuals'] = df.x1 - df['x1*']\n",
    "    \n",
    "    if printing is True:\n",
    "        print('a2: ' + str(a2))\n",
    "        print('a3: ' + str(a3))\n",
    "        print('mean of residuals: ' + str(df.residuals.mean()))\n",
    "        print('variance of residuals: ' + str((df.residuals.var())))\n",
    "    df.drop(columns={'x1*', 'residuals'}, inplace=True)\n",
    "    return model"
   ]
  },
  {
   "cell_type": "code",
   "execution_count": 503,
   "id": "697df3e0",
   "metadata": {},
   "outputs": [
    {
     "name": "stdout",
     "output_type": "stream",
     "text": [
      "a2: -0.0029494745290220893\n",
      "a3: -0.3592195733206596\n",
      "mean of residuals: -0.40664375442359124\n",
      "variance of residuals: 0.6837426217342163\n"
     ]
    }
   ],
   "source": [
    "model = new_linear_regression_model(df, True)"
   ]
  },
  {
   "cell_type": "code",
   "execution_count": 504,
   "id": "43fc906a",
   "metadata": {},
   "outputs": [],
   "source": [
    "def new_error_square(model, selected):\n",
    "    x_selected = model.coef_[0] * selected.x2 + model.coef_[1]  * selected.x3\n",
    "    error = (selected.x1.values - x_selected.values)**2\n",
    "    return error"
   ]
  },
  {
   "cell_type": "code",
   "execution_count": 505,
   "id": "56cf9166",
   "metadata": {},
   "outputs": [
    {
     "name": "stdout",
     "output_type": "stream",
     "text": [
      "Mean error: 0.6945196303226225\n"
     ]
    }
   ],
   "source": [
    "errors = []\n",
    "\n",
    "for _ in range(M):\n",
    "    df = df_generation(means, cov)\n",
    "    selected = select_row(df)\n",
    "    df = drop_selected(df, selected)\n",
    "    model = new_linear_regression_model(df, False)\n",
    "    err = new_error_square(model, selected)\n",
    "    errors.append(err)\n",
    "\n",
    "mean_error = np.mean(errors)\n",
    "print('Mean error: ' + str(mean_error))"
   ]
  },
  {
   "cell_type": "markdown",
   "id": "e28cdc73",
   "metadata": {},
   "source": [
    "## Task 8."
   ]
  },
  {
   "cell_type": "code",
   "execution_count": 463,
   "id": "d1f6c285",
   "metadata": {},
   "outputs": [
    {
     "name": "stdout",
     "output_type": "stream",
     "text": [
      "Means: [2.36803407 1.91642174 0.43583963]\n",
      "\n",
      "Covariation matrix: \n",
      "[[0.10893112 0.5076118  0.76165856]\n",
      " [0.5076118  0.27483468 0.44476391]\n",
      " [0.76165856 0.44476391 0.3185883 ]]\n",
      "\n",
      "(101, 3)\n"
     ]
    },
    {
     "data": {
      "text/html": [
       "<div>\n",
       "<style scoped>\n",
       "    .dataframe tbody tr th:only-of-type {\n",
       "        vertical-align: middle;\n",
       "    }\n",
       "\n",
       "    .dataframe tbody tr th {\n",
       "        vertical-align: top;\n",
       "    }\n",
       "\n",
       "    .dataframe thead th {\n",
       "        text-align: right;\n",
       "    }\n",
       "</style>\n",
       "<table border=\"1\" class=\"dataframe\">\n",
       "  <thead>\n",
       "    <tr style=\"text-align: right;\">\n",
       "      <th></th>\n",
       "      <th>x1</th>\n",
       "      <th>x2</th>\n",
       "      <th>x3</th>\n",
       "    </tr>\n",
       "  </thead>\n",
       "  <tbody>\n",
       "    <tr>\n",
       "      <th>0</th>\n",
       "      <td>4.823300</td>\n",
       "      <td>3.105406</td>\n",
       "      <td>2.880438</td>\n",
       "    </tr>\n",
       "    <tr>\n",
       "      <th>1</th>\n",
       "      <td>2.856285</td>\n",
       "      <td>2.582418</td>\n",
       "      <td>1.059984</td>\n",
       "    </tr>\n",
       "    <tr>\n",
       "      <th>2</th>\n",
       "      <td>2.405578</td>\n",
       "      <td>1.600444</td>\n",
       "      <td>-0.791818</td>\n",
       "    </tr>\n",
       "    <tr>\n",
       "      <th>3</th>\n",
       "      <td>1.842237</td>\n",
       "      <td>1.940313</td>\n",
       "      <td>0.940102</td>\n",
       "    </tr>\n",
       "    <tr>\n",
       "      <th>4</th>\n",
       "      <td>2.260078</td>\n",
       "      <td>1.715603</td>\n",
       "      <td>-0.067887</td>\n",
       "    </tr>\n",
       "    <tr>\n",
       "      <th>...</th>\n",
       "      <td>...</td>\n",
       "      <td>...</td>\n",
       "      <td>...</td>\n",
       "    </tr>\n",
       "    <tr>\n",
       "      <th>96</th>\n",
       "      <td>1.819072</td>\n",
       "      <td>1.556738</td>\n",
       "      <td>-0.579431</td>\n",
       "    </tr>\n",
       "    <tr>\n",
       "      <th>97</th>\n",
       "      <td>2.437990</td>\n",
       "      <td>2.599024</td>\n",
       "      <td>1.436127</td>\n",
       "    </tr>\n",
       "    <tr>\n",
       "      <th>98</th>\n",
       "      <td>3.259044</td>\n",
       "      <td>2.310656</td>\n",
       "      <td>1.710776</td>\n",
       "    </tr>\n",
       "    <tr>\n",
       "      <th>99</th>\n",
       "      <td>2.292955</td>\n",
       "      <td>2.023519</td>\n",
       "      <td>0.594516</td>\n",
       "    </tr>\n",
       "    <tr>\n",
       "      <th>100</th>\n",
       "      <td>3.238116</td>\n",
       "      <td>1.899126</td>\n",
       "      <td>-0.140709</td>\n",
       "    </tr>\n",
       "  </tbody>\n",
       "</table>\n",
       "<p>101 rows × 3 columns</p>\n",
       "</div>"
      ],
      "text/plain": [
       "           x1        x2        x3\n",
       "0    4.823300  3.105406  2.880438\n",
       "1    2.856285  2.582418  1.059984\n",
       "2    2.405578  1.600444 -0.791818\n",
       "3    1.842237  1.940313  0.940102\n",
       "4    2.260078  1.715603 -0.067887\n",
       "..        ...       ...       ...\n",
       "96   1.819072  1.556738 -0.579431\n",
       "97   2.437990  2.599024  1.436127\n",
       "98   3.259044  2.310656  1.710776\n",
       "99   2.292955  2.023519  0.594516\n",
       "100  3.238116  1.899126 -0.140709\n",
       "\n",
       "[101 rows x 3 columns]"
      ]
     },
     "execution_count": 463,
     "metadata": {},
     "output_type": "execute_result"
    }
   ],
   "source": [
    "means = means_for_generation()\n",
    "print('Means: ' + str(means))\n",
    "cov = cov_for_generation()\n",
    "print('\\nCovariation matrix: \\n' + str(cov) + '\\n')\n",
    "df = df_generation(means, cov)\n",
    "print(df.shape)\n",
    "df"
   ]
  },
  {
   "cell_type": "code",
   "execution_count": 464,
   "id": "72fc54f1",
   "metadata": {},
   "outputs": [
    {
     "data": {
      "image/png": "[encoded data removed]",
      "text/plain": [
       "<Figure size 1152x648 with 1 Axes>"
      ]
     },
     "metadata": {
      "needs_background": "light"
     },
     "output_type": "display_data"
    }
   ],
   "source": [
    "fig, ax = plt.subplots(figsize=(16, 9))\n",
    "ax.grid()\n",
    "plt.scatter(df.x1, df.x2, color='lightgreen')\n",
    "plt.show()"
   ]
  },
  {
   "cell_type": "code",
   "execution_count": 465,
   "id": "0226d9b9",
   "metadata": {},
   "outputs": [
    {
     "name": "stdout",
     "output_type": "stream",
     "text": [
      "a0: 0.6145579566484249\n",
      "a2: 0.9351636048693874\n"
     ]
    }
   ],
   "source": [
    "model = LinearRegression()\n",
    "\n",
    "X = df.x2.values.reshape(-1,1)\n",
    "y = df.x1\n",
    "model.fit(X, y)\n",
    "\n",
    "a0 = model.intercept_\n",
    "a2 = model.coef_[0]\n",
    "\n",
    "df['x1*'] = a0 + df.x2 * a2\n",
    "df['residuals'] = df.x1 - df['x1*']\n",
    "\n",
    "print('a0: ' + str(a0))\n",
    "print('a2: ' + str(a2))"
   ]
  },
  {
   "cell_type": "code",
   "execution_count": 466,
   "id": "bbb329c9",
   "metadata": {},
   "outputs": [
    {
     "data": {
      "text/plain": [
       "<AxesSubplot:xlabel='x2', ylabel='x1'>"
      ]
     },
     "execution_count": 466,
     "metadata": {},
     "output_type": "execute_result"
    },
    {
     "data": {
      "image/png": "[encoded data removed]",
      "text/plain": [
       "<Figure size 1152x648 with 1 Axes>"
      ]
     },
     "metadata": {
      "needs_background": "light"
     },
     "output_type": "display_data"
    }
   ],
   "source": [
    "fig, ax = plt.subplots(figsize=(16, 9))\n",
    "ax.grid()\n",
    "sb.regplot(ax=ax, x=df.x2, y=df['x1*'])\n",
    "sb.regplot(ax=ax, x=df.x2, y=df.x1)"
   ]
  },
  {
   "cell_type": "markdown",
   "id": "fe213018",
   "metadata": {},
   "source": [
    "## Task 9."
   ]
  },
  {
   "cell_type": "code",
   "execution_count": 467,
   "id": "2ee41e17",
   "metadata": {},
   "outputs": [
    {
     "data": {
      "image/png": "[encoded data removed]",
      "text/plain": [
       "<Figure size 1152x648 with 1 Axes>"
      ]
     },
     "metadata": {
      "needs_background": "light"
     },
     "output_type": "display_data"
    }
   ],
   "source": [
    "fig, ax = plt.subplots(1, figsize=(16, 9))\n",
    "sm.qqplot(df.residuals, line ='45', fit=True, color='g',fmt='.g', ax=ax)\n",
    "ax.grid()\n",
    "ax.get_lines()[1].set_color(\"lavender\")\n",
    "ax.get_lines()[1].set_linewidth(\"3\")"
   ]
  },
  {
   "cell_type": "markdown",
   "id": "91fbe3a3",
   "metadata": {},
   "source": [
    "## Task 10 - Task 12."
   ]
  },
  {
   "attachments": {
    "image.png": {
     "image/png": "[encoded data removed]"
    }
   },
   "cell_type": "markdown",
   "id": "a2e1b070",
   "metadata": {},
   "source": [
    "![image.png](attachment:image.png)"
   ]
  },
  {
   "cell_type": "code",
   "execution_count": 468,
   "id": "638aafa0",
   "metadata": {},
   "outputs": [
    {
     "data": {
      "text/html": [
       "<div>\n",
       "<style scoped>\n",
       "    .dataframe tbody tr th:only-of-type {\n",
       "        vertical-align: middle;\n",
       "    }\n",
       "\n",
       "    .dataframe tbody tr th {\n",
       "        vertical-align: top;\n",
       "    }\n",
       "\n",
       "    .dataframe thead th {\n",
       "        text-align: right;\n",
       "    }\n",
       "</style>\n",
       "<table border=\"1\" class=\"dataframe\">\n",
       "  <thead>\n",
       "    <tr style=\"text-align: right;\">\n",
       "      <th></th>\n",
       "      <th>x1</th>\n",
       "      <th>x2</th>\n",
       "      <th>x3</th>\n",
       "      <th>x1*</th>\n",
       "      <th>residuals</th>\n",
       "    </tr>\n",
       "  </thead>\n",
       "  <tbody>\n",
       "    <tr>\n",
       "      <th>0</th>\n",
       "      <td>4.823300</td>\n",
       "      <td>3.105406</td>\n",
       "      <td>2.880438</td>\n",
       "      <td>3.326863</td>\n",
       "      <td>1.496438</td>\n",
       "    </tr>\n",
       "    <tr>\n",
       "      <th>1</th>\n",
       "      <td>2.856285</td>\n",
       "      <td>2.582418</td>\n",
       "      <td>1.059984</td>\n",
       "      <td>3.027757</td>\n",
       "      <td>-0.171472</td>\n",
       "    </tr>\n",
       "    <tr>\n",
       "      <th>2</th>\n",
       "      <td>2.405578</td>\n",
       "      <td>1.600444</td>\n",
       "      <td>-0.791818</td>\n",
       "      <td>2.243350</td>\n",
       "      <td>0.162228</td>\n",
       "    </tr>\n",
       "    <tr>\n",
       "      <th>3</th>\n",
       "      <td>1.842237</td>\n",
       "      <td>1.940313</td>\n",
       "      <td>0.940102</td>\n",
       "      <td>2.359653</td>\n",
       "      <td>-0.517416</td>\n",
       "    </tr>\n",
       "    <tr>\n",
       "      <th>4</th>\n",
       "      <td>2.260078</td>\n",
       "      <td>1.715603</td>\n",
       "      <td>-0.067887</td>\n",
       "      <td>2.263256</td>\n",
       "      <td>-0.003179</td>\n",
       "    </tr>\n",
       "    <tr>\n",
       "      <th>...</th>\n",
       "      <td>...</td>\n",
       "      <td>...</td>\n",
       "      <td>...</td>\n",
       "      <td>...</td>\n",
       "      <td>...</td>\n",
       "    </tr>\n",
       "    <tr>\n",
       "      <th>96</th>\n",
       "      <td>1.819072</td>\n",
       "      <td>1.556738</td>\n",
       "      <td>-0.579431</td>\n",
       "      <td>2.166503</td>\n",
       "      <td>-0.347431</td>\n",
       "    </tr>\n",
       "    <tr>\n",
       "      <th>97</th>\n",
       "      <td>2.437990</td>\n",
       "      <td>2.599024</td>\n",
       "      <td>1.436127</td>\n",
       "      <td>2.991973</td>\n",
       "      <td>-0.553983</td>\n",
       "    </tr>\n",
       "    <tr>\n",
       "      <th>98</th>\n",
       "      <td>3.259044</td>\n",
       "      <td>2.310656</td>\n",
       "      <td>1.710776</td>\n",
       "      <td>2.645203</td>\n",
       "      <td>0.613842</td>\n",
       "    </tr>\n",
       "    <tr>\n",
       "      <th>99</th>\n",
       "      <td>2.292955</td>\n",
       "      <td>2.023519</td>\n",
       "      <td>0.594516</td>\n",
       "      <td>2.497595</td>\n",
       "      <td>-0.204640</td>\n",
       "    </tr>\n",
       "    <tr>\n",
       "      <th>100</th>\n",
       "      <td>3.238116</td>\n",
       "      <td>1.899126</td>\n",
       "      <td>-0.140709</td>\n",
       "      <td>2.469443</td>\n",
       "      <td>0.768673</td>\n",
       "    </tr>\n",
       "  </tbody>\n",
       "</table>\n",
       "<p>101 rows × 5 columns</p>\n",
       "</div>"
      ],
      "text/plain": [
       "           x1        x2        x3       x1*  residuals\n",
       "0    4.823300  3.105406  2.880438  3.326863   1.496438\n",
       "1    2.856285  2.582418  1.059984  3.027757  -0.171472\n",
       "2    2.405578  1.600444 -0.791818  2.243350   0.162228\n",
       "3    1.842237  1.940313  0.940102  2.359653  -0.517416\n",
       "4    2.260078  1.715603 -0.067887  2.263256  -0.003179\n",
       "..        ...       ...       ...       ...        ...\n",
       "96   1.819072  1.556738 -0.579431  2.166503  -0.347431\n",
       "97   2.437990  2.599024  1.436127  2.991973  -0.553983\n",
       "98   3.259044  2.310656  1.710776  2.645203   0.613842\n",
       "99   2.292955  2.023519  0.594516  2.497595  -0.204640\n",
       "100  3.238116  1.899126 -0.140709  2.469443   0.768673\n",
       "\n",
       "[101 rows x 5 columns]"
      ]
     },
     "execution_count": 468,
     "metadata": {},
     "output_type": "execute_result"
    }
   ],
   "source": [
    "model = linear_regression_model(df, False)\n",
    "df"
   ]
  },
  {
   "cell_type": "code",
   "execution_count": 469,
   "id": "0b6113cf",
   "metadata": {},
   "outputs": [],
   "source": [
    "def chi_2(data, k):\n",
    "    mini = np.min(data)\n",
    "    maxi = np.max(data)\n",
    "    mean = np.mean(data)\n",
    "    var = np.var(data)\n",
    "    binsize = (maxi - mini) / k\n",
    "    grid = [mini]\n",
    "    while grid[-1] < maxi:\n",
    "        grid.append(grid[-1] + binsize)\n",
    "    empiric_probas = np.array([len(data[np.where((data >= grid[i]) &\n",
    "                                                 (data < (grid[i+1] if i < k - 1 else grid[i+1] + 0.1)))])\n",
    "                               for i in range(k)])\n",
    "    true_probas = np.array([(stats.norm.cdf(grid[i+1] if i < k-1 else np.inf, loc=mean, scale=np.sqrt(var)) -\n",
    "                     stats.norm.cdf(grid[i] if i > 0 else -np.inf, loc=mean, scale=np.sqrt(var))) * len(data)\n",
    "                        for i in range(k)])\n",
    "    statistic = np.sum((empiric_probas - true_probas) ** 2 / true_probas)\n",
    "    return statistic, stats.chi2.sf(statistic, df = k - 3), stats.chi2.ppf(0.05, k)"
   ]
  },
  {
   "cell_type": "code",
   "execution_count": 470,
   "id": "af17128d",
   "metadata": {},
   "outputs": [
    {
     "data": {
      "text/html": [
       "<div>\n",
       "<style scoped>\n",
       "    .dataframe tbody tr th:only-of-type {\n",
       "        vertical-align: middle;\n",
       "    }\n",
       "\n",
       "    .dataframe tbody tr th {\n",
       "        vertical-align: top;\n",
       "    }\n",
       "\n",
       "    .dataframe thead th {\n",
       "        text-align: right;\n",
       "    }\n",
       "</style>\n",
       "<table border=\"1\" class=\"dataframe\">\n",
       "  <thead>\n",
       "    <tr style=\"text-align: right;\">\n",
       "      <th></th>\n",
       "      <th>bins</th>\n",
       "      <th>statistic</th>\n",
       "      <th>p-value</th>\n",
       "      <th>persentiles (α = 0.05)</th>\n",
       "      <th>accept</th>\n",
       "    </tr>\n",
       "  </thead>\n",
       "  <tbody>\n",
       "    <tr>\n",
       "      <th>0</th>\n",
       "      <td>4</td>\n",
       "      <td>0.285168</td>\n",
       "      <td>0.593334</td>\n",
       "      <td>0.710723</td>\n",
       "      <td>True</td>\n",
       "    </tr>\n",
       "    <tr>\n",
       "      <th>1</th>\n",
       "      <td>5</td>\n",
       "      <td>1.116351</td>\n",
       "      <td>0.572252</td>\n",
       "      <td>1.145476</td>\n",
       "      <td>True</td>\n",
       "    </tr>\n",
       "    <tr>\n",
       "      <th>2</th>\n",
       "      <td>6</td>\n",
       "      <td>2.807807</td>\n",
       "      <td>0.422216</td>\n",
       "      <td>1.635383</td>\n",
       "      <td>False</td>\n",
       "    </tr>\n",
       "    <tr>\n",
       "      <th>3</th>\n",
       "      <td>7</td>\n",
       "      <td>1.707008</td>\n",
       "      <td>0.789444</td>\n",
       "      <td>2.167350</td>\n",
       "      <td>True</td>\n",
       "    </tr>\n",
       "    <tr>\n",
       "      <th>4</th>\n",
       "      <td>8</td>\n",
       "      <td>4.664368</td>\n",
       "      <td>0.458197</td>\n",
       "      <td>2.732637</td>\n",
       "      <td>False</td>\n",
       "    </tr>\n",
       "    <tr>\n",
       "      <th>5</th>\n",
       "      <td>9</td>\n",
       "      <td>4.084022</td>\n",
       "      <td>0.665307</td>\n",
       "      <td>3.325113</td>\n",
       "      <td>False</td>\n",
       "    </tr>\n",
       "    <tr>\n",
       "      <th>6</th>\n",
       "      <td>10</td>\n",
       "      <td>4.532409</td>\n",
       "      <td>0.716811</td>\n",
       "      <td>3.940299</td>\n",
       "      <td>False</td>\n",
       "    </tr>\n",
       "    <tr>\n",
       "      <th>7</th>\n",
       "      <td>11</td>\n",
       "      <td>7.521324</td>\n",
       "      <td>0.481566</td>\n",
       "      <td>4.574813</td>\n",
       "      <td>False</td>\n",
       "    </tr>\n",
       "    <tr>\n",
       "      <th>8</th>\n",
       "      <td>12</td>\n",
       "      <td>4.814766</td>\n",
       "      <td>0.850147</td>\n",
       "      <td>5.226029</td>\n",
       "      <td>True</td>\n",
       "    </tr>\n",
       "    <tr>\n",
       "      <th>9</th>\n",
       "      <td>13</td>\n",
       "      <td>10.371886</td>\n",
       "      <td>0.408494</td>\n",
       "      <td>5.891864</td>\n",
       "      <td>False</td>\n",
       "    </tr>\n",
       "    <tr>\n",
       "      <th>10</th>\n",
       "      <td>14</td>\n",
       "      <td>6.699343</td>\n",
       "      <td>0.822883</td>\n",
       "      <td>6.570631</td>\n",
       "      <td>False</td>\n",
       "    </tr>\n",
       "    <tr>\n",
       "      <th>11</th>\n",
       "      <td>15</td>\n",
       "      <td>7.988877</td>\n",
       "      <td>0.785999</td>\n",
       "      <td>7.260944</td>\n",
       "      <td>False</td>\n",
       "    </tr>\n",
       "    <tr>\n",
       "      <th>12</th>\n",
       "      <td>16</td>\n",
       "      <td>12.320862</td>\n",
       "      <td>0.501525</td>\n",
       "      <td>7.961646</td>\n",
       "      <td>False</td>\n",
       "    </tr>\n",
       "    <tr>\n",
       "      <th>13</th>\n",
       "      <td>17</td>\n",
       "      <td>11.577108</td>\n",
       "      <td>0.640223</td>\n",
       "      <td>8.671760</td>\n",
       "      <td>False</td>\n",
       "    </tr>\n",
       "    <tr>\n",
       "      <th>14</th>\n",
       "      <td>18</td>\n",
       "      <td>8.042013</td>\n",
       "      <td>0.922087</td>\n",
       "      <td>9.390455</td>\n",
       "      <td>True</td>\n",
       "    </tr>\n",
       "    <tr>\n",
       "      <th>15</th>\n",
       "      <td>19</td>\n",
       "      <td>14.029187</td>\n",
       "      <td>0.596539</td>\n",
       "      <td>10.117013</td>\n",
       "      <td>False</td>\n",
       "    </tr>\n",
       "    <tr>\n",
       "      <th>16</th>\n",
       "      <td>20</td>\n",
       "      <td>11.922805</td>\n",
       "      <td>0.804789</td>\n",
       "      <td>10.850811</td>\n",
       "      <td>False</td>\n",
       "    </tr>\n",
       "    <tr>\n",
       "      <th>17</th>\n",
       "      <td>21</td>\n",
       "      <td>18.043058</td>\n",
       "      <td>0.452819</td>\n",
       "      <td>11.591305</td>\n",
       "      <td>False</td>\n",
       "    </tr>\n",
       "    <tr>\n",
       "      <th>18</th>\n",
       "      <td>22</td>\n",
       "      <td>11.297636</td>\n",
       "      <td>0.913420</td>\n",
       "      <td>12.338015</td>\n",
       "      <td>True</td>\n",
       "    </tr>\n",
       "    <tr>\n",
       "      <th>19</th>\n",
       "      <td>23</td>\n",
       "      <td>14.333308</td>\n",
       "      <td>0.813202</td>\n",
       "      <td>13.090514</td>\n",
       "      <td>False</td>\n",
       "    </tr>\n",
       "    <tr>\n",
       "      <th>20</th>\n",
       "      <td>24</td>\n",
       "      <td>18.209920</td>\n",
       "      <td>0.635684</td>\n",
       "      <td>13.848425</td>\n",
       "      <td>False</td>\n",
       "    </tr>\n",
       "    <tr>\n",
       "      <th>21</th>\n",
       "      <td>25</td>\n",
       "      <td>17.144971</td>\n",
       "      <td>0.755310</td>\n",
       "      <td>14.611408</td>\n",
       "      <td>False</td>\n",
       "    </tr>\n",
       "    <tr>\n",
       "      <th>22</th>\n",
       "      <td>26</td>\n",
       "      <td>24.027331</td>\n",
       "      <td>0.402296</td>\n",
       "      <td>15.379157</td>\n",
       "      <td>False</td>\n",
       "    </tr>\n",
       "    <tr>\n",
       "      <th>23</th>\n",
       "      <td>27</td>\n",
       "      <td>18.851932</td>\n",
       "      <td>0.759839</td>\n",
       "      <td>16.151396</td>\n",
       "      <td>False</td>\n",
       "    </tr>\n",
       "    <tr>\n",
       "      <th>24</th>\n",
       "      <td>28</td>\n",
       "      <td>16.644328</td>\n",
       "      <td>0.894287</td>\n",
       "      <td>16.927875</td>\n",
       "      <td>True</td>\n",
       "    </tr>\n",
       "    <tr>\n",
       "      <th>25</th>\n",
       "      <td>29</td>\n",
       "      <td>19.421202</td>\n",
       "      <td>0.818163</td>\n",
       "      <td>17.708366</td>\n",
       "      <td>False</td>\n",
       "    </tr>\n",
       "    <tr>\n",
       "      <th>26</th>\n",
       "      <td>30</td>\n",
       "      <td>23.393631</td>\n",
       "      <td>0.663696</td>\n",
       "      <td>18.492661</td>\n",
       "      <td>False</td>\n",
       "    </tr>\n",
       "    <tr>\n",
       "      <th>27</th>\n",
       "      <td>31</td>\n",
       "      <td>23.868374</td>\n",
       "      <td>0.688464</td>\n",
       "      <td>19.280569</td>\n",
       "      <td>False</td>\n",
       "    </tr>\n",
       "    <tr>\n",
       "      <th>28</th>\n",
       "      <td>32</td>\n",
       "      <td>22.759596</td>\n",
       "      <td>0.787428</td>\n",
       "      <td>20.071913</td>\n",
       "      <td>False</td>\n",
       "    </tr>\n",
       "    <tr>\n",
       "      <th>29</th>\n",
       "      <td>33</td>\n",
       "      <td>23.948127</td>\n",
       "      <td>0.774366</td>\n",
       "      <td>20.866534</td>\n",
       "      <td>False</td>\n",
       "    </tr>\n",
       "    <tr>\n",
       "      <th>30</th>\n",
       "      <td>34</td>\n",
       "      <td>25.023671</td>\n",
       "      <td>0.766658</td>\n",
       "      <td>21.664281</td>\n",
       "      <td>False</td>\n",
       "    </tr>\n",
       "    <tr>\n",
       "      <th>31</th>\n",
       "      <td>35</td>\n",
       "      <td>23.238525</td>\n",
       "      <td>0.870641</td>\n",
       "      <td>22.465015</td>\n",
       "      <td>False</td>\n",
       "    </tr>\n",
       "    <tr>\n",
       "      <th>32</th>\n",
       "      <td>36</td>\n",
       "      <td>26.281504</td>\n",
       "      <td>0.790236</td>\n",
       "      <td>23.268609</td>\n",
       "      <td>False</td>\n",
       "    </tr>\n",
       "    <tr>\n",
       "      <th>33</th>\n",
       "      <td>37</td>\n",
       "      <td>31.155081</td>\n",
       "      <td>0.607799</td>\n",
       "      <td>24.074943</td>\n",
       "      <td>False</td>\n",
       "    </tr>\n",
       "    <tr>\n",
       "      <th>34</th>\n",
       "      <td>38</td>\n",
       "      <td>30.590643</td>\n",
       "      <td>0.680923</td>\n",
       "      <td>24.883904</td>\n",
       "      <td>False</td>\n",
       "    </tr>\n",
       "    <tr>\n",
       "      <th>35</th>\n",
       "      <td>39</td>\n",
       "      <td>30.562028</td>\n",
       "      <td>0.724619</td>\n",
       "      <td>25.695390</td>\n",
       "      <td>False</td>\n",
       "    </tr>\n",
       "    <tr>\n",
       "      <th>36</th>\n",
       "      <td>40</td>\n",
       "      <td>30.724935</td>\n",
       "      <td>0.756969</td>\n",
       "      <td>26.509303</td>\n",
       "      <td>False</td>\n",
       "    </tr>\n",
       "    <tr>\n",
       "      <th>37</th>\n",
       "      <td>41</td>\n",
       "      <td>36.852020</td>\n",
       "      <td>0.522438</td>\n",
       "      <td>27.325551</td>\n",
       "      <td>False</td>\n",
       "    </tr>\n",
       "    <tr>\n",
       "      <th>38</th>\n",
       "      <td>42</td>\n",
       "      <td>29.233733</td>\n",
       "      <td>0.872279</td>\n",
       "      <td>28.144049</td>\n",
       "      <td>False</td>\n",
       "    </tr>\n",
       "    <tr>\n",
       "      <th>39</th>\n",
       "      <td>43</td>\n",
       "      <td>27.539998</td>\n",
       "      <td>0.932508</td>\n",
       "      <td>28.964717</td>\n",
       "      <td>True</td>\n",
       "    </tr>\n",
       "    <tr>\n",
       "      <th>40</th>\n",
       "      <td>44</td>\n",
       "      <td>30.137029</td>\n",
       "      <td>0.894396</td>\n",
       "      <td>29.787477</td>\n",
       "      <td>False</td>\n",
       "    </tr>\n",
       "    <tr>\n",
       "      <th>41</th>\n",
       "      <td>45</td>\n",
       "      <td>35.946160</td>\n",
       "      <td>0.732865</td>\n",
       "      <td>30.612259</td>\n",
       "      <td>False</td>\n",
       "    </tr>\n",
       "    <tr>\n",
       "      <th>42</th>\n",
       "      <td>46</td>\n",
       "      <td>29.434990</td>\n",
       "      <td>0.942834</td>\n",
       "      <td>31.438995</td>\n",
       "      <td>True</td>\n",
       "    </tr>\n",
       "    <tr>\n",
       "      <th>43</th>\n",
       "      <td>47</td>\n",
       "      <td>44.588396</td>\n",
       "      <td>0.446895</td>\n",
       "      <td>32.267622</td>\n",
       "      <td>False</td>\n",
       "    </tr>\n",
       "    <tr>\n",
       "      <th>44</th>\n",
       "      <td>48</td>\n",
       "      <td>40.889921</td>\n",
       "      <td>0.646648</td>\n",
       "      <td>33.098077</td>\n",
       "      <td>False</td>\n",
       "    </tr>\n",
       "    <tr>\n",
       "      <th>45</th>\n",
       "      <td>49</td>\n",
       "      <td>40.644636</td>\n",
       "      <td>0.695441</td>\n",
       "      <td>33.930306</td>\n",
       "      <td>False</td>\n",
       "    </tr>\n",
       "    <tr>\n",
       "      <th>46</th>\n",
       "      <td>50</td>\n",
       "      <td>36.417261</td>\n",
       "      <td>0.867796</td>\n",
       "      <td>34.764252</td>\n",
       "      <td>False</td>\n",
       "    </tr>\n",
       "  </tbody>\n",
       "</table>\n",
       "</div>"
      ],
      "text/plain": [
       "    bins  statistic   p-value  persentiles (α = 0.05)  accept\n",
       "0      4   0.285168  0.593334                0.710723    True\n",
       "1      5   1.116351  0.572252                1.145476    True\n",
       "2      6   2.807807  0.422216                1.635383   False\n",
       "3      7   1.707008  0.789444                2.167350    True\n",
       "4      8   4.664368  0.458197                2.732637   False\n",
       "5      9   4.084022  0.665307                3.325113   False\n",
       "6     10   4.532409  0.716811                3.940299   False\n",
       "7     11   7.521324  0.481566                4.574813   False\n",
       "8     12   4.814766  0.850147                5.226029    True\n",
       "9     13  10.371886  0.408494                5.891864   False\n",
       "10    14   6.699343  0.822883                6.570631   False\n",
       "11    15   7.988877  0.785999                7.260944   False\n",
       "12    16  12.320862  0.501525                7.961646   False\n",
       "13    17  11.577108  0.640223                8.671760   False\n",
       "14    18   8.042013  0.922087                9.390455    True\n",
       "15    19  14.029187  0.596539               10.117013   False\n",
       "16    20  11.922805  0.804789               10.850811   False\n",
       "17    21  18.043058  0.452819               11.591305   False\n",
       "18    22  11.297636  0.913420               12.338015    True\n",
       "19    23  14.333308  0.813202               13.090514   False\n",
       "20    24  18.209920  0.635684               13.848425   False\n",
       "21    25  17.144971  0.755310               14.611408   False\n",
       "22    26  24.027331  0.402296               15.379157   False\n",
       "23    27  18.851932  0.759839               16.151396   False\n",
       "24    28  16.644328  0.894287               16.927875    True\n",
       "25    29  19.421202  0.818163               17.708366   False\n",
       "26    30  23.393631  0.663696               18.492661   False\n",
       "27    31  23.868374  0.688464               19.280569   False\n",
       "28    32  22.759596  0.787428               20.071913   False\n",
       "29    33  23.948127  0.774366               20.866534   False\n",
       "30    34  25.023671  0.766658               21.664281   False\n",
       "31    35  23.238525  0.870641               22.465015   False\n",
       "32    36  26.281504  0.790236               23.268609   False\n",
       "33    37  31.155081  0.607799               24.074943   False\n",
       "34    38  30.590643  0.680923               24.883904   False\n",
       "35    39  30.562028  0.724619               25.695390   False\n",
       "36    40  30.724935  0.756969               26.509303   False\n",
       "37    41  36.852020  0.522438               27.325551   False\n",
       "38    42  29.233733  0.872279               28.144049   False\n",
       "39    43  27.539998  0.932508               28.964717    True\n",
       "40    44  30.137029  0.894396               29.787477   False\n",
       "41    45  35.946160  0.732865               30.612259   False\n",
       "42    46  29.434990  0.942834               31.438995    True\n",
       "43    47  44.588396  0.446895               32.267622   False\n",
       "44    48  40.889921  0.646648               33.098077   False\n",
       "45    49  40.644636  0.695441               33.930306   False\n",
       "46    50  36.417261  0.867796               34.764252   False"
      ]
     },
     "execution_count": 470,
     "metadata": {},
     "output_type": "execute_result"
    }
   ],
   "source": [
    "bins = []\n",
    "statistics = []\n",
    "p_values = []\n",
    "percentiles = []\n",
    "comparing = []\n",
    "for k in range(4, 51):\n",
    "    res = chi_2(df['residuals'].values, k)\n",
    "    bins.append(k)\n",
    "    statistics.append(res[0])\n",
    "    p_values.append(res[1])\n",
    "    percentiles.append(res[2])\n",
    "    comparing.append(True if res[0] < res[2] else False)\n",
    "results = pd.DataFrame(data={'bins': np.array(bins),\n",
    "                             'statistic': np.array(statistics),\n",
    "                             'p-value': np.array(p_values),\n",
    "                             'persentiles (α = 0.05)': np.array(percentiles),\n",
    "                             'accept': np.array(comparing)})\n",
    "\n",
    "\n",
    "results"
   ]
  },
  {
   "cell_type": "markdown",
   "id": "dbf996e0",
   "metadata": {},
   "source": [
    "## Task 13."
   ]
  },
  {
   "cell_type": "code",
   "execution_count": 471,
   "id": "3acf71a2",
   "metadata": {},
   "outputs": [],
   "source": [
    "M = 100\n",
    "errors = []"
   ]
  },
  {
   "cell_type": "code",
   "execution_count": 472,
   "id": "9750f8f9",
   "metadata": {},
   "outputs": [],
   "source": [
    "err_3 = []\n",
    "p = 3\n",
    "\n",
    "for _ in range(M):\n",
    "    means = np.array([0, 0])\n",
    "\n",
    "    cov = []\n",
    "    for _ in range(2):\n",
    "        cov.append(stats.uniform(0, 1).rvs(2))\n",
    "    cov = np.matrix(data = cov)\n",
    "    cov = (cov + cov.T) / 2\n",
    "\n",
    "    df = pd.DataFrame(np.random.multivariate_normal(means, cov, N))\n",
    "    df.rename(columns={0 : 'x1', 1 : 'x2'}, inplace=True)\n",
    "\n",
    "    sample = df.sample(n=int(0.1 * N))\n",
    "    df.drop(index=sample.index, inplace=True)\n",
    "\n",
    "    X_train = df.x2\n",
    "    y_train = df.x1\n",
    "    X_test = sample.x2\n",
    "    Y_test = sample.x1\n",
    "\n",
    "    model = np.poly1d(np.polyfit(X_train, y_train, p))\n",
    "    coef = model.coefficients\n",
    "    a0 = coef[0]\n",
    "    a1 = coef[1]\n",
    "    a2 = coef[2]\n",
    "    a3 = coef[3]\n",
    "\n",
    "    predicted = a0 + a1 * X_test + a2 * X_test**2 + a3 * X_test**3\n",
    "    residuals = Y_test - predicted\n",
    "    err_3.append(np.mean(residuals ** 2))\n",
    "errors.append(np.mean(err_3))"
   ]
  },
  {
   "cell_type": "code",
   "execution_count": 473,
   "id": "0afd5fff",
   "metadata": {},
   "outputs": [
    {
     "data": {
      "text/plain": [
       "[1.3365685200434376]"
      ]
     },
     "execution_count": 473,
     "metadata": {},
     "output_type": "execute_result"
    }
   ],
   "source": [
    "errors"
   ]
  },
  {
   "cell_type": "code",
   "execution_count": 474,
   "id": "aefc4bdb",
   "metadata": {},
   "outputs": [],
   "source": [
    "err_4 = []\n",
    "p = 4\n",
    "\n",
    "for _ in range(M):\n",
    "    means = np.array([0, 0])\n",
    "\n",
    "    cov = []\n",
    "    for _ in range(2):\n",
    "        cov.append(stats.uniform(0, 1).rvs(2))\n",
    "    cov = np.matrix(data = cov)\n",
    "    cov = (cov + cov.T) / 2\n",
    "\n",
    "    df = pd.DataFrame(np.random.multivariate_normal(means, cov, N))\n",
    "    df.rename(columns={0 : 'x1', 1 : 'x2'}, inplace=True)\n",
    "\n",
    "    sample = df.sample(n=int(0.1 * N))\n",
    "    df.drop(index=sample.index, inplace=True)\n",
    "\n",
    "    X_train = df.x2\n",
    "    y_train = df.x1\n",
    "    X_test = sample.x2\n",
    "    Y_test = sample.x1\n",
    "\n",
    "    model = np.poly1d(np.polyfit(X_train, y_train, p))\n",
    "    coef = model.coefficients\n",
    "    a0 = coef[0]\n",
    "    a1 = coef[1]\n",
    "    a2 = coef[2]\n",
    "    a3 = coef[3]\n",
    "    a4 = coef[4]\n",
    "\n",
    "    predicted = a0 + a1 * X_test + a2 * X_test**2 + a3 * X_test**3 + a4 * X_test**4\n",
    "    residuals = Y_test - predicted\n",
    "    err_4.append(np.mean(residuals ** 2))\n",
    "errors.append(np.mean(err_4))"
   ]
  },
  {
   "cell_type": "code",
   "execution_count": 475,
   "id": "02770b98",
   "metadata": {},
   "outputs": [
    {
     "data": {
      "text/plain": [
       "[1.3365685200434376, 1.4925702234802092]"
      ]
     },
     "execution_count": 475,
     "metadata": {},
     "output_type": "execute_result"
    }
   ],
   "source": [
    "errors"
   ]
  },
  {
   "cell_type": "code",
   "execution_count": 476,
   "id": "4e3c34da",
   "metadata": {},
   "outputs": [],
   "source": [
    "err_5 = []\n",
    "p = 5\n",
    "\n",
    "for _ in range(M):\n",
    "    means = np.array([0, 0])\n",
    "\n",
    "    cov = []\n",
    "    for _ in range(2):\n",
    "        cov.append(stats.uniform(0, 1).rvs(2))\n",
    "    cov = np.matrix(data = cov)\n",
    "    cov = (cov + cov.T) / 2\n",
    "\n",
    "    df = pd.DataFrame(np.random.multivariate_normal(means, cov, N))\n",
    "    df.rename(columns={0 : 'x1', 1 : 'x2'}, inplace=True)\n",
    "\n",
    "    sample = df.sample(n=int(0.1 * N))\n",
    "    df.drop(index=sample.index, inplace=True)\n",
    "\n",
    "    X_train = df.x2\n",
    "    y_train = df.x1\n",
    "    X_test = sample.x2\n",
    "    Y_test = sample.x1\n",
    "\n",
    "    model = np.poly1d(np.polyfit(X_train, y_train, p))\n",
    "    coef = model.coefficients\n",
    "    a0 = coef[0]\n",
    "    a1 = coef[1]\n",
    "    a2 = coef[2]\n",
    "    a3 = coef[3]\n",
    "    a4 = coef[4]\n",
    "    a5 = coef[5]\n",
    "\n",
    "    predicted = a0 + a1 * X_test + a2 * X_test**2 + a3 * X_test**3 + a4 * X_test**4 + a5 * X_test**5\n",
    "    residuals = Y_test - predicted\n",
    "    err_4.append(np.mean(residuals ** 2))\n",
    "errors.append(np.mean(err_4))"
   ]
  },
  {
   "cell_type": "code",
   "execution_count": 477,
   "id": "65b4a87e",
   "metadata": {},
   "outputs": [
    {
     "data": {
      "text/plain": [
       "[1.3365685200434376, 1.4925702234802092, 6.373911729555816]"
      ]
     },
     "execution_count": 477,
     "metadata": {},
     "output_type": "execute_result"
    }
   ],
   "source": [
    "errors"
   ]
  },
  {
   "cell_type": "markdown",
   "id": "344414f5",
   "metadata": {},
   "source": [
    "## Task 14."
   ]
  },
  {
   "cell_type": "code",
   "execution_count": 480,
   "id": "7a172e01",
   "metadata": {},
   "outputs": [],
   "source": [
    "means = np.array([0, 0])\n",
    "\n",
    "cov = []\n",
    "for _ in range(2):\n",
    "    cov.append(stats.uniform(0, 1).rvs(2))\n",
    "cov = np.matrix(data = cov)\n",
    "cov = (cov + cov.T) / 2\n",
    "\n",
    "df = pd.DataFrame(np.random.multivariate_normal(means, cov, N))\n",
    "df.rename(columns={0 : 'x1', 1 : 'x2'}, inplace=True)\n",
    "\n",
    "sample = df.sample(n=int(0.1 * N))\n",
    "df.drop(index=sample.index, inplace=True)"
   ]
  },
  {
   "cell_type": "code",
   "execution_count": 481,
   "id": "ba89646b",
   "metadata": {},
   "outputs": [
    {
     "data": {
      "text/plain": [
       "0      0.048251\n",
       "1      0.046781\n",
       "2      0.048507\n",
       "3      2.435714\n",
       "4      0.049131\n",
       "         ...   \n",
       "96    -0.636803\n",
       "97     0.374409\n",
       "98    -0.064577\n",
       "99     0.046950\n",
       "100    0.131515\n",
       "Name: x2, Length: 90, dtype: float64"
      ]
     },
     "execution_count": 481,
     "metadata": {},
     "output_type": "execute_result"
    }
   ],
   "source": [
    "X_train = df.x2\n",
    "y_train = df.x1\n",
    "\n",
    "model_3 = np.poly1d(np.polyfit(X_train, y_train, 3))\n",
    "coef_3 = model_3.coefficients\n",
    "predicted_3 = a0 = coef_3[0] + coef_3[1] * X_train + coef_3[2] * X_train**2 + coef_3[3] * X_train**3\n",
    "\n",
    "model_4 = np.poly1d(np.polyfit(X_train, y_train, 4))\n",
    "coef_4 = model_4.coefficients\n",
    "predicted_4 = coef_4[0] + coef_4[1] * X_train + coef_4[2] * X_train**2 + coef_4[3] * X_train**3 + coef_4[4] * X_train**4\n",
    "predicted_4.drop(index=len(predicted_4)-1)\n",
    "\n",
    "model_5 = np.poly1d(np.polyfit(X_train, y_train, 5))\n",
    "coef_5 = model_5.coefficients\n",
    "predicted_5 = coef_5[0] + coef_5[1] * X_train + coef_5[2] * X_train**2 + coef_5[3] * X_train**3 + coef_5[4] * X_train**4 + coef_5[5] * X_train**5\n",
    "predicted_4.drop(index=len(predicted_5)-1)"
   ]
  },
  {
   "cell_type": "code",
   "execution_count": 482,
   "id": "d25e3b2c",
   "metadata": {},
   "outputs": [
    {
     "data": {
      "image/png": "[encoded data removed]",
      "text/plain": [
       "<Figure size 1152x648 with 1 Axes>"
      ]
     },
     "metadata": {
      "needs_background": "light"
     },
     "output_type": "display_data"
    }
   ],
   "source": [
    "fig, ax = plt.subplots(figsize=(16, 9))\n",
    "sb.regplot(ax=ax, x=X_train, y=y_train, color='bisque', label='x1')\n",
    "sb.regplot(ax=ax, x=X_train, y=predicted_3, color='greenyellow', label='p3')\n",
    "sb.regplot(ax=ax, x=X_train, y=predicted_4, color='skyblue', label='p4')\n",
    "sb.regplot(ax=ax, x=X_train, y=predicted_5, color='thistle', label='p5')\n",
    "plt.legend()\n",
    "plt.show()"
   ]
  },
  {
   "cell_type": "code",
   "execution_count": null,
   "id": "742ea1c6",
   "metadata": {},
   "outputs": [],
   "source": []
  }
 ],
 "metadata": {
  "kernelspec": {
   "display_name": "Python 3 (ipykernel)",
   "language": "python",
   "name": "python3"
  },
  "language_info": {
   "codemirror_mode": {
    "name": "ipython",
    "version": 3
   },
   "file_extension": ".py",
   "mimetype": "text/x-python",
   "name": "python",
   "nbconvert_exporter": "python",
   "pygments_lexer": "ipython3",
   "version": "3.8.5"
  }
 },
 "nbformat": 4,
 "nbformat_minor": 5
}
