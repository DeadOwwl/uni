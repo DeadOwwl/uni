{
 "cells": [
  {
   "cell_type": "code",
   "execution_count": 96,
   "metadata": {},
   "outputs": [],
   "source": [
    "import numpy as np\n",
    "import sympy as sp"
   ]
  },
  {
   "cell_type": "code",
   "execution_count": 97,
   "metadata": {},
   "outputs": [],
   "source": [
    "p = 65537\n",
    "H_0 = [291, 17767, 35243, 52719, 65244, 47768, 568, 2]\n",
    "N = [[65281, 4335, 289, 61170],\n",
    "     [3823, 8992, 53012, 65248],\n",
    "     [8447, 61748, 56545, 4335],\n",
    "     [4369, 57090, 3823, 256]\n",
    "     ]\n",
    "X = [14, 341, 99, 10321, 100, 2323, 35, 16]\n",
    "U = [4081, 256, 1, 61681]\n",
    "U_ = [65521, 4352, 1, 0]"
   ]
  },
  {
   "cell_type": "code",
   "execution_count": 98,
   "metadata": {},
   "outputs": [],
   "source": [
    "def yy(y):\n",
    "    if y == 0:\n",
    "        return y + 1\n",
    "    else:\n",
    "        return y"
   ]
  },
  {
   "cell_type": "code",
   "execution_count": 99,
   "metadata": {},
   "outputs": [],
   "source": [
    "def Rec(x):\n",
    "    y = []\n",
    "    y.append(x[0] + yy(x[15]) * yy(x[14]) + yy(x[13]) + 1)\n",
    "    y[0] = y[0] % p\n",
    "    y.append(x[1] + yy(y[0])  * yy(x[15]) + yy(x[14]) + 2)\n",
    "    y[1] = y[1] % p\n",
    "    y.append(x[2] + yy(y[1])  * yy(y[0])  + yy(x[15]) + 4)\n",
    "    y[2] = y[2] % p\n",
    "    for i in range(3, 16):\n",
    "        y.append(x[i] + yy(y[i-1]) * yy(y[i-2]) + yy(y[i-3]) + Zpow(2, i, p))\n",
    "        y[i] = y[i] % p\n",
    "    return y"
   ]
  },
  {
   "cell_type": "code",
   "execution_count": 100,
   "metadata": {},
   "outputs": [],
   "source": [
    "def Zpow(a, p, m):\n",
    "    result = 1\n",
    "    while p > 2: # когда степень сократится до квадрата и меньше - завершаем\n",
    "        if p % 2 == 0: # если степень кратна 2\n",
    "            a = (a ** 2) % m\n",
    "            p = p // 2 # целочисленное деление (на всякий)\n",
    "        else:\n",
    "            result = (result * a) % m\n",
    "            p = p - 1\n",
    "    a = (a ** p) % m\n",
    "    result = (result * a) % m\n",
    "    return result"
   ]
  },
  {
   "cell_type": "code",
   "execution_count": 101,
   "metadata": {},
   "outputs": [],
   "source": [
    "def FT(x):\n",
    "    y = []\n",
    "    for i in range(0, 8):\n",
    "        s = 0\n",
    "        for j in range(0, 8):\n",
    "            s += (Zpow(2, 4 * i * j, p) * x[j])\n",
    "        y.append(s % p)\n",
    "    return y"
   ]
  },
  {
   "cell_type": "code",
   "execution_count": 102,
   "metadata": {},
   "outputs": [],
   "source": [
    "def mix(x, y):\n",
    "    arr = []\n",
    "    for i in range(len(x)):\n",
    "        arr.append(x[i])\n",
    "        arr.append(y[i])\n",
    "    return arr"
   ]
  },
  {
   "cell_type": "code",
   "execution_count": 103,
   "metadata": {},
   "outputs": [],
   "source": [
    "def FT2(x):\n",
    "    ch = []\n",
    "    nch = []\n",
    "    for i in range(0, 15, 2):\n",
    "        ch.append(x[i])\n",
    "        nch.append(x[i + 1])\n",
    "    ch = FT(ch)\n",
    "    nch = FT(nch)\n",
    "    return mix(ch, nch)"
   ]
  },
  {
   "cell_type": "code",
   "execution_count": 104,
   "metadata": {},
   "outputs": [],
   "source": [
    "def A(x):\n",
    "    return H_0 + x\n",
    "\n",
    "def B(x):\n",
    "    return Rec(A(x))\n",
    "\n",
    "def C(x):\n",
    "    return FT2(B(x))\n",
    "\n",
    "def D(x):\n",
    "    return Rec(C(x))"
   ]
  },
  {
   "cell_type": "code",
   "execution_count": 105,
   "metadata": {},
   "outputs": [],
   "source": [
    "a = X[5]\n",
    "b = X[6]\n",
    "c = X[7]"
   ]
  },
  {
   "cell_type": "code",
   "execution_count": 106,
   "metadata": {},
   "outputs": [],
   "source": [
    "def my_psi(Y, X_R):\n",
    "    ch = []\n",
    "    nch = []\n",
    "    for i in range(len(Y)):\n",
    "        if i % 2 == 0:\n",
    "            ch.append(Y[i])\n",
    "        else:\n",
    "            nch.append(Y[i])\n",
    "    result = np.array(mix(np.dot(N, ch), np.dot(N, nch))) + np.array(list([0, 0, 0, 0]) + list(X_R))\n",
    "    return result"
   ]
  },
  {
   "cell_type": "code",
   "execution_count": 107,
   "metadata": {},
   "outputs": [],
   "source": [
    "def rec_minus(y):\n",
    "    x = []\n",
    "    for i in range(8, 16):\n",
    "        x.append(y[i] - yy(y[i-1]) * yy(y[i-2]) - yy(y[i-3]) - Zpow(2, i, p))\n",
    "    return x"
   ]
  },
  {
   "cell_type": "code",
   "execution_count": 108,
   "metadata": {
    "scrolled": false
   },
   "outputs": [
    {
     "name": "stdout",
     "output_type": "stream",
     "text": [
      "[22995.812415122986, 46739.2784576416, 42396.00490760803, 44370.28460788727, 32144.58408164978]\n"
     ]
    }
   ],
   "source": [
    "    Y = B(X)[0:8]\n",
    "\n",
    "    X_rand = np.random.randint(0, 65538, 4)\n",
    "    X_rand = X_rand.astype(np.int64) \n",
    "    arg = [0, 0, 0, 0, 0, 0, 0, 0] + mix([0, 0, 0, 0], X_rand)\n",
    "    R = FT2(arg)[11:16]\n",
    "    z_wave = my_psi(Y, X_rand)\n",
    "    z_wave = np.array(z_wave, dtype=np.int64)\n",
    "    z_wave = [x % p for x in z_wave]\n",
    "    a_ = a + z_wave[4] * z_wave[3] + z_wave[2] + Zpow(2, 13, p) - z_wave[5]\n",
    "    b_ = b + z_wave[5] * z_wave[4] + z_wave[3] + Zpow(2, 14, p) - z_wave[6]\n",
    "    c_ = c + z_wave[6] * z_wave[5] + z_wave[4] + Zpow(2, 15, p) - z_wave[7]\n",
    "    a_ = a_ % p\n",
    "    b_ = b_ % p\n",
    "    c_ = c_ % p\n",
    "    mu = np.random.rand()\n",
    "    first = np.array([[z_wave[3] + 256 * mu + 256, z_wave[3] + 256 * mu + 4352], \n",
    "                        [z_wave[5] + mu - 61681, z_wave[5] + mu]])\n",
    "    second = np.array([- a_ + (1 - 256 * z_wave[4]) * mu, \n",
    "                       - b_ - (256 + z_wave[4]) * mu])\n",
    "    answer = np.linalg.solve(first, second)\n",
    "    Z = np.array(z_wave) + answer[0] * np.array(list(U)+list([0,0,0,0])) + answer[1] *  np.array(list(U_)+list([0,0,0,0])) + mu * np.array(list([0,0,0,0])+list(U))\n",
    "    Z = [x % p for x in Z]\n",
    "    res = rec_minus(Y + Z)\n",
    "    res = [x % p for x in res]\n",
    "    print(C(res)[11:16])"
   ]
  },
  {
   "cell_type": "code",
   "execution_count": null,
   "metadata": {},
   "outputs": [],
   "source": []
  },
  {
   "cell_type": "code",
   "execution_count": null,
   "metadata": {},
   "outputs": [],
   "source": []
  },
  {
   "cell_type": "code",
   "execution_count": null,
   "metadata": {},
   "outputs": [],
   "source": []
  }
 ],
 "metadata": {
  "kernelspec": {
   "display_name": "Python 3 (ipykernel)",
   "language": "python",
   "name": "python3"
  },
  "language_info": {
   "codemirror_mode": {
    "name": "ipython",
    "version": 3
   },
   "file_extension": ".py",
   "mimetype": "text/x-python",
   "name": "python",
   "nbconvert_exporter": "python",
   "pygments_lexer": "ipython3",
   "version": "3.8.5"
  }
 },
 "nbformat": 4,
 "nbformat_minor": 4
}
