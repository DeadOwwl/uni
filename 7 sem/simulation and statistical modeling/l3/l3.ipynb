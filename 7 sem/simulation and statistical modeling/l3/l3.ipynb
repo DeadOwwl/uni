{
 "cells": [
  {
   "cell_type": "markdown",
   "metadata": {},
   "source": [
    "# S&SM\n",
    "## L3. Alina Kragel, gr. 9"
   ]
  },
  {
   "cell_type": "code",
   "execution_count": 1,
   "metadata": {
    "id": "F7FR09J1gq83"
   },
   "outputs": [],
   "source": [
    "import numpy as np\n",
    "import seaborn as sns\n",
    "from matplotlib import pyplot as plt\n",
    "import math\n",
    "from math import gcd\n",
    "from math import factorial as fac\n",
    "from scipy.stats import norm, chi2, kstwobign\n",
    "from scipy.special import erf"
   ]
  },
  {
   "cell_type": "code",
   "execution_count": 2,
   "metadata": {},
   "outputs": [],
   "source": [
    "sns.set(rc = {'figure.figsize':(15,8)})\n",
    "sns.set_theme(style='whitegrid', palette='dark:#5A9_r')"
   ]
  },
  {
   "cell_type": "markdown",
   "metadata": {},
   "source": [
    "##### Все новое - хорошо забытое старое"
   ]
  },
  {
   "cell_type": "code",
   "execution_count": 3,
   "metadata": {},
   "outputs": [],
   "source": [
    "class LCG:\n",
    "    def __init__(self, x0, a, c, M):        \n",
    "        self.a = a\n",
    "        self.c = c\n",
    "        self.M = M\n",
    "        self.x = x0\n",
    "    \n",
    "    def __call__(self):\n",
    "        self.x = (self.x * self.a + self.c) % self.M\n",
    "        return self.x / self.M\n",
    "    \n",
    "    def get_period(self):\n",
    "        s = list()\n",
    "        while True:\n",
    "            x = self()\n",
    "            if x in s:\n",
    "                break   \n",
    "            s.append(x)\n",
    "        return len(s)"
   ]
  },
  {
   "cell_type": "code",
   "execution_count": 4,
   "metadata": {},
   "outputs": [],
   "source": [
    "class MMG:\n",
    "    def __init__(self, g1, g2, k):\n",
    "        assert k > 0\n",
    "        self.k = k\n",
    "        self.g1 = g1\n",
    "        self.g2 = g2\n",
    "        self.v = [g1() for _ in range(k)]\n",
    "    \n",
    "    def rand(self):\n",
    "        s = int(self.g2() * self.k)\n",
    "        rx = self.v[s]\n",
    "        self.v[s] = self.g1()\n",
    "        return rx"
   ]
  },
  {
   "cell_type": "markdown",
   "metadata": {},
   "source": [
    "Более оптимальные параметры для генератора Макларена-Марсальи"
   ]
  },
  {
   "cell_type": "code",
   "execution_count": 5,
   "metadata": {},
   "outputs": [],
   "source": [
    "MMG = MMG(LCG(2 ** 17, 473109257, 5732841, 2 ** 32), LCG(2 ** 9, 12425, 5813, 2 ** 16), 100)"
   ]
  },
  {
   "cell_type": "code",
   "execution_count": 6,
   "metadata": {},
   "outputs": [],
   "source": [
    "np.random.seed(42)"
   ]
  },
  {
   "cell_type": "markdown",
   "metadata": {},
   "source": [
    "Критерий Колмогорова"
   ]
  },
  {
   "cell_type": "code",
   "execution_count": 7,
   "metadata": {
    "id": "1-BtPwT_hU8f"
   },
   "outputs": [],
   "source": [
    "def ks_test(samples, cdf, alpha=0.05, **kwargs):\n",
    "    n = len(samples)\n",
    "    empirical_cdf = np.arange(n) / n\n",
    "    theoretical_cdf = np.array([cdf(x, **kwargs) for x in sorted(samples)])\n",
    "    Dn = np.max(np.abs(theoretical_cdf - empirical_cdf))\n",
    "    ks_value = np.sqrt(n) * Dn\n",
    "\n",
    "    significance_level = 1 - alpha\n",
    "    critical_value = kstwobign.ppf(significance_level)\n",
    "\n",
    "    print(\n",
    "        f\"Критерий Колмогорова\",\n",
    "        \"\\nH0: различий между тестируемыми выборками нет, как и различий между их распределениями.\",\n",
    "        \"\\nУровень доверия: \", significance_level\n",
    "    )\n",
    "    if ks_value < critical_value:\n",
    "        print(f\"H0 принята: {ks_value} < {critical_value}.\")\n",
    "    else:\n",
    "        print(f\"H0 не принята: {ks_value} >= {critical_value}.\")"
   ]
  },
  {
   "cell_type": "markdown",
   "metadata": {},
   "source": [
    "Генерация выборки на ГММ"
   ]
  },
  {
   "cell_type": "code",
   "execution_count": 8,
   "metadata": {},
   "outputs": [],
   "source": [
    "def generate_samples(generate_sample, n=1000, **kwargs):\n",
    "    return np.array([generate_sample(**kwargs) for _ in range(n)])"
   ]
  },
  {
   "cell_type": "markdown",
   "metadata": {},
   "source": [
    "#### Равномерное распределение на ГММ и встроенном генераторе"
   ]
  },
  {
   "cell_type": "code",
   "execution_count": 9,
   "metadata": {},
   "outputs": [],
   "source": [
    "def uniform_sample(a=0, b=1):\n",
    "    x = MMG.rand()\n",
    "    return (b - a) * x + a"
   ]
  },
  {
   "cell_type": "code",
   "execution_count": 10,
   "metadata": {},
   "outputs": [],
   "source": [
    "def uniform_cdf(x, a=0, b=1):\n",
    "    return 0 if x < a else 1 if x > b else (x - a) / (b - a)"
   ]
  },
  {
   "cell_type": "code",
   "execution_count": 11,
   "metadata": {},
   "outputs": [],
   "source": [
    "a = 10\n",
    "b = 100"
   ]
  },
  {
   "cell_type": "code",
   "execution_count": 12,
   "metadata": {},
   "outputs": [],
   "source": [
    "uniform = generate_samples(uniform_sample, a=a, b=b)"
   ]
  },
  {
   "cell_type": "code",
   "execution_count": 13,
   "metadata": {},
   "outputs": [
    {
     "name": "stdout",
     "output_type": "stream",
     "text": [
      "Теоретическое мат. ожидание: 55.0\n",
      "Несмещенная оценка матожидания: 54.595004396392035\n",
      "Теоретическая дисперсия: 675.0\n",
      "Несмещенная оценка дисперсии: 681.5823473474404\n"
     ]
    }
   ],
   "source": [
    "print(\"Теоретическое мат. ожидание:\", (a + b) / 2)\n",
    "print(\"Несмещенная оценка матожидания:\", uniform.mean())\n",
    "print(\"Теоретическая дисперсия:\", (b - a) ** 2 / 12)\n",
    "print(\"Несмещенная оценка дисперсии:\", uniform.var())"
   ]
  },
  {
   "cell_type": "code",
   "execution_count": 14,
   "metadata": {},
   "outputs": [
    {
     "name": "stdout",
     "output_type": "stream",
     "text": [
      "Критерий Колмогорова \n",
      "H0: различий между тестируемыми выборками нет, как и различий между их распределениями. \n",
      "Уровень доверия:  0.95\n",
      "H0 принята: 0.6098119631852844 < 1.3580986393225505.\n"
     ]
    }
   ],
   "source": [
    "ks_test(uniform, uniform_cdf, a=a, b=b)"
   ]
  },
  {
   "cell_type": "code",
   "execution_count": 15,
   "metadata": {},
   "outputs": [
    {
     "data": {
      "text/plain": [
       "<AxesSubplot:ylabel='Count'>"
      ]
     },
     "execution_count": 15,
     "metadata": {},
     "output_type": "execute_result"
    },
    {
     "data": {
      "image/png": "[encoded data removed]",
      "text/plain": [
       "<Figure size 1080x576 with 1 Axes>"
      ]
     },
     "metadata": {},
     "output_type": "display_data"
    }
   ],
   "source": [
    "sns.histplot(uniform, kde=True, linewidth=0)"
   ]
  },
  {
   "cell_type": "markdown",
   "metadata": {},
   "source": [
    "#### Одномерное нормальное распределение на ГММ и встроенном генераторе"
   ]
  },
  {
   "cell_type": "code",
   "execution_count": 16,
   "metadata": {},
   "outputs": [],
   "source": [
    "def normal_sample(N=12, loc=0, scale=1):\n",
    "    sum = 0 \n",
    "    for i in range(0, N):\n",
    "        sum += np.random.rand()\n",
    "    return loc + (12 / N) ** 0.5 * (sum - N / 2) * scale"
   ]
  },
  {
   "cell_type": "code",
   "execution_count": 17,
   "metadata": {},
   "outputs": [],
   "source": [
    "def normal_cdf(x, loc=0, scale=1):\n",
    "    return 0.5 * (1 + erf((x - loc) / (scale * 2 ** 0.5)))"
   ]
  },
  {
   "cell_type": "code",
   "execution_count": 18,
   "metadata": {},
   "outputs": [],
   "source": [
    "N = 24\n",
    "m = 8\n",
    "s2 = 16\n",
    "s = s2 ** 0.5"
   ]
  },
  {
   "cell_type": "code",
   "execution_count": 19,
   "metadata": {},
   "outputs": [],
   "source": [
    "normal = generate_samples(normal_sample, loc=m, scale=s)"
   ]
  },
  {
   "cell_type": "code",
   "execution_count": 20,
   "metadata": {},
   "outputs": [
    {
     "name": "stdout",
     "output_type": "stream",
     "text": [
      "Теоретическое мат. ожидание: 8\n",
      "Несмещенная оценка матожидания: 7.810155456981967\n",
      "Теоретическая дисперсия: 16\n",
      "Несмещенная оценка дисперсии: 14.9822605886706\n"
     ]
    }
   ],
   "source": [
    "print(\"Теоретическое мат. ожидание:\", m)\n",
    "print(\"Несмещенная оценка матожидания:\", normal.mean())\n",
    "print(\"Теоретическая дисперсия:\", s2)\n",
    "print(\"Несмещенная оценка дисперсии:\", normal.var())"
   ]
  },
  {
   "cell_type": "code",
   "execution_count": 21,
   "metadata": {},
   "outputs": [
    {
     "name": "stdout",
     "output_type": "stream",
     "text": [
      "Критерий Колмогорова \n",
      "H0: различий между тестируемыми выборками нет, как и различий между их распределениями. \n",
      "Уровень доверия:  0.95\n",
      "H0 принята: 1.1696457007832735 < 1.3580986393225505.\n"
     ]
    }
   ],
   "source": [
    "ks_test(normal, normal_cdf, loc=m, scale=s)"
   ]
  },
  {
   "cell_type": "code",
   "execution_count": 22,
   "metadata": {
    "colab": {
     "base_uri": "https://localhost:8080/",
     "height": 473
    },
    "id": "EgkwZYCag3ts",
    "outputId": "438012f7-a5fe-459f-e5dd-e71d565e6c34"
   },
   "outputs": [
    {
     "data": {
      "text/plain": [
       "<AxesSubplot:ylabel='Count'>"
      ]
     },
     "execution_count": 22,
     "metadata": {},
     "output_type": "execute_result"
    },
    {
     "data": {
      "image/png": "[encoded data removed]",
      "text/plain": [
       "<Figure size 1080x576 with 1 Axes>"
      ]
     },
     "metadata": {},
     "output_type": "display_data"
    }
   ],
   "source": [
    "sns.histplot(normal, kde=True, linewidth=0)"
   ]
  },
  {
   "cell_type": "markdown",
   "metadata": {},
   "source": [
    "#### Логнормальное распределение на ГММ и встроенном генераторе"
   ]
  },
  {
   "cell_type": "code",
   "execution_count": 23,
   "metadata": {},
   "outputs": [],
   "source": [
    "def lognormal_sample(N=12, loc=0, scale=1):\n",
    "    sum = 0\n",
    "    for i in range(0, 12):\n",
    "        sum += MMG.rand()\n",
    "    sum -= 6\n",
    "    return np.exp(loc + scale * sum)"
   ]
  },
  {
   "cell_type": "code",
   "execution_count": 24,
   "metadata": {},
   "outputs": [],
   "source": [
    "def lognormal_cdf(x, loc=0, scale=1):\n",
    "    return 0.5 * (1 + erf((np.log(x) - loc) / (scale * 2 ** 0.5)))"
   ]
  },
  {
   "cell_type": "code",
   "execution_count": 25,
   "metadata": {},
   "outputs": [],
   "source": [
    "N = 20\n",
    "\n",
    "m = 14\n",
    "s2 = 9\n",
    "s = s2 ** 0.5"
   ]
  },
  {
   "cell_type": "code",
   "execution_count": 26,
   "metadata": {},
   "outputs": [],
   "source": [
    "lognormal = generate_samples(lognormal_sample, loc=m, scale=s)"
   ]
  },
  {
   "cell_type": "code",
   "execution_count": 27,
   "metadata": {},
   "outputs": [
    {
     "name": "stdout",
     "output_type": "stream",
     "text": [
      "Теоретическое мат. ожидание: 108254987.75023076\n",
      "Несмещенная оценка матожидания: 245080172.8509132\n",
      "Теоретическая дисперсия: 9.49494750636517e+19\n",
      "Несмещенная оценка дисперсии: 2.8477508915220705e+19\n"
     ]
    }
   ],
   "source": [
    "print(\"Теоретическое мат. ожидание:\", np.exp(m + s2 / 2))\n",
    "print(\"Несмещенная оценка матожидания:\", lognormal.mean())\n",
    "print(\"Теоретическая дисперсия:\", (np.exp(s2) - 1) * np.exp(2 * m + s2))\n",
    "print(\"Несмещенная оценка дисперсии:\", lognormal.var())"
   ]
  },
  {
   "cell_type": "code",
   "execution_count": 28,
   "metadata": {},
   "outputs": [
    {
     "name": "stdout",
     "output_type": "stream",
     "text": [
      "Критерий Колмогорова \n",
      "H0: различий между тестируемыми выборками нет, как и различий между их распределениями. \n",
      "Уровень доверия:  0.95\n",
      "H0 принята: 1.3338877035524728 < 1.3580986393225505.\n"
     ]
    }
   ],
   "source": [
    "ks_test(lognormal, lognormal_cdf, loc=m, scale=s)"
   ]
  },
  {
   "cell_type": "code",
   "execution_count": 29,
   "metadata": {
    "colab": {
     "base_uri": "https://localhost:8080/",
     "height": 486
    },
    "id": "mPpdhptpxDpi",
    "outputId": "5836fe26-d2e7-4167-b622-bd5484222710"
   },
   "outputs": [
    {
     "data": {
      "text/plain": [
       "<AxesSubplot:ylabel='Count'>"
      ]
     },
     "execution_count": 29,
     "metadata": {},
     "output_type": "execute_result"
    },
    {
     "data": {
      "image/png": "[encoded data removed]",
      "text/plain": [
       "<Figure size 1080x576 with 1 Axes>"
      ]
     },
     "metadata": {},
     "output_type": "display_data"
    }
   ],
   "source": [
    "sns.histplot(lognormal, kde=True, linewidth=0)"
   ]
  },
  {
   "cell_type": "markdown",
   "metadata": {},
   "source": [
    "#### Экспоненциальное распределение на ГММ и встроенном генераторе"
   ]
  },
  {
   "cell_type": "code",
   "execution_count": 30,
   "metadata": {},
   "outputs": [],
   "source": [
    "def exponential_sample(a=1):\n",
    "    return -np.log(MMG.rand()) / a"
   ]
  },
  {
   "cell_type": "code",
   "execution_count": 31,
   "metadata": {},
   "outputs": [],
   "source": [
    "def exponential_cdf(x, a=1):\n",
    "    return 1 - np.exp(-a * x)"
   ]
  },
  {
   "cell_type": "code",
   "execution_count": 32,
   "metadata": {},
   "outputs": [],
   "source": [
    "a = 0.5"
   ]
  },
  {
   "cell_type": "code",
   "execution_count": 33,
   "metadata": {},
   "outputs": [],
   "source": [
    "exponential = generate_samples(exponential_sample, a=a)"
   ]
  },
  {
   "cell_type": "code",
   "execution_count": 34,
   "metadata": {
    "colab": {
     "base_uri": "https://localhost:8080/",
     "height": 473
    },
    "id": "BnnKtruRgte5",
    "outputId": "fb6d238b-f99b-4d66-ae2b-29a30beaa0b1"
   },
   "outputs": [
    {
     "name": "stdout",
     "output_type": "stream",
     "text": [
      "Теоретическое мат. ожидание: 2.0\n",
      "Несмещенная оценка матожидания: 1.9604950159501853\n",
      "Теоретическая дисперсия: 4.0\n",
      "Несмещенная оценка дисперсии: 3.962950328371279\n"
     ]
    }
   ],
   "source": [
    "print(\"Теоретическое мат. ожидание:\", 1 / a)\n",
    "print(\"Несмещенная оценка матожидания:\", exponential.mean())\n",
    "print(\"Теоретическая дисперсия:\", 1 / a ** 2)\n",
    "print(\"Несмещенная оценка дисперсии:\", exponential.var())"
   ]
  },
  {
   "cell_type": "code",
   "execution_count": 35,
   "metadata": {},
   "outputs": [
    {
     "name": "stdout",
     "output_type": "stream",
     "text": [
      "Критерий Колмогорова \n",
      "H0: различий между тестируемыми выборками нет, как и различий между их распределениями. \n",
      "Уровень доверия:  0.95\n",
      "H0 принята: 0.8472389950729274 < 1.3580986393225505.\n"
     ]
    }
   ],
   "source": [
    "ks_test(exponential, exponential_cdf, a=a)"
   ]
  },
  {
   "cell_type": "code",
   "execution_count": 36,
   "metadata": {},
   "outputs": [
    {
     "data": {
      "text/plain": [
       "<AxesSubplot:ylabel='Count'>"
      ]
     },
     "execution_count": 36,
     "metadata": {},
     "output_type": "execute_result"
    },
    {
     "data": {
      "image/png": "[encoded data removed]",
      "text/plain": [
       "<Figure size 1080x576 with 1 Axes>"
      ]
     },
     "metadata": {},
     "output_type": "display_data"
    }
   ],
   "source": [
    "sns.histplot(exponential, kde=True, linewidth=0)"
   ]
  },
  {
   "cell_type": "markdown",
   "metadata": {},
   "source": [
    "#### Распределение Лапласа на ГММ и встроенном генераторе"
   ]
  },
  {
   "cell_type": "code",
   "execution_count": 37,
   "metadata": {},
   "outputs": [],
   "source": [
    "def laplace_sample(a):\n",
    "    n = MMG.rand()\n",
    "    if n < 0.5:\n",
    "        return math.log(2 * n) / a\n",
    "    else:\n",
    "        return -math.log(2 * (1 - n)) / a"
   ]
  },
  {
   "cell_type": "code",
   "execution_count": 38,
   "metadata": {},
   "outputs": [],
   "source": [
    "def laplace_cdf(x, a):\n",
    "    if x < 0:\n",
    "        return 0.5 * np.exp(a * x);\n",
    "    else:\n",
    "        return 1 - 0.5 * np.exp(-a * x);"
   ]
  },
  {
   "cell_type": "code",
   "execution_count": 39,
   "metadata": {},
   "outputs": [],
   "source": [
    "a = 0.2\n",
    "mu = 0"
   ]
  },
  {
   "cell_type": "code",
   "execution_count": 40,
   "metadata": {},
   "outputs": [],
   "source": [
    "laplace = generate_samples(laplace_sample, a=a)"
   ]
  },
  {
   "cell_type": "code",
   "execution_count": 41,
   "metadata": {},
   "outputs": [
    {
     "name": "stdout",
     "output_type": "stream",
     "text": [
      "Теоретическое мат. ожидание: 0\n",
      "Несмещенная оценка матожидания: -0.1719207511144699\n",
      "Теоретическая дисперсия: 49.99999999999999\n",
      "Несмещенная оценка дисперсии: 48.725624822174225\n"
     ]
    }
   ],
   "source": [
    "print(\"Теоретическое мат. ожидание:\", mu)\n",
    "print(\"Несмещенная оценка матожидания:\", laplace.mean())\n",
    "print(\"Теоретическая дисперсия:\", 2 / a ** 2)\n",
    "print(\"Несмещенная оценка дисперсии:\", laplace.var())"
   ]
  },
  {
   "cell_type": "code",
   "execution_count": 42,
   "metadata": {},
   "outputs": [
    {
     "name": "stdout",
     "output_type": "stream",
     "text": [
      "Критерий Колмогорова \n",
      "H0: различий между тестируемыми выборками нет, как и различий между их распределениями. \n",
      "Уровень доверия:  0.95\n",
      "H0 принята: 0.6790089254402735 < 1.3580986393225505.\n"
     ]
    }
   ],
   "source": [
    "ks_test(laplace, laplace_cdf, a=a)"
   ]
  },
  {
   "cell_type": "code",
   "execution_count": 43,
   "metadata": {},
   "outputs": [
    {
     "data": {
      "text/plain": [
       "<AxesSubplot:ylabel='Count'>"
      ]
     },
     "execution_count": 43,
     "metadata": {},
     "output_type": "execute_result"
    },
    {
     "data": {
      "image/png": "[encoded data removed]",
      "text/plain": [
       "<Figure size 1080x576 with 1 Axes>"
      ]
     },
     "metadata": {},
     "output_type": "display_data"
    }
   ],
   "source": [
    "sns.histplot(laplace, kde=True, linewidth=0)"
   ]
  },
  {
   "cell_type": "markdown",
   "metadata": {},
   "source": [
    "#### Логистическое распределение на ГММ и встроенном генераторе"
   ]
  },
  {
   "cell_type": "code",
   "execution_count": 44,
   "metadata": {},
   "outputs": [],
   "source": [
    "def logistic_sample(loc=0, scale=1):\n",
    "    x = MMG.rand()\n",
    "    return loc + scale * np.log(x / (1 - x))"
   ]
  },
  {
   "cell_type": "code",
   "execution_count": 45,
   "metadata": {},
   "outputs": [],
   "source": [
    "def logistic_cdf(x, loc=0, scale=1):\n",
    "    return 1 / (1 + np.exp(-(x - loc) / scale))"
   ]
  },
  {
   "cell_type": "code",
   "execution_count": 46,
   "metadata": {},
   "outputs": [],
   "source": [
    "mu = 0\n",
    "k = 1.5"
   ]
  },
  {
   "cell_type": "code",
   "execution_count": 47,
   "metadata": {},
   "outputs": [],
   "source": [
    "logistic = generate_samples(logistic_sample, loc=mu, scale=k)"
   ]
  },
  {
   "cell_type": "code",
   "execution_count": 48,
   "metadata": {},
   "outputs": [
    {
     "name": "stdout",
     "output_type": "stream",
     "text": [
      "Теоретическое мат. ожидание: 0\n",
      "Несмещенная оценка матожидания: 0.0015370439730836125\n",
      "Теоретическая дисперсия: 7.4022033008170185\n",
      "Несмещенная оценка дисперсии: 7.826914837644057\n"
     ]
    }
   ],
   "source": [
    "print(\"Теоретическое мат. ожидание:\", mu)\n",
    "print(\"Несмещенная оценка матожидания:\", logistic.mean())\n",
    "print(\"Теоретическая дисперсия:\", np.pi ** 2 * k ** 2 / 3)\n",
    "print(\"Несмещенная оценка дисперсии:\", logistic.var())"
   ]
  },
  {
   "cell_type": "code",
   "execution_count": 49,
   "metadata": {},
   "outputs": [
    {
     "name": "stdout",
     "output_type": "stream",
     "text": [
      "Критерий Колмогорова \n",
      "H0: различий между тестируемыми выборками нет, как и различий между их распределениями. \n",
      "Уровень доверия:  0.95\n",
      "H0 принята: 0.4842028723438637 < 1.3580986393225505.\n"
     ]
    }
   ],
   "source": [
    "ks_test(logistic, logistic_cdf, loc=mu, scale=k)"
   ]
  },
  {
   "cell_type": "code",
   "execution_count": 50,
   "metadata": {
    "colab": {
     "base_uri": "https://localhost:8080/",
     "height": 473
    },
    "id": "C_vlExhFhGVe",
    "outputId": "21b408f3-6b76-417c-a0f4-45e45e25ea71"
   },
   "outputs": [
    {
     "data": {
      "text/plain": [
       "<AxesSubplot:ylabel='Count'>"
      ]
     },
     "execution_count": 50,
     "metadata": {},
     "output_type": "execute_result"
    },
    {
     "data": {
      "image/png": "[encoded data removed]",
      "text/plain": [
       "<Figure size 1080x576 with 1 Axes>"
      ]
     },
     "metadata": {},
     "output_type": "display_data"
    }
   ],
   "source": [
    "sns.histplot(logistic, kde=True, linewidth=0)"
   ]
  },
  {
   "cell_type": "code",
   "execution_count": null,
   "metadata": {},
   "outputs": [],
   "source": []
  }
 ],
 "metadata": {
  "colab": {
   "provenance": []
  },
  "kernelspec": {
   "display_name": "Python 3 (ipykernel)",
   "language": "python",
   "name": "python3"
  },
  "language_info": {
   "codemirror_mode": {
    "name": "ipython",
    "version": 3
   },
   "file_extension": ".py",
   "mimetype": "text/x-python",
   "name": "python",
   "nbconvert_exporter": "python",
   "pygments_lexer": "ipython3",
   "version": "3.8.5"
  }
 },
 "nbformat": 4,
 "nbformat_minor": 1
}
