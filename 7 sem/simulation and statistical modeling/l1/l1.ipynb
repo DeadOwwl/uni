{
 "cells": [
  {
   "cell_type": "markdown",
   "id": "f8bd9305",
   "metadata": {},
   "source": [
    "# L1. Alina Kragel"
   ]
  },
  {
   "cell_type": "code",
   "execution_count": 9,
   "id": "f408c007",
   "metadata": {},
   "outputs": [],
   "source": [
    "from functools import reduce\n",
    "import numpy as np\n",
    "import matplotlib.pyplot as plt\n",
    "import math\n",
    "import scipy.stats as sps \n",
    "import random"
   ]
  },
  {
   "cell_type": "markdown",
   "id": "93cc55a5",
   "metadata": {},
   "source": [
    "## Task 1."
   ]
  },
  {
   "cell_type": "code",
   "execution_count": 2,
   "id": "69a10e29",
   "metadata": {},
   "outputs": [],
   "source": [
    "def get_a(m: int) -> int:\n",
    "    \n",
    "    def delimiters(val) -> list:\n",
    "        return [*filter(lambda x: val % x == 0, range(1, val // 2 + 1)), val]\n",
    "    \n",
    "    def is_simple(val) -> bool:\n",
    "        return val == 1 or len(delimiters(val)) == 2\n",
    "\n",
    "    sd = list(filter(lambda x: is_simple(x), delimiters(m)))\n",
    "    b = reduce(lambda a, x: a * x, sd)\n",
    "    if m % 4 == 0 and b % 4 != 0:\n",
    "        b *= 4\n",
    "\n",
    "    return b + 1"
   ]
  },
  {
   "cell_type": "code",
   "execution_count": 3,
   "id": "7e6c15f4",
   "metadata": {},
   "outputs": [],
   "source": [
    "def lcg(a: int, x: int, c: int, M: int, length: int) -> list:\n",
    "    result = []\n",
    "    for _ in range(length):\n",
    "        rd = (a * x + c) % M\n",
    "        x = rd\n",
    "        result.append(x / M)\n",
    "    return result"
   ]
  },
  {
   "cell_type": "markdown",
   "id": "ba5be948",
   "metadata": {},
   "source": [
    "### Subtask 1."
   ]
  },
  {
   "cell_type": "code",
   "execution_count": 5,
   "id": "cfb3c2d6",
   "metadata": {},
   "outputs": [
    {
     "name": "stdout",
     "output_type": "stream",
     "text": [
      "a_LCG_1: 92\n",
      "x0_LCG_1: 79\n",
      "c_LCG_1: 73\n",
      "M_LCG_1: 91\n"
     ]
    }
   ],
   "source": [
    "M_LCG_1 = 91\n",
    "a_LCG_1 = get_a(M_LCG_1)\n",
    "x0_LCG_1, c_LCG_1 = 79, 73\n",
    "print(f'a_LCG_1: {a_LCG_1}\\nx0_LCG_1: {x0_LCG_1}\\nc_LCG_1: {c_LCG_1}\\nM_LCG_1: {M_LCG_1}')"
   ]
  },
  {
   "cell_type": "markdown",
   "id": "3418907d",
   "metadata": {},
   "source": [
    "### Subtask 2."
   ]
  },
  {
   "cell_type": "code",
   "execution_count": 6,
   "id": "415fee60",
   "metadata": {},
   "outputs": [
    {
     "name": "stdout",
     "output_type": "stream",
     "text": [
      "a_LCG_2: 65536\n",
      "x0_LCG_2: 512\n",
      "c_LCG_2: 73\n",
      "M_LCG_2: 65535\n"
     ]
    }
   ],
   "source": [
    "M_LCG_2 = 2**16 - 1\n",
    "a_LCG_2 = get_a(M_LCG_2)\n",
    "x0_LCG_2, c_LCG_2 = 2**9, 73\n",
    "\n",
    "print(f'a_LCG_2: {a_LCG_2}\\nx0_LCG_2: {x0_LCG_2}\\nc_LCG_2: {c_LCG_2}\\nM_LCG_2: {M_LCG_2}')"
   ]
  },
  {
   "cell_type": "markdown",
   "id": "e4ac6f56",
   "metadata": {},
   "source": [
    "### Subtask 3."
   ]
  },
  {
   "cell_type": "code",
   "execution_count": 8,
   "id": "6ab0fdd0",
   "metadata": {},
   "outputs": [
    {
     "name": "stdout",
     "output_type": "stream",
     "text": [
      "a_LCG_3: 16777218\n",
      "x0_LCG_3: 4096\n",
      "c_LCG_3: 1140671485\n",
      "M_LCG_3: 16777217\n"
     ]
    }
   ],
   "source": [
    "M_LCG_3 = 2**24 + 1\n",
    "a_LCG_3 = get_a(M_LCG_3)\n",
    "x0_LCG_3, c_LCG_3 = 2**12, 1_140_671_485\n",
    "print(f'a_LCG_3: {a_LCG_3}\\nx0_LCG_3: {x0_LCG_3}\\nc_LCG_3: {c_LCG_3}\\nM_LCG_3: {M_LCG_3}')"
   ]
  },
  {
   "cell_type": "markdown",
   "id": "3f678756",
   "metadata": {},
   "source": [
    "## Task 2."
   ]
  },
  {
   "cell_type": "code",
   "execution_count": null,
   "id": "d34aa16d",
   "metadata": {},
   "outputs": [],
   "source": [
    "def gen_Mac_Mar(b_array: list, c_array: list) -> list:\n",
    "    k = 256\n",
    "    z1 = b_array[:k]\n",
    "    s = [int(c_array[i] * k) for i in range(k)]\n",
    "    g1 = random.choice(b_array)\n",
    "    g2 = random.choice(c_array)\n",
    "    result = []\n",
    "    M = int(g2 * k)\n",
    "    z1[M] = g1\n",
    "    for i in range(k):\n",
    "        \n",
    "#     y = lcg()\n",
    "#     result = []\n",
    "#     for i in range(len(c_array)):\n",
    "#         result.append(b_array[i * K + int(c_array[i] * K)])\n",
    "    return result"
   ]
  },
  {
   "cell_type": "code",
   "execution_count": null,
   "id": "f89cc168",
   "metadata": {},
   "outputs": [],
   "source": [
    "result_fourth = gen_Mac_Mar(result_second, result_third)"
   ]
  },
  {
   "cell_type": "markdown",
   "id": "7794fde3",
   "metadata": {},
   "source": [
    "## Task 3."
   ]
  },
  {
   "cell_type": "markdown",
   "id": "baa75f2b",
   "metadata": {},
   "source": [
    "### Subtask 1."
   ]
  },
  {
   "cell_type": "code",
   "execution_count": null,
   "id": "740d94cd",
   "metadata": {},
   "outputs": [],
   "source": [
    "def subplot_scatter_show(x1: list, y1: list, x2: list, y2: list):\n",
    "    fig, ax = plt.subplots(1, 2, figsize=(20, 8))\n",
    "    ax[0].scatter(x1, y1, color='green')\n",
    "    ax[1].scatter(x2, y2, color='green')\n",
    "    plt.show()"
   ]
  },
  {
   "cell_type": "code",
   "execution_count": null,
   "id": "049e710a",
   "metadata": {},
   "outputs": [],
   "source": [
    "def scatter_show(x: list, y: list):\n",
    "    fig, ax = plt.subplots(figsize=(10, 6))\n",
    "    ax.scatter(x, y, color='green')\n",
    "    plt.show()"
   ]
  },
  {
   "cell_type": "code",
   "execution_count": null,
   "id": "4ae8df58",
   "metadata": {},
   "outputs": [],
   "source": [
    "n1 = 10**4\n",
    "n2 = 10**6\n",
    "\n",
    "M_condition = 91\n",
    "a_condition = get_a(M_condition)\n",
    "x0_condition, c_condition = 3967, 1046527"
   ]
  },
  {
   "cell_type": "markdown",
   "id": "67af105f",
   "metadata": {},
   "source": [
    "Результаты для линейного конгруэнтного генератора с параметрами Task 1 - Subtask 1."
   ]
  },
  {
   "cell_type": "code",
   "execution_count": null,
   "id": "e9a9f8e3",
   "metadata": {},
   "outputs": [],
   "source": [
    "result_first_n1 = lcg(a_condition, x0_condition, c_condition, M_condition, n1)\n",
    "print(f'a1: {a_condition}\\nx01: {x0_condition}\\nc1: {c_condition}\\nM1: {M_condition}\\nn1: {n1}\\n')\n",
    "\n",
    "result_first_n2 = lcg(a_condition, x0_condition, c_condition, M_condition, n2)\n",
    "print(f'a1: {a_condition}\\nx01: {x0_condition}\\nc1: {c_condition}\\nM1: {M_condition}\\nn2: {n2}')\n",
    "\n",
    "subplot_scatter_show(result_first_n1[:len(result_first_n1) - 1], result_first_n1[1:],\n",
    "                    result_first_n2[:len(result_first_n2) - 1], result_first_n2[1:])"
   ]
  },
  {
   "cell_type": "code",
   "execution_count": null,
   "id": "a6b2512e",
   "metadata": {},
   "outputs": [],
   "source": [
    "M_condition = 2**13\n",
    "a_condition = get_a(M_condition)"
   ]
  },
  {
   "cell_type": "markdown",
   "id": "e3d3ccf6",
   "metadata": {},
   "source": [
    "Результаты для линейного конгруэнтного генератора с параметрами Task 1 - Subtask 2."
   ]
  },
  {
   "cell_type": "code",
   "execution_count": null,
   "id": "55991f96",
   "metadata": {},
   "outputs": [],
   "source": [
    "result_second_n1 = lcg(a_condition, x0_condition, c_condition, M_condition, n1)\n",
    "print(f'a2: {a_condition}\\nx02: {x0_condition}\\nc2: {c_condition}\\nM2: {M_condition}\\nn1: {n1}\\n')\n",
    "\n",
    "result_second_n2 = lcg(a_condition, x0_condition, c_condition, M_condition, n2)\n",
    "print(f'a2: {a_condition}\\nx02: {x0_condition}\\nc2: {c_condition}\\nM2: {M_condition}\\nn2: {n2}')\n",
    "\n",
    "subplot_scatter_show(result_second_n1[:len(result_second_n1) - 1], result_second_n1[1:],\n",
    "                    result_second_n2[:len(result_second_n2) - 1], result_second_n2[1:])"
   ]
  },
  {
   "cell_type": "markdown",
   "id": "159350fe",
   "metadata": {},
   "source": [
    "Результаты для линейного конгруэнтного генератора с параметрами Task 1 - Subtask 3."
   ]
  },
  {
   "cell_type": "code",
   "execution_count": null,
   "id": "a91d1e7d",
   "metadata": {},
   "outputs": [],
   "source": [
    "M_condition = 2**29\n",
    "a_condition = get_a(M_condition)\n",
    "a_condition"
   ]
  },
  {
   "cell_type": "code",
   "execution_count": null,
   "id": "08dd8e57",
   "metadata": {},
   "outputs": [],
   "source": [
    "result_third_n1 = lcg(a_condition, x0_condition, c_condition, M_condition, n1)\n",
    "print(f'a3: {a_condition}\\nx03: {x0_condition}\\nc3: {c_condition}\\nM3: {M_condition}\\nn1: {n1}\\n')\n",
    "\n",
    "result_third_n2 = lcg(a_condition, x0_condition, c_condition, M_condition, n2)\n",
    "print(f'a3: {a_condition}\\nx03: {x0_condition}\\nc3: {c_condition}\\nM3: {M_condition}\\nn2: {n2}')\n",
    "\n",
    "subplot_scatter_show(result_third_n1[:len(result_third_n1) - 1], result_third_n1[1:],\n",
    "                    result_third_n2[:len(result_third_n2) - 1], result_third_n2[1:])"
   ]
  },
  {
   "cell_type": "markdown",
   "id": "4d593f5b",
   "metadata": {},
   "source": [
    "### Subtask 2."
   ]
  },
  {
   "cell_type": "code",
   "execution_count": null,
   "id": "83fd57d3",
   "metadata": {},
   "outputs": [],
   "source": [
    "epsilon = 0.04"
   ]
  },
  {
   "cell_type": "code",
   "execution_count": null,
   "id": "3347f2d6",
   "metadata": {},
   "outputs": [],
   "source": [
    "def moment_coincidence_test (arr: list, eps: float) -> tuple:\n",
    "    n = len(arr)\n",
    "    \n",
    "    mu = 1 / 2\n",
    "    sigma_square = 1 / 12\n",
    "\n",
    "    m = sum(arr) / n\n",
    "    print(f'm: {m}')\n",
    "    s_square = sum([(a_i - m)**2 for a_i in arr]) / (n - 1)\n",
    "    print(f's_square: {s_square}')\n",
    "    \n",
    "    dzeta_1 = m - 1/2\n",
    "    dzeta_2 = s_square - 1/12\n",
    "    \n",
    "    c1_n = math.sqrt(12 * n)\n",
    "    c2_n = ((n - 1) / n) * (0.0056 / n + 0.0028 / n**2 - 0.0083 / n**3)**(-1/2)\n",
    "    \n",
    "    delta = sps.norm(loc=0, scale=1).ppf(1 - eps / 2)\n",
    "    print(f'delta: {delta}')\n",
    "    P1 = 2 * (1 - sps.norm(loc=0, scale=1).cdf(1 - c1_n * abs(dzeta_1)))\n",
    "    print(f'P1: {P1}')\n",
    "    P2 = 2 * (1 - sps.norm(loc=0, scale=1).cdf(1 - c2_n * abs(dzeta_2)))\n",
    "    print(f'P2: {P2}')\n",
    "    \n",
    "    return eps < P1, eps < P2"
   ]
  },
  {
   "cell_type": "markdown",
   "id": "bf63a3b8",
   "metadata": {},
   "source": [
    "Результаты для линейного конгруэнтного генератора с параметрами Task 1 - Subtask 1 (n1)"
   ]
  },
  {
   "cell_type": "code",
   "execution_count": null,
   "id": "58d5f306",
   "metadata": {},
   "outputs": [],
   "source": [
    "results = moment_coincidence_test(result_first_n1, epsilon)\n",
    "results"
   ]
  },
  {
   "cell_type": "markdown",
   "id": "e28c76bc",
   "metadata": {},
   "source": [
    "Результаты для линейного конгруэнтного генератора с параметрами Task 1 - Subtask 1 (n2)"
   ]
  },
  {
   "cell_type": "code",
   "execution_count": null,
   "id": "54439932",
   "metadata": {},
   "outputs": [],
   "source": [
    "results = moment_coincidence_test(result_first_n2, epsilon)\n",
    "results"
   ]
  },
  {
   "cell_type": "markdown",
   "id": "e917e76f",
   "metadata": {},
   "source": [
    "Результаты для линейного конгруэнтного генератора с параметрами Task 1 - Subtask 2 (n1)"
   ]
  },
  {
   "cell_type": "code",
   "execution_count": null,
   "id": "7949b3d0",
   "metadata": {},
   "outputs": [],
   "source": [
    "results = moment_coincidence_test(result_second_n1, epsilon)\n",
    "results"
   ]
  },
  {
   "cell_type": "markdown",
   "id": "86a66c63",
   "metadata": {},
   "source": [
    "Результаты для линейного конгруэнтного генератора с параметрами Task 1 - Subtask 2 (n2)"
   ]
  },
  {
   "cell_type": "code",
   "execution_count": null,
   "id": "48535942",
   "metadata": {},
   "outputs": [],
   "source": [
    "results = moment_coincidence_test(result_second_n2, epsilon)\n",
    "results"
   ]
  },
  {
   "cell_type": "markdown",
   "id": "fc125082",
   "metadata": {},
   "source": [
    "Результаты для линейного конгруэнтного генератора с параметрами Task 1 - Subtask 3 (n1)"
   ]
  },
  {
   "cell_type": "code",
   "execution_count": null,
   "id": "3443bce9",
   "metadata": {},
   "outputs": [],
   "source": [
    "results = moment_coincidence_test(result_third_n1, epsilon)\n",
    "results"
   ]
  },
  {
   "cell_type": "markdown",
   "id": "88f459fb",
   "metadata": {},
   "source": [
    "Результаты для линейного конгруэнтного генератора с параметрами Task 1 - Subtask 3 (n2)"
   ]
  },
  {
   "cell_type": "code",
   "execution_count": null,
   "id": "0ffec958",
   "metadata": {},
   "outputs": [],
   "source": [
    "results = moment_coincidence_test(result_third_n2, epsilon)\n",
    "results"
   ]
  },
  {
   "cell_type": "markdown",
   "id": "906e89cf",
   "metadata": {},
   "source": [
    "### Subtask 3."
   ]
  },
  {
   "cell_type": "code",
   "execution_count": null,
   "id": "75ad7fe3",
   "metadata": {},
   "outputs": [],
   "source": [
    "def covariance_test(arr: list, eps: float) -> list:\n",
    "    to_lim = 10\n",
    "    \n",
    "    n = len(arr)\n",
    "    delta = sps.norm(loc=0, scale=1).ppf(1 - eps / 2)\n",
    "    Rj = [0] * to_lim\n",
    "    Rj[0] = 1 / 12\n",
    "    m = sum(arr) / n\n",
    "    s_square = sum([(a_i - m)**2 for a_i in arr]) / (n - 1)\n",
    "    R_j = [0] * to_lim\n",
    "    for j in range(to_lim):\n",
    "        R_j[j] = (1 / (n - j - 1)) * sum(arr[0] * arr[i] for i in range(1, n - j)) - (n / (n - 1)) * m**2\n",
    "    \n",
    "    c = [1] * to_lim\n",
    "    c[0] = math.sqrt(2)\n",
    "    res = [0] * to_lim\n",
    "    Pj = [0] * to_lim\n",
    "    for j in range(to_lim):\n",
    "        Pj[j] = 2 * (1 - sps.norm(loc=0, scale=1).pdf(12 * math.sqrt(n - 1) * abs(R_j[j] - Rj[j]) / c[j]))\n",
    "        res[j] = eps < Pj[j]\n",
    "    return res"
   ]
  },
  {
   "cell_type": "markdown",
   "id": "70baf82d",
   "metadata": {},
   "source": [
    "Результаты для линейного конгруэнтного генератора с параметрами Task 1 - Subtask 1 (n1)"
   ]
  },
  {
   "cell_type": "code",
   "execution_count": null,
   "id": "150d46d5",
   "metadata": {},
   "outputs": [],
   "source": [
    "results = covariance_test(result_first_n1, epsilon)\n",
    "results"
   ]
  },
  {
   "cell_type": "markdown",
   "id": "35c1deff",
   "metadata": {},
   "source": [
    "Результаты для линейного конгруэнтного генератора с параметрами Task 1 - Subtask 1 (n2)"
   ]
  },
  {
   "cell_type": "code",
   "execution_count": null,
   "id": "7ae4d0ea",
   "metadata": {},
   "outputs": [],
   "source": [
    "results = covariance_test(result_first_n2, epsilon)\n",
    "results"
   ]
  },
  {
   "cell_type": "markdown",
   "id": "75764c9a",
   "metadata": {},
   "source": [
    "Результаты для линейного конгруэнтного генератора с параметрами Task 1 - Subtask 2 (n1)"
   ]
  },
  {
   "cell_type": "code",
   "execution_count": null,
   "id": "b7985663",
   "metadata": {},
   "outputs": [],
   "source": [
    "results = covariance_test(result_second_n1, epsilon)\n",
    "results"
   ]
  },
  {
   "cell_type": "markdown",
   "id": "f4427e76",
   "metadata": {},
   "source": [
    "Результаты для линейного конгруэнтного генератора с параметрами Task 1 - Subtask 2 (n2)"
   ]
  },
  {
   "cell_type": "code",
   "execution_count": null,
   "id": "258d1b3a",
   "metadata": {},
   "outputs": [],
   "source": [
    "results = covariance_test(result_second_n2, epsilon)\n",
    "results"
   ]
  },
  {
   "cell_type": "markdown",
   "id": "23c2eaff",
   "metadata": {},
   "source": [
    "Результаты для линейного конгруэнтного генератора с параметрами Task 1 - Subtask 3 (n1)"
   ]
  },
  {
   "cell_type": "code",
   "execution_count": null,
   "id": "12c61495",
   "metadata": {},
   "outputs": [],
   "source": [
    "results = covariance_test(result_third_n1, epsilon)\n",
    "results"
   ]
  },
  {
   "cell_type": "markdown",
   "id": "563d6f02",
   "metadata": {},
   "source": [
    "Результаты для линейного конгруэнтного генератора с параметрами Task 1 - Subtask 3 (n2)"
   ]
  },
  {
   "cell_type": "code",
   "execution_count": null,
   "id": "8eb24946",
   "metadata": {},
   "outputs": [],
   "source": [
    "results = covariance_test(result_third_n2, epsilon)\n",
    "results"
   ]
  },
  {
   "cell_type": "code",
   "execution_count": null,
   "id": "274519d8",
   "metadata": {},
   "outputs": [],
   "source": [
    "#\"%.2f\" %"
   ]
  },
  {
   "cell_type": "markdown",
   "id": "3f00e15d",
   "metadata": {},
   "source": [
    "### Subtask 4."
   ]
  },
  {
   "cell_type": "code",
   "execution_count": null,
   "id": "5b99904b",
   "metadata": {},
   "outputs": [],
   "source": [
    "def pearson_chi_squared_test(arr: list, eps: float) -> tupple:\n",
    "    expected_values = [sum(ob) for ob in arr] / sum(arr)\n",
    "    \n",
    "    degrees_of_freedom_chisquare_fct = len(arr) - 1\n",
    "    degrees_of_freedom = len(arr) - 1\n",
    "    delta_degrees_of_freedom = degrees_of_freedom_chisquare_fct - degrees_of_freedom\n",
    "\n",
    "    chi_squared, p_value = chisquare(\n",
    "        f_obs=obs,\n",
    "        f_exp=expected_values,\n",
    "        axis=None,\n",
    "        ddof=delta_degrees_of_freedom)\n",
    "\n",
    "    chi_squared, p_value, degrees_of_freedom, expected_values = chi2_contingency(\n",
    "        observed=obs,\n",
    "        correction=True,\n",
    "        lambda_=None)\n",
    "    \n",
    "    print(\"Degrees of Freedom :\", degrees_of_freedom)\n",
    "    print(\"Chi-squared value :\", chi_squared)\n",
    "    print(\"p-value :\", p_value)\n",
    "\n",
    "    #interpret p-value and print result\n",
    "    if p_value <= maximum_p_value:\n",
    "        print(\"Reject null hypothesis.\")\n",
    "    else:\n",
    "        print(\"Accept null hypothesis.\")"
   ]
  },
  {
   "cell_type": "code",
   "execution_count": null,
   "id": "27361ad3",
   "metadata": {},
   "outputs": [],
   "source": []
  },
  {
   "cell_type": "code",
   "execution_count": null,
   "id": "85b1586e",
   "metadata": {},
   "outputs": [],
   "source": []
  },
  {
   "cell_type": "code",
   "execution_count": null,
   "id": "7a42bcc0",
   "metadata": {},
   "outputs": [],
   "source": []
  },
  {
   "cell_type": "code",
   "execution_count": null,
   "id": "7a35fcd9",
   "metadata": {},
   "outputs": [],
   "source": []
  }
 ],
 "metadata": {
  "kernelspec": {
   "display_name": "Python 3 (ipykernel)",
   "language": "python",
   "name": "python3"
  },
  "language_info": {
   "codemirror_mode": {
    "name": "ipython",
    "version": 3
   },
   "file_extension": ".py",
   "mimetype": "text/x-python",
   "name": "python",
   "nbconvert_exporter": "python",
   "pygments_lexer": "ipython3",
   "version": "3.8.5"
  }
 },
 "nbformat": 4,
 "nbformat_minor": 5
}
