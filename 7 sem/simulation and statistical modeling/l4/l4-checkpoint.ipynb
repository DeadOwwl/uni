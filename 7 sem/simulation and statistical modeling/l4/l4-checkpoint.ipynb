{
 "cells": [
  {
   "cell_type": "code",
   "execution_count": 1,
   "id": "8deae899-548a-4aea-bd0d-656eb19e21ca",
   "metadata": {},
   "outputs": [],
   "source": [
    "import numpy as np\n",
    "import pandas as pd\n",
    "import scipy.integrate as integrate\n",
    "import matplotlib.pyplot as plt\n",
    "from matplotlib import rc\n",
    "from math import exp, log, sqrt\n",
    "from random import uniform\n",
    "from scipy.linalg import eigvals, norm, solve\n",
    "from tqdm import trange"
   ]
  },
  {
   "cell_type": "code",
   "execution_count": 2,
   "id": "28d5fb04-f07b-46ac-931a-53df10fb1862",
   "metadata": {},
   "outputs": [],
   "source": [
    "def function_a(x):\n",
    "    return x * np.exp(x ** 2)"
   ]
  },
  {
   "cell_type": "code",
   "execution_count": 3,
   "id": "fd02d42b-28f9-456c-b8c9-e70144a51aad",
   "metadata": {},
   "outputs": [],
   "source": [
    "def function_b(x):\n",
    "    return (1 + x ** 2) / (1 + x ** 6)"
   ]
  },
  {
   "cell_type": "code",
   "execution_count": 4,
   "id": "a11dbe68-1499-4a16-abda-7752d04ba41a",
   "metadata": {},
   "outputs": [],
   "source": [
    "def integral_a(function, a, b, n):\n",
    "    return sum([function(uniform(a, b)) for _ in range(n)]) * (b - a) / n"
   ]
  },
  {
   "cell_type": "code",
   "execution_count": 5,
   "id": "cfd79675-543e-4ed8-925d-4f6844f9407a",
   "metadata": {},
   "outputs": [],
   "source": [
    "def integral_b(function, n):\n",
    "    result = 0\n",
    "    temp = 1\n",
    "    left = 0\n",
    "\n",
    "    while abs(temp) > 10 ** (-9):\n",
    "        temp = 0\n",
    "        for _ in range(n):\n",
    "            c_dot = uniform(left, left + 1)\n",
    "            temp += function(c_dot)\n",
    "        temp /= n\n",
    "        result += temp\n",
    "        left += 1\n",
    "      \n",
    "    return result"
   ]
  },
  {
   "cell_type": "code",
   "execution_count": 6,
   "id": "c7aa130f-6125-410e-b8bd-5b16a54f075b",
   "metadata": {},
   "outputs": [],
   "source": [
    "def get_data():\n",
    "    bunch = []\n",
    "    for n in range(1000, 30000, 1000):\n",
    "        mc1 = integral_a(function_a, 0, 1, n)\n",
    "        math1 = integrate.quad(function_a, 0, 1)[0]\n",
    "        g1 = integrate.quadrature(function_a, 0, 1)[0]\n",
    "\n",
    "        mc2 = integral_b(function_b, n)\n",
    "        g2 = integrate.quad(function_b, 0, np.inf)[0]\n",
    "\n",
    "        bunch.append([n, mc1, math1, g1, abs(mc1 - math1), n, mc2, g2, 'None', abs(mc2 - g2)])\n",
    "    return bunch"
   ]
  },
  {
   "cell_type": "code",
   "execution_count": 9,
   "id": "d2d75d00-d20e-423d-9b3a-596ab7d8e50f",
   "metadata": {},
   "outputs": [],
   "source": [
    "def get_report_for_test():\n",
    "    data = get_data()\n",
    " \n",
    "    df = pd.DataFrame(data,\n",
    "                      columns=pd.MultiIndex.from_product([['Integral A', 'Integral B'],['n', 'Monte Carlo', 'Scipy', 'Quadratic', 'Error']], names=['Integrals:', ' ']))\n",
    "    return df"
   ]
  },
  {
   "cell_type": "code",
   "execution_count": null,
   "id": "73ec5c24-b32e-4d13-95cb-d6c831837625",
   "metadata": {},
   "outputs": [],
   "source": [
    "get_report_for_test()"
   ]
  },
  {
   "cell_type": "code",
   "execution_count": null,
   "id": "52f73281-999a-4c61-98c7-ad1ebc86592a",
   "metadata": {},
   "outputs": [],
   "source": [
    "def check_matrix(matrix):\n",
    "    \"\"\"Собственные значения матрицы / Модуль значения\"\"\"\n",
    "    data = []\n",
    "    for eigval in eigvals(A):\n",
    "        eigval_modulo = abs(eigval)\n",
    "        assert eigval_modulo < 1, 'modulo > 1'\n",
    "        data.append([np.round(eigval, 2), np.round(abs(eigval), 2)])\n",
    "    return data"
   ]
  },
  {
   "cell_type": "code",
   "execution_count": null,
   "id": "5d80b6c9-4d03-4fb9-bc56-c66cf253adec",
   "metadata": {},
   "outputs": [],
   "source": [
    "def solve(size, chain_length, matrix):\n",
    "    m = size * 1000 # realisation count\n",
    "    \n",
    "    h = np.eye(size) # Calculation Matrix\n",
    "    pi = np.ones_like(f) * (1.0 / size) # Probability vector of initial states of the Markov chain\n",
    "    P = np.array(np.ones_like(matrix)) * (1 / size) # Transition matrix\n",
    "    \n",
    "    ksi = np.zeros((m, size), dtype=float)\n",
    "    idxs = np.array(np.random.rand(m, chain_length) // (1 / size), dtype=int)\n",
    "    Q = np.zeros((m, chain_length, size), dtype=float)\n",
    "\n",
    "    for j in trange(m):\n",
    "        idx = idxs[j][0]\n",
    "        Q[j][0][idx] = 0 if not pi[idx] else h[idx, idx] / pi[idx]\n",
    "        for k in range(1, chain_length):\n",
    "            old_state = idxs[j][k - 1]\n",
    "            new_state = idxs[j][k]\n",
    "            Q[j][k][idx] = (\n",
    "                0\n",
    "                if not P[old_state][new_state]\n",
    "                else Q[j][k - 1][idx] * matrix[old_state][new_state] / P[old_state][new_state]\n",
    "            )\n",
    "\n",
    "        ksi[j] = np.dot(f[idxs[j]], Q[j])\n",
    "\n",
    "    return ksi.mean(axis=0)"
   ]
  },
  {
   "cell_type": "code",
   "execution_count": null,
   "id": "576a83b3-ea11-45a9-9f99-c76fedaad91c",
   "metadata": {},
   "outputs": [],
   "source": [
    "with open(\"03-student.txt\") as file:\n",
    "    data = file.readlines()\n",
    "\n",
    "matrix = data[1:-2]\n",
    "A = [[float(num) for num in line.split(' ')[:-1]] for line in matrix]\n",
    "\n",
    "vector = data[-1]\n",
    "f = [float(num) for num in vector.split(' ')[:-1]]\n",
    "f = np.array(f)\n",
    "\n",
    "check_data = check_matrix(A)\n",
    "print('Решение по методу Монте-Карло')\n",
    "print(solve(15, 100, A))"
   ]
  },
  {
   "cell_type": "code",
   "execution_count": null,
   "id": "d320d5a5-b389-4b32-9c2b-eae949a35b02",
   "metadata": {},
   "outputs": [],
   "source": []
  }
 ],
 "metadata": {
  "kernelspec": {
   "display_name": "Python 3 (ipykernel)",
   "language": "python",
   "name": "python3"
  },
  "language_info": {
   "codemirror_mode": {
    "name": "ipython",
    "version": 3
   },
   "file_extension": ".py",
   "mimetype": "text/x-python",
   "name": "python",
   "nbconvert_exporter": "python",
   "pygments_lexer": "ipython3",
   "version": "3.8.5"
  }
 },
 "nbformat": 4,
 "nbformat_minor": 5
}
