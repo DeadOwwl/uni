{
 "cells": [
  {
   "cell_type": "markdown",
   "id": "d500f8e1",
   "metadata": {},
   "source": [
    "# S&SM\n",
    "## L2. Alina Kragel, gr. 9"
   ]
  },
  {
   "cell_type": "code",
   "execution_count": 1,
   "id": "0ee17d25",
   "metadata": {
    "id": "0ee17d25",
    "scrolled": true
   },
   "outputs": [],
   "source": [
    "from matplotlib import pyplot as plt\n",
    "import numpy as np\n",
    "import pandas as pd\n",
    "import math\n",
    "import enum\n",
    "from matplotlib import cycler\n",
    "from functools import reduce\n",
    "from scipy.special import comb\n",
    "from scipy import stats\n",
    "from math import gcd\n",
    "from scipy.stats import norm, chi2"
   ]
  },
  {
   "cell_type": "code",
   "execution_count": 2,
   "id": "f5e865e8",
   "metadata": {},
   "outputs": [],
   "source": [
    "colors = cycler('color', ['#117A65', '#2D6C5F'])\n",
    "plt.rc('axes', facecolor='#E6E6E6', edgecolor='none',\n",
    "       axisbelow=True, grid=True, prop_cycle=colors)\n",
    "plt.rc('grid', color='w', linestyle='solid')\n",
    "plt.rc('xtick', direction='out', color='gray')\n",
    "plt.rc('ytick', direction='out', color='gray')\n",
    "plt.rc('patch', edgecolor='#2D6C5F')\n",
    "plt.rc('lines', linewidth=2)"
   ]
  },
  {
   "cell_type": "markdown",
   "id": "856b410e",
   "metadata": {},
   "source": [
    "##### Подготовительный этап\n",
    "Генераторы прошлой лабы."
   ]
  },
  {
   "cell_type": "code",
   "execution_count": 3,
   "id": "c3bf8409",
   "metadata": {},
   "outputs": [],
   "source": [
    "class LCG:\n",
    "    def __init__(self, x0, a, c, M):        \n",
    "        self.a = a\n",
    "        self.c = c\n",
    "        self.M = M\n",
    "        self.x = x0\n",
    "    \n",
    "    def __call__(self):\n",
    "        self.x = (self.x * self.a + self.c) % self.M\n",
    "        return self.x / self.M\n",
    "    \n",
    "    def get_period(self):\n",
    "        s = list()\n",
    "        while True:\n",
    "            x = self()\n",
    "            if x in s:\n",
    "                break   \n",
    "            s.append(x)\n",
    "        return len(s)"
   ]
  },
  {
   "cell_type": "code",
   "execution_count": 4,
   "id": "762c6066",
   "metadata": {},
   "outputs": [],
   "source": [
    "class MMG:\n",
    "    def __init__(self, g1, g2, k):\n",
    "        assert k > 0\n",
    "        self.k = k\n",
    "        self.g1 = g1\n",
    "        self.g2 = g2\n",
    "        self.v = [g1() for _ in range(k)]\n",
    "    \n",
    "    def rand(self):\n",
    "        s = int(self.g2() * self.k)\n",
    "        rx = self.v[s]\n",
    "        self.v[s] = self.g1()\n",
    "        return rx"
   ]
  },
  {
   "cell_type": "markdown",
   "id": "c7279d9d",
   "metadata": {},
   "source": [
    "##### Параметры генераторов\n",
    "LCG2: x0 = 2 ** 8, a = 75, c = 74, M = 2 ** 16 + 1\\\n",
    "LCG3: x0 = 2 ** 12, a = 1 140 671 485, c = 12 820 163, M = 2 ** 24\\\n",
    "MMG: LCG3, LCG2, k = 100"
   ]
  },
  {
   "cell_type": "code",
   "execution_count": 5,
   "id": "48275278",
   "metadata": {},
   "outputs": [],
   "source": [
    "MMG = MMG(LCG(2 ** 12, 1_140_671_485, 12_820_163, 2 ** 24), LCG(2 ** 8, 75, 74, 2 ** 16 + 1), 100)"
   ]
  },
  {
   "cell_type": "markdown",
   "id": "d3388835",
   "metadata": {},
   "source": [
    "Оценка МО"
   ]
  },
  {
   "cell_type": "code",
   "execution_count": 6,
   "id": "504bb2f4",
   "metadata": {},
   "outputs": [],
   "source": [
    "def get_expectation(val):\n",
    "    e_obs = 0\n",
    "    for x in val:\n",
    "        e_obs += x \n",
    "    e_obs /= len(val)\n",
    "    return e_obs"
   ]
  },
  {
   "cell_type": "markdown",
   "id": "14e18351",
   "metadata": {},
   "source": [
    "Оценка Дисперсии"
   ]
  },
  {
   "cell_type": "code",
   "execution_count": 7,
   "id": "8b1fa957",
   "metadata": {},
   "outputs": [],
   "source": [
    "def get_dispersion(val):\n",
    "    d = 0\n",
    "    mean = 0\n",
    "    for x in val:\n",
    "        mean += x\n",
    "    mean /= len(val)\n",
    "    for x in val:\n",
    "        d += (x - mean)**2\n",
    "    d /= (len(val) - 1)\n",
    "    return d"
   ]
  },
  {
   "cell_type": "markdown",
   "id": "513ebbdb",
   "metadata": {},
   "source": [
    "Хи-Квадрат"
   ]
  },
  {
   "cell_type": "code",
   "execution_count": 8,
   "id": "2dbc33ea",
   "metadata": {
    "id": "2dbc33ea"
   },
   "outputs": [],
   "source": [
    "def chisquare(frec_obs, frec_exp):\n",
    "    chisquare = 0.0\n",
    "    for i in range(len(frec_obs)):\n",
    "        chisquare += ((frec_obs[i] - frec_exp[i])**2 / frec_exp[i])\n",
    "    return chisquare"
   ]
  },
  {
   "cell_type": "markdown",
   "id": "dd4203db",
   "metadata": {},
   "source": [
    "Длина и уровень значимости"
   ]
  },
  {
   "cell_type": "code",
   "execution_count": 9,
   "id": "H_ngkn-xNR3w",
   "metadata": {
    "id": "H_ngkn-xNR3w"
   },
   "outputs": [],
   "source": [
    "n = 1000\n",
    "eps = 0.05"
   ]
  },
  {
   "cell_type": "markdown",
   "id": "c4cba4b9",
   "metadata": {},
   "source": [
    "#### Отрицательное биномиальное распределение\n",
    "##### Получаем случайное число через свой генератор по заданному распределению"
   ]
  },
  {
   "cell_type": "code",
   "execution_count": 10,
   "id": "605fcb88",
   "metadata": {},
   "outputs": [],
   "source": [
    "def genDRV_bin(m, p):\n",
    "    q = 1 - p\n",
    "    p = p**m\n",
    "\n",
    "    r = MMG.rand() - p\n",
    "    \n",
    "    z = 0\n",
    "    while(r >= 0):\n",
    "        z += 1\n",
    "        p = p * q * ((m - 1 + z) / z)\n",
    "        r -= p\n",
    "    \n",
    "    return z"
   ]
  },
  {
   "cell_type": "markdown",
   "id": "829ebe39",
   "metadata": {},
   "source": [
    "##### Выборка заданного распределения через встроенный генератор"
   ]
  },
  {
   "cell_type": "code",
   "execution_count": 11,
   "id": "35a5d34e",
   "metadata": {},
   "outputs": [],
   "source": [
    "def p_binom(x, r, p):\n",
    "    if (x < 0):\n",
    "        return 0\n",
    "    else:\n",
    "        return comb(x + r - 1, x)*(p**r)*((1-p)**x)"
   ]
  },
  {
   "cell_type": "code",
   "execution_count": 12,
   "id": "21e9e6fc",
   "metadata": {},
   "outputs": [],
   "source": [
    "# пределы гистограммы от 0 до 2*E, считаем ожидаемые частоты попадания в каждую область гистограммы\n",
    "def exp_frec_binom(r, p):\n",
    "    lim = 2 * math.floor(r * (1 - p) / p)\n",
    "    frec_exp = []\n",
    "    p_sum = 0\n",
    "\n",
    "    for i in range(lim):\n",
    "        _p = p_binom(i, r, p)\n",
    "        p_sum += _p\n",
    "        frec_exp.append(_p * n)\n",
    "    \n",
    "    frec_exp.append(n * (1 - p_sum))\n",
    "    return frec_exp"
   ]
  },
  {
   "cell_type": "code",
   "execution_count": 13,
   "id": "2387d60a",
   "metadata": {},
   "outputs": [],
   "source": [
    "# считаем выборочные частоты попадания в области гистограммы\n",
    "def obs_frec_binom(val_obs, r, p):\n",
    "    lim = 2 * math.floor(r * (1 - p) / p)\n",
    "    f_obs = []\n",
    "    for i in range(lim + 1):\n",
    "        f_obs.append(0)\n",
    "    \n",
    "    val_sorted = sorted(val_obs)\n",
    "    for val in val_sorted:\n",
    "        if(val < lim):\n",
    "            f_obs[val] += 1\n",
    "        else:\n",
    "            f_obs[lim] += 1\n",
    "        \n",
    "    return f_obs"
   ]
  },
  {
   "cell_type": "code",
   "execution_count": 14,
   "id": "f2397c89",
   "metadata": {},
   "outputs": [],
   "source": [
    "r = 8\n",
    "p = 0.4"
   ]
  },
  {
   "cell_type": "code",
   "execution_count": 15,
   "id": "6bb08b7a",
   "metadata": {},
   "outputs": [],
   "source": [
    "val = list()\n",
    "for i in range(n):\n",
    "    val.append(genDRV_bin(r, p))"
   ]
  },
  {
   "cell_type": "code",
   "execution_count": 16,
   "id": "4d4c6e33",
   "metadata": {},
   "outputs": [],
   "source": [
    "e_obs = get_expectation(val)\n",
    "d_obs = get_dispersion(val)"
   ]
  },
  {
   "cell_type": "code",
   "execution_count": 17,
   "id": "73e4e89b",
   "metadata": {},
   "outputs": [],
   "source": [
    "# для отрицательно биномиального распределения матожидание равно (r*q) / p\n",
    "# для отрицательно биномиального распределения дисперсия равна (r*q) / (p^2)\n",
    "e_exp = r * (1 - p) / p\n",
    "d_exp = r * (1 - p) / (p**2) "
   ]
  },
  {
   "cell_type": "code",
   "execution_count": 18,
   "id": "34c246bb",
   "metadata": {},
   "outputs": [],
   "source": [
    "frec_exp = exp_frec_binom(r, p)\n",
    "frec_obs = obs_frec_binom(val, r, p)"
   ]
  },
  {
   "cell_type": "code",
   "execution_count": 19,
   "id": "92307ea4",
   "metadata": {},
   "outputs": [],
   "source": [
    "k = len(frec_exp) - 1\n",
    "delta = stats.chi2(k - 1).ppf(1 - eps)"
   ]
  },
  {
   "cell_type": "code",
   "execution_count": 20,
   "id": "dfee1fba",
   "metadata": {},
   "outputs": [
    {
     "name": "stdout",
     "output_type": "stream",
     "text": [
      "E_exp = 12.00\n",
      "E_obs = 12.14\n",
      "D_exp = 30.00\n",
      "D_obs = 31.33\n",
      "Chisq = 34.14\n",
      "Pass =  False\n"
     ]
    }
   ],
   "source": [
    "print('E_exp = ' + format(e_exp, '.2f'))\n",
    "print('E_obs = ' + format(e_obs, '.2f'))\n",
    "print('D_exp = ' + format(d_exp, '.2f'))\n",
    "print('D_obs = ' + format(d_obs, '.2f'))\n",
    "print('Chisq = ' + format(chisquare(frec_obs, frec_exp), '.2f'))\n",
    "print('Pass = ', chisquare(frec_obs, frec_exp) < delta)"
   ]
  },
  {
   "cell_type": "code",
   "execution_count": 21,
   "id": "6e96071c",
   "metadata": {},
   "outputs": [],
   "source": [
    "X_val = range(2 * math.floor(r * (1 - p) / p) + 1)\n",
    "X, Ye, Yo = np.array(X_val), np.array(frec_exp), np.array(frec_obs)"
   ]
  },
  {
   "cell_type": "code",
   "execution_count": 22,
   "id": "nYF3QnCdlzR8",
   "metadata": {
    "colab": {
     "base_uri": "https://localhost:8080/",
     "height": 439
    },
    "id": "nYF3QnCdlzR8",
    "outputId": "25dbe78a-a6d5-4351-9225-61f0b0bf7936"
   },
   "outputs": [
    {
     "data": {
      "image/png": "[encoded data removed]",
      "text/plain": [
       "<Figure size 1080x648 with 1 Axes>"
      ]
     },
     "metadata": {
      "needs_background": "dark"
     },
     "output_type": "display_data"
    }
   ],
   "source": [
    "plt.figure(figsize=(15, 9))\n",
    "plt.plot(X, Ye, 'go')\n",
    "plt.plot(X, Ye, 'g-', label = 'expected')\n",
    "plt.plot(X, Yo, 'ro')\n",
    "plt.plot(X, Yo, 'r-', label = 'observed')\n",
    "plt.legend()\n",
    "plt.show()"
   ]
  },
  {
   "cell_type": "markdown",
   "id": "364eb20a",
   "metadata": {},
   "source": [
    "#### Геометрическое распределение"
   ]
  },
  {
   "cell_type": "code",
   "execution_count": 23,
   "id": "3ff9f59e",
   "metadata": {},
   "outputs": [],
   "source": [
    "def genDRV_geom(p):\n",
    "    a = MMG.rand()\n",
    "    return math.floor(math.log(a) / math.log(1 - p)) + 1"
   ]
  },
  {
   "cell_type": "code",
   "execution_count": 24,
   "id": "24f82c0c",
   "metadata": {},
   "outputs": [],
   "source": [
    "def p_geom(x, p=0.25):\n",
    "    if (x < 1):\n",
    "        return 0\n",
    "    else:\n",
    "        return p * ((1 - p)**(x - 1))"
   ]
  },
  {
   "cell_type": "code",
   "execution_count": 25,
   "id": "9e1bb27b",
   "metadata": {},
   "outputs": [],
   "source": [
    "lim = math.floor(6/p)"
   ]
  },
  {
   "cell_type": "code",
   "execution_count": 26,
   "id": "c766b958",
   "metadata": {},
   "outputs": [],
   "source": [
    "# пределы гистограммы от 1 до lim, считаем ожидаемые частоты попадания в каждую область гистограммы\n",
    "def exp_frec_geom(p=0.25):\n",
    "    frec_exp = []\n",
    "    p_sum = 0\n",
    "\n",
    "    for i in range(1, lim):\n",
    "        _p = p_geom(i)\n",
    "        p_sum += _p\n",
    "        frec_exp.append(_p * n)\n",
    "    \n",
    "    frec_exp.append(n * (1 - p_sum))\n",
    "    return frec_exp"
   ]
  },
  {
   "cell_type": "code",
   "execution_count": 27,
   "id": "f2d678d1",
   "metadata": {},
   "outputs": [],
   "source": [
    "# считаем выборочные частоты попадания в области гистограммы\n",
    "def obs_frec_geom(val_obs, p=0.25):\n",
    "    f_obs = []\n",
    "    for i in range(1, lim + 1):\n",
    "        f_obs.append(0)\n",
    "    \n",
    "    # calculate observed frequences\n",
    "    val_sorted = sorted(val_obs)\n",
    "    for val in val_sorted:\n",
    "        if(val < lim):\n",
    "            f_obs[val - 1] += 1\n",
    "        else:\n",
    "            f_obs[lim - 1] += 1\n",
    "        \n",
    "    return f_obs"
   ]
  },
  {
   "cell_type": "code",
   "execution_count": 28,
   "id": "e6e7338b",
   "metadata": {},
   "outputs": [],
   "source": [
    "p = 0.25"
   ]
  },
  {
   "cell_type": "code",
   "execution_count": 29,
   "id": "18512f57",
   "metadata": {},
   "outputs": [],
   "source": [
    "val = list()\n",
    "for i in range(n):\n",
    "    val.append(genDRV_geom(p))"
   ]
  },
  {
   "cell_type": "code",
   "execution_count": 30,
   "id": "2b7e1690",
   "metadata": {},
   "outputs": [],
   "source": [
    "# найдем оценки матожидания и дисперсии по сгенерированной выборке\n",
    "e_obs = get_expectation(val)\n",
    "d_obs = get_dispersion(val)"
   ]
  },
  {
   "cell_type": "code",
   "execution_count": 31,
   "id": "45d89f2c",
   "metadata": {},
   "outputs": [],
   "source": [
    "# для геометрического распределения матожидание равно 1 / p \n",
    "# для геометрического распределения дисперсия равна q / (p**2) \n",
    "e_exp = 1 / p\n",
    "d_exp = (1 - p) / (p**2)"
   ]
  },
  {
   "cell_type": "code",
   "execution_count": 32,
   "id": "4272740a",
   "metadata": {},
   "outputs": [],
   "source": [
    "frec_exp = exp_frec_geom()\n",
    "frec_obs = obs_frec_geom(val)"
   ]
  },
  {
   "cell_type": "code",
   "execution_count": 33,
   "id": "47d50f27",
   "metadata": {},
   "outputs": [],
   "source": [
    "k = len(frec_exp) - 1\n",
    "delta = stats.chi2(k - 1).ppf(1 - eps)"
   ]
  },
  {
   "cell_type": "code",
   "execution_count": 34,
   "id": "0455e25d",
   "metadata": {},
   "outputs": [
    {
     "name": "stdout",
     "output_type": "stream",
     "text": [
      "E_exp = 4.00\n",
      "E_obs = 4.04\n",
      "D_exp = 12.00\n",
      "D_obs = 12.28\n",
      "Chisq = 17.47\n",
      "Pass =  True\n"
     ]
    }
   ],
   "source": [
    "print('E_exp = ' + format(e_exp, '.2f'))\n",
    "print('E_obs = ' + format(e_obs, '.2f'))\n",
    "print('D_exp = ' + format(d_exp, '.2f'))\n",
    "print('D_obs = ' + format(d_obs, '.2f'))\n",
    "print('Chisq = ' + format(chisquare(frec_obs, frec_exp), '.2f'))\n",
    "print('Pass = ', chisquare(frec_obs, frec_exp) < delta)"
   ]
  },
  {
   "cell_type": "code",
   "execution_count": 35,
   "id": "e3ad076c",
   "metadata": {},
   "outputs": [],
   "source": [
    "X_val = range(1, lim + 1)\n",
    "X, Ye, Yo = np.array(X_val), np.array(frec_exp), np.array(frec_obs)"
   ]
  },
  {
   "cell_type": "code",
   "execution_count": 36,
   "id": "RfnjHw4030xk",
   "metadata": {
    "colab": {
     "base_uri": "https://localhost:8080/",
     "height": 439
    },
    "id": "RfnjHw4030xk",
    "outputId": "2314d643-7e0b-4351-c06b-0c000760a0a4"
   },
   "outputs": [
    {
     "data": {
      "image/png": "[encoded data removed]",
      "text/plain": [
       "<Figure size 1080x648 with 1 Axes>"
      ]
     },
     "metadata": {
      "needs_background": "dark"
     },
     "output_type": "display_data"
    }
   ],
   "source": [
    "plt.figure(figsize=(15, 9))\n",
    "plt.plot(X, Ye, 'go')\n",
    "plt.plot(X, Ye, 'g-', label = 'expected')\n",
    "plt.plot(X, Yo, 'ro')\n",
    "plt.plot(X, Yo, 'r-', label = 'observed')\n",
    "plt.legend()\n",
    "plt.show()"
   ]
  },
  {
   "cell_type": "markdown",
   "id": "9b044617",
   "metadata": {},
   "source": [
    "#### Распределение Пуассона"
   ]
  },
  {
   "cell_type": "code",
   "execution_count": 37,
   "id": "e4f47f74",
   "metadata": {
    "id": "e4f47f74"
   },
   "outputs": [],
   "source": [
    "def genDRV_puas(l):\n",
    "    p = math.exp(-1 * l)\n",
    "    r = MMG.rand() - p\n",
    "    x = 0\n",
    "    while(r >= 0):\n",
    "        x += 1\n",
    "        p = (p * l) / x\n",
    "        r -= p\n",
    "    return x"
   ]
  },
  {
   "cell_type": "code",
   "execution_count": 38,
   "id": "f3f8f0a3",
   "metadata": {},
   "outputs": [],
   "source": [
    "# РАСПРЕДЕЛЕНИЕ ПУАССОНА \n",
    "\n",
    "def p_puas(x, l=3):\n",
    "    if (x < 0):\n",
    "        return 0\n",
    "    else:\n",
    "        return math.exp(-1 * l) * (l**x) / math.factorial(x)"
   ]
  },
  {
   "cell_type": "code",
   "execution_count": 39,
   "id": "a5ddad97",
   "metadata": {},
   "outputs": [],
   "source": [
    "def exp_frec_puas(l=3):\n",
    "    frec_exp = []\n",
    "    p_sum = 0\n",
    "\n",
    "    for i in range(2*l + 1):\n",
    "        p = p_puas(i)\n",
    "        p_sum += p\n",
    "        frec_exp.append(p * n)\n",
    "    \n",
    "    frec_exp.append(n * (1 - p_sum))\n",
    "    return frec_exp"
   ]
  },
  {
   "cell_type": "code",
   "execution_count": 40,
   "id": "78f80606",
   "metadata": {},
   "outputs": [],
   "source": [
    "def obs_frec_puas(val_obs, l=3):\n",
    "    f_obs = []\n",
    "    for i in range(2*l + 2):\n",
    "        f_obs.append(0)\n",
    "    \n",
    "    val_sorted = sorted(val_obs)\n",
    "    for val in val_sorted:\n",
    "        if(val <= 2*l):\n",
    "            f_obs[val] += 1\n",
    "        else:\n",
    "            f_obs[2*l + 1] += 1\n",
    "        \n",
    "    return f_obs"
   ]
  },
  {
   "cell_type": "code",
   "execution_count": 41,
   "id": "956ad96d",
   "metadata": {},
   "outputs": [],
   "source": [
    "l = 3"
   ]
  },
  {
   "cell_type": "code",
   "execution_count": 42,
   "id": "1ff43410",
   "metadata": {},
   "outputs": [],
   "source": [
    "val = list()\n",
    "for i in range(n):\n",
    "    val.append(genDRV_puas(l))"
   ]
  },
  {
   "cell_type": "code",
   "execution_count": 43,
   "id": "dca32d7c",
   "metadata": {},
   "outputs": [],
   "source": [
    "# найдем оценки матожидания и дисперсии по сгенерированной выборке\n",
    "e_obs = get_expectation(val)\n",
    "d_obs = get_dispersion(val)"
   ]
  },
  {
   "cell_type": "code",
   "execution_count": 44,
   "id": "a3cb49d8",
   "metadata": {},
   "outputs": [],
   "source": [
    "# для распределения Пуассона матожидание и дисперсия совпадают со значением l \n",
    "e_exp = l\n",
    "d_exp = l"
   ]
  },
  {
   "cell_type": "code",
   "execution_count": 45,
   "id": "e7895910",
   "metadata": {},
   "outputs": [],
   "source": [
    "frec_exp = exp_frec_puas()\n",
    "frec_obs = obs_frec_puas(val)"
   ]
  },
  {
   "cell_type": "code",
   "execution_count": 46,
   "id": "2eec8a15",
   "metadata": {},
   "outputs": [],
   "source": [
    "k = len(frec_exp) - 1\n",
    "delta = stats.chi2(k - 1).ppf(1 - eps)"
   ]
  },
  {
   "cell_type": "code",
   "execution_count": 47,
   "id": "b389bb1f",
   "metadata": {},
   "outputs": [
    {
     "name": "stdout",
     "output_type": "stream",
     "text": [
      "E_exp = 3.00\n",
      "E_obs = 2.88\n",
      "D_exp = 3.00\n",
      "D_obs = 2.70\n",
      "Chisq = 8.25\n",
      "Pass =  True\n"
     ]
    }
   ],
   "source": [
    "print('E_exp = ' + format(e_exp, '.2f'))\n",
    "print('E_obs = ' + format(e_obs, '.2f'))\n",
    "print('D_exp = ' + format(d_exp, '.2f'))\n",
    "print('D_obs = ' + format(d_obs, '.2f'))\n",
    "print('Chisq = ' + format(chisquare(frec_obs, frec_exp), '.2f'))\n",
    "print('Pass = ', chisquare(frec_obs, frec_exp) < delta)"
   ]
  },
  {
   "cell_type": "code",
   "execution_count": 48,
   "id": "0eeb4e68",
   "metadata": {},
   "outputs": [],
   "source": [
    "X_val = range(2*l + 2)\n",
    "X, Ye, Yo = np.array(X_val), np.array(frec_exp), np.array(frec_obs)"
   ]
  },
  {
   "cell_type": "code",
   "execution_count": 49,
   "id": "RDnU764Qo5Ut",
   "metadata": {
    "colab": {
     "base_uri": "https://localhost:8080/",
     "height": 439
    },
    "id": "RDnU764Qo5Ut",
    "outputId": "c0d7eb30-38ad-4fa9-b9aa-cb1ad76418e3"
   },
   "outputs": [
    {
     "data": {
      "image/png": "[encoded data removed]",
      "text/plain": [
       "<Figure size 1080x648 with 1 Axes>"
      ]
     },
     "metadata": {
      "needs_background": "dark"
     },
     "output_type": "display_data"
    }
   ],
   "source": [
    "plt.figure(figsize=(15, 9))\n",
    "plt.plot(X, Ye, 'go')\n",
    "plt.plot(X, Ye, 'g-', label = 'expected')\n",
    "plt.plot(X, Yo, 'ro')\n",
    "plt.plot(X, Yo, 'r-', label = 'observed')\n",
    "plt.legend()\n",
    "plt.show()"
   ]
  },
  {
   "cell_type": "code",
   "execution_count": null,
   "id": "fTTkcngHpwBs",
   "metadata": {
    "id": "fTTkcngHpwBs"
   },
   "outputs": [],
   "source": []
  }
 ],
 "metadata": {
  "colab": {
   "provenance": []
  },
  "kernelspec": {
   "display_name": "Python 3 (ipykernel)",
   "language": "python",
   "name": "python3"
  },
  "language_info": {
   "codemirror_mode": {
    "name": "ipython",
    "version": 3
   },
   "file_extension": ".py",
   "mimetype": "text/x-python",
   "name": "python",
   "nbconvert_exporter": "python",
   "pygments_lexer": "ipython3",
   "version": "3.8.5"
  }
 },
 "nbformat": 4,
 "nbformat_minor": 5
}
