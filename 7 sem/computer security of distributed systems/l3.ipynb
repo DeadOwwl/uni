{
 "cells": [
  {
   "cell_type": "markdown",
   "id": "a8a277be",
   "metadata": {},
   "source": [
    "# L3_KBRS"
   ]
  },
  {
   "cell_type": "code",
   "execution_count": 1,
   "id": "e812fdce",
   "metadata": {},
   "outputs": [],
   "source": [
    "import random\n",
    "from sympy import isprime"
   ]
  },
  {
   "cell_type": "code",
   "execution_count": 4,
   "id": "6839e635",
   "metadata": {},
   "outputs": [],
   "source": [
    "M = 61"
   ]
  },
  {
   "cell_type": "code",
   "execution_count": 2,
   "id": "1fb4ee77",
   "metadata": {},
   "outputs": [],
   "source": [
    "Q = (float('inf'), float('inf'))"
   ]
  },
  {
   "cell_type": "markdown",
   "id": "a3e358a9",
   "metadata": {},
   "source": [
    "Main methods"
   ]
  },
  {
   "cell_type": "code",
   "execution_count": 5,
   "id": "a67a170d",
   "metadata": {},
   "outputs": [],
   "source": [
    "def revers_by_mod(x, M = M):\n",
    "    return pow(x, M - 2, M)"
   ]
  },
  {
   "cell_type": "code",
   "execution_count": 6,
   "id": "ce149ade",
   "metadata": {},
   "outputs": [],
   "source": [
    "def check_a_b(a, b):\n",
    "    return (4 * a**3 + 27 * b**2) % M != 0"
   ]
  },
  {
   "cell_type": "code",
   "execution_count": 7,
   "id": "1e714ed3",
   "metadata": {},
   "outputs": [],
   "source": [
    "def generate_parameters_by_M():\n",
    "    A = []\n",
    "    B = []\n",
    "    for a in range(-M + 1, M):\n",
    "        for b in range(-M + 1, M):\n",
    "            if check_a_b(a, b):\n",
    "                A.append(a)\n",
    "                B.append(b)\n",
    "    return A, B"
   ]
  },
  {
   "cell_type": "code",
   "execution_count": 8,
   "id": "8e073446",
   "metadata": {},
   "outputs": [],
   "source": [
    "def get_elements_of_group(a, b):\n",
    "    if not check_a_b(a, b):\n",
    "        return None\n",
    "    X = []\n",
    "    Y = []\n",
    "    for x in range(0, M):\n",
    "        c = (x**3 + a * x + b) % M\n",
    "        for y in range(0, M):\n",
    "            if y**2 % M == c:\n",
    "                X.append(x)\n",
    "                Y.append(y)\n",
    "    return X, Y"
   ]
  },
  {
   "cell_type": "code",
   "execution_count": 9,
   "id": "d6c0270b",
   "metadata": {},
   "outputs": [],
   "source": [
    "def add_points(x1, y1, x2, y2, a):\n",
    "    if (x1 == x2 and y1 == -y2 % M) :\n",
    "        return Q\n",
    "    if (x1 == Q[0] and y1 == Q[1]):\n",
    "        return (x2, y2)\n",
    "    if y1 == Q[0] and y2 == Q[1]:\n",
    "        return (x1, y1)\n",
    "    if x1 == x2 and y1 == y2:\n",
    "        lambdaa = ((3 * x1**2 + a) * revers_by_mod(2*y1)) % M\n",
    "    else:\n",
    "        lambdaa = ((y2 - y1) * revers_by_mod(x2 - x1)) % M\n",
    "    x3 = (lambdaa**2 - x1 - x2) % M\n",
    "    y3 = (lambdaa * (x1 - x3) - y1) % M\n",
    "    return x3, y3"
   ]
  },
  {
   "cell_type": "code",
   "execution_count": 10,
   "id": "29d67ef1",
   "metadata": {},
   "outputs": [],
   "source": [
    "def mul_point_by_number(x, y, n, a):\n",
    "    ans = (x, y)\n",
    "    while n > 1:\n",
    "        ans = add_points(x, y, *ans, a)\n",
    "        n -= 1\n",
    "    return ans"
   ]
  },
  {
   "cell_type": "code",
   "execution_count": 11,
   "id": "54c424b4",
   "metadata": {},
   "outputs": [],
   "source": [
    "def get_ord(G, a):\n",
    "    G2 = add_points(*G, *G, a)\n",
    "    ord = 1\n",
    "    while True:\n",
    "        if G2 == G:\n",
    "            return ord\n",
    "        else :\n",
    "            G2 = add_points(*G2, *G, a)\n",
    "            ord += 1"
   ]
  },
  {
   "cell_type": "code",
   "execution_count": 12,
   "id": "55b93860",
   "metadata": {},
   "outputs": [],
   "source": [
    "def h(m):\n",
    "    return ord(m[0])"
   ]
  },
  {
   "cell_type": "code",
   "execution_count": 13,
   "id": "87a5fa50",
   "metadata": {},
   "outputs": [],
   "source": [
    "def find_G(a, b):\n",
    "    for x, y in zip(*get_elements_of_group(a, b)):\n",
    "        ord = get_ord((x, y), a)\n",
    "        if isprime(ord) and ord == M:\n",
    "            return (x, y)\n",
    "    return None"
   ]
  },
  {
   "cell_type": "code",
   "execution_count": 14,
   "id": "0e614185",
   "metadata": {},
   "outputs": [],
   "source": [
    "def find_group():\n",
    "    for a, b in zip(*generate_parameters_by_M()):\n",
    "        G = find_G(a, b)\n",
    "        if G != None:\n",
    "            return a, b, G"
   ]
  },
  {
   "cell_type": "code",
   "execution_count": 15,
   "id": "043a04fa",
   "metadata": {},
   "outputs": [],
   "source": [
    "def B_key_exchange(G, PA, a):\n",
    "    nB = random.randint(0, M)\n",
    "\n",
    "    PB = mul_point_by_number(*G, nB, a)\n",
    "    nBPA = mul_point_by_number(*PA, nB, a)\n",
    "    return PB, nBPA"
   ]
  },
  {
   "cell_type": "code",
   "execution_count": 16,
   "id": "2f301e5a",
   "metadata": {},
   "outputs": [],
   "source": [
    "def A_key_exchange(G_, a, b):\n",
    "    nA = random.randint(0, M)\n",
    "\n",
    "    PA = mul_point_by_number(*G_, nA, a)\n",
    "    PB, nBPA = B_key_exchange(G_, PA, a)\n",
    "    nAPB = mul_point_by_number(*PB, nA, a)\n",
    "    return nA, PA, PB, G_, nAPB, nBPA"
   ]
  },
  {
   "cell_type": "code",
   "execution_count": 17,
   "id": "a151017c",
   "metadata": {},
   "outputs": [],
   "source": [
    "def get_ECDSA(G, m, a, nA):\n",
    "    q = get_ord(G, a)\n",
    "    k, r, s = 0, 0, 0\n",
    "    while r == 0 or s == 0:\n",
    "        k = random.randint(2, q - 2)\n",
    "        x1, y1 = mul_point_by_number(*G, k, a)\n",
    "        r = x1 % q\n",
    "        s = (revers_by_mod(k, q) * (h(m) + r * nA)) % q\n",
    "    return r, s"
   ]
  },
  {
   "cell_type": "code",
   "execution_count": 18,
   "id": "cce0e98c",
   "metadata": {},
   "outputs": [],
   "source": [
    "def check_ECDSA(G, m, a, PA, r, s):\n",
    "    q = get_ord(G, a)\n",
    "    if not (r > 1 and r < q - 1 and s > 1 and s < q - 1):\n",
    "        print('Very bad')\n",
    "        return False\n",
    "    w = revers_by_mod(s, q)\n",
    "    u1 = (h(m) * w) % q\n",
    "    u2 = (r * w) % q\n",
    "    x_ , _ = add_points(*mul_point_by_number(*G, u1, a), *mul_point_by_number(*PA, u2, a), a)\n",
    "    r_ = x_ % q\n",
    "    return r_ == r"
   ]
  },
  {
   "cell_type": "markdown",
   "id": "64b99aeb",
   "metadata": {},
   "source": [
    "Main"
   ]
  },
  {
   "cell_type": "code",
   "execution_count": 19,
   "id": "1e53ed35",
   "metadata": {},
   "outputs": [
    {
     "name": "stdout",
     "output_type": "stream",
     "text": [
      "True\n",
      "-59 -54 (2, 18)\n"
     ]
    }
   ],
   "source": [
    "a, b, G = find_group()\n",
    "print(check_a_b(a, b))\n",
    "print(a, b, G)"
   ]
  },
  {
   "cell_type": "code",
   "execution_count": 21,
   "id": "644059e8",
   "metadata": {},
   "outputs": [
    {
     "name": "stdout",
     "output_type": "stream",
     "text": [
      "len(X) =  60\n",
      "[(2, 18), (2, 43), (5, 9), (5, 52), (6, 28), (6, 33), (8, 13), (8, 48), (9, 12), (9, 49), (13, 20), (13, 41), (14, 20), (14, 41), (15, 22), (15, 39), (16, 29), (16, 32), (17, 14), (17, 47), (18, 18), (18, 43), (20, 19), (20, 42), (23, 9), (23, 52), (25, 26), (25, 35), (27, 23), (27, 38), (33, 9), (33, 52), (34, 20), (34, 41), (36, 3), (36, 58), (41, 18), (41, 43), (42, 8), (42, 53), (43, 19), (43, 42), (44, 1), (44, 60), (45, 24), (45, 37), (47, 23), (47, 38), (48, 23), (48, 38), (50, 22), (50, 39), (54, 4), (54, 57), (57, 22), (57, 39), (59, 19), (59, 42), (60, 2), (60, 59)]\n"
     ]
    }
   ],
   "source": [
    "X, Y = get_elements_of_group(a, b)\n",
    "elements = list(zip(X, Y))\n",
    "print('len(X) = ', len(X))\n",
    "print(elements)"
   ]
  },
  {
   "cell_type": "code",
   "execution_count": 26,
   "id": "bcf22d30",
   "metadata": {},
   "outputs": [
    {
     "name": "stdout",
     "output_type": "stream",
     "text": [
      "34 (18, 18) (50, 22) (2, 18) (20, 19) (20, 19)\n"
     ]
    }
   ],
   "source": [
    "nA, PA, PB, G, nAPB, nBPA = A_key_exchange(G, a, b)\n",
    "print(nA, PA, PB, G, nAPB, nBPA)"
   ]
  },
  {
   "cell_type": "code",
   "execution_count": 28,
   "id": "80c2a272",
   "metadata": {},
   "outputs": [
    {
     "name": "stdout",
     "output_type": "stream",
     "text": [
      "45 12 q =  61\n",
      "True\n"
     ]
    }
   ],
   "source": [
    "m = 'ellipse'\n",
    "r, s = get_ECDSA(G, m, a, nA)\n",
    "print(r, s, 'q = ', get_ord(G, a))\n",
    "print(check_ECDSA(G, m, a, PA, r, s))"
   ]
  },
  {
   "cell_type": "code",
   "execution_count": null,
   "id": "f75a8379",
   "metadata": {},
   "outputs": [],
   "source": []
  },
  {
   "cell_type": "code",
   "execution_count": null,
   "id": "ef877f9c",
   "metadata": {},
   "outputs": [],
   "source": []
  }
 ],
 "metadata": {
  "kernelspec": {
   "display_name": "Python 3 (ipykernel)",
   "language": "python",
   "name": "python3"
  },
  "language_info": {
   "codemirror_mode": {
    "name": "ipython",
    "version": 3
   },
   "file_extension": ".py",
   "mimetype": "text/x-python",
   "name": "python",
   "nbconvert_exporter": "python",
   "pygments_lexer": "ipython3",
   "version": "3.8.5"
  }
 },
 "nbformat": 4,
 "nbformat_minor": 5
}
